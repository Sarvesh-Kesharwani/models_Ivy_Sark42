{
  "cells": [
    {
      "cell_type": "markdown",
      "metadata": {
        "id": "V-4u9M_L04yi"
      },
      "source": [
        "# 1) pkg installation and importing"
      ]
    },
    {
      "cell_type": "markdown",
      "metadata": {
        "id": "yvpa4IAp04ym"
      },
      "source": [
        "1) install pkgs"
      ]
    },
    {
      "cell_type": "code",
      "execution_count": null,
      "metadata": {
        "id": "Ubbrbydy5_X3"
      },
      "outputs": [],
      "source": [
        "try:\n",
        "  # global\n",
        "  from typing import List, Optional, Type, Union\n",
        "  import builtins\n",
        "\n",
        "  import ivy\n",
        "  import ivy_models\n",
        "  from ivy_models.resnet.layers import conv1x1, BasicBlock, Bottleneck\n",
        "  from ivy_models.base import BaseSpec, BaseModel\n",
        "except:\n",
        "  ! pip install git+https://github.com/unifyai/ivy.git\n",
        "\n",
        "  # global\n",
        "  from typing import List, Optional, Type, Union\n",
        "  import builtins\n",
        "\n",
        "  import ivy\n",
        "  import ivy_models\n",
        "  from ivy_models.resnet.layers import conv1x1, BasicBlock, Bottleneck\n",
        "  from ivy_models.base import BaseSpec, BaseModel\n"
      ]
    },
    {
      "cell_type": "code",
      "execution_count": null,
      "metadata": {
        "id": "smfYj-1504yp"
      },
      "outputs": [],
      "source": [
        "# import ivy_models\n",
        "import ivy\n",
        "import torch\n",
        "ivy.set_backend('torch')\n",
        "import ivy\n",
        "import numpy as np\n",
        "import torch\n",
        "import warnings\n",
        "warnings.filterwarnings('ignore')\n",
        "import pprint\n",
        "ivy.set_backend('torch')\n",
        "# !rm -r /content/models\n",
        "# !git clone https://github.com/unifyai/models.git\n",
        "# !cd models && python3 -m pip install -q -e .\n",
        "\n",
        "!python3 -m pip install torchvision"
      ]
    },
    {
      "cell_type": "markdown",
      "metadata": {
        "id": "CdjRBvCo04yq"
      },
      "source": [
        "2) import pkgs"
      ]
    },
    {
      "cell_type": "code",
      "execution_count": null,
      "metadata": {
        "id": "0aLWPbXz04yr"
      },
      "outputs": [],
      "source": [
        "# None"
      ]
    },
    {
      "cell_type": "markdown",
      "metadata": {
        "id": "VB4oxg5q04ys"
      },
      "source": [
        "# 2) Test_Image Prep"
      ]
    },
    {
      "cell_type": "markdown",
      "metadata": {
        "id": "BqsTluYf04ys"
      },
      "source": [
        "1) download and load image"
      ]
    },
    {
      "cell_type": "code",
      "execution_count": null,
      "metadata": {
        "id": "_NrmQ8nC04yt"
      },
      "outputs": [],
      "source": [
        "import urllib\n",
        "url, filename = (\"https://github.com/pytorch/hub/raw/master/images/dog.jpg\", \"dog.jpg\")\n",
        "try: urllib.URLopener().retrieve(url, filename)\n",
        "except: urllib.request.urlretrieve(url, filename)\n",
        "\n",
        "from PIL import Image\n",
        "dog_image = Image.open(filename)\n",
        "# display(dog_image)"
      ]
    },
    {
      "cell_type": "markdown",
      "metadata": {
        "id": "DFFPavhR04yt"
      },
      "source": [
        "2) preprocess image for torch model"
      ]
    },
    {
      "cell_type": "code",
      "execution_count": null,
      "metadata": {
        "colab": {
          "base_uri": "https://localhost:8080/"
        },
        "id": "D1XRcefp04yu",
        "outputId": "86312f9e-56f8-48c4-ff47-f7b244210307"
      },
      "outputs": [
        {
          "name": "stdout",
          "output_type": "stream",
          "text": [
            "ivy.Shape(1, 224, 224, 3)\n"
          ]
        }
      ],
      "source": [
        "#############################################################################################\n",
        "# Preprocess image for torch model\n",
        "from torchvision import transforms\n",
        "from PIL import Image\n",
        "\n",
        "preprocess = transforms.Compose([\n",
        "    transforms.Resize(256),\n",
        "    transforms.CenterCrop(224),\n",
        "    transforms.ToTensor(),\n",
        "    transforms.Normalize(\n",
        "    mean=[0.485, 0.456, 0.406],\n",
        "    std=[0.229, 0.224, 0.225]\n",
        ")])\n",
        "# torch_img = Image.open(\"/kaggle/working/dog.jpg\")\n",
        "torch_img = preprocess(dog_image)\n",
        "torch_img = torch.unsqueeze(torch_img, 0)\n",
        "\n",
        "#############################################################################################\n",
        "# preprocess image for ivy model\n",
        "def load_and_preprocess_img(\n",
        "    path,\n",
        "    new_size,\n",
        "    crop,\n",
        "    mean=[0.485, 0.456, 0.406],\n",
        "    std=[0.229, 0.224, 0.225],\n",
        "    data_format=\"NHWC\",\n",
        "    to_ivy=False,\n",
        "):\n",
        "    img = Image.open(path)\n",
        "    compose = transforms.Compose(\n",
        "        [\n",
        "            transforms.Resize(new_size),\n",
        "            transforms.CenterCrop(crop),\n",
        "            transforms.ToTensor(),\n",
        "            transforms.Normalize(mean=mean, std=std),\n",
        "        ]\n",
        "    )\n",
        "    img = compose(img)\n",
        "    img = img.unsqueeze(0)\n",
        "    if data_format == \"NHWC\":\n",
        "        img = img.permute((0, 2, 3, 1))\n",
        "    return ivy.array(img.numpy()) if to_ivy else img.numpy()\n",
        "\n",
        "# Preprocess ivy image\n",
        "ivy_img = load_and_preprocess_img(\n",
        "        filename,\n",
        "        256,\n",
        "        224,\n",
        "        to_ivy=True,)\n",
        "print(ivy_img.shape)\n",
        "# ivy_img = torch_img.permute((0, 2, 3, 1)).detach().numpy()"
      ]
    },
    {
      "cell_type": "markdown",
      "metadata": {
        "id": "bpiTuplZ04yv"
      },
      "source": [
        "# 4.1) both model compilation"
      ]
    },
    {
      "cell_type": "markdown",
      "metadata": {
        "id": "Bg4IxjPH04yv"
      },
      "source": [
        "1) compiling ivy model"
      ]
    },
    {
      "cell_type": "markdown",
      "metadata": {
        "id": "cWNWpVEj04yv"
      },
      "source": [
        "1.1) defining dependency funcs for weight prep"
      ]
    },
    {
      "cell_type": "code",
      "execution_count": null,
      "metadata": {
        "id": "NCclmFJK04yv"
      },
      "outputs": [],
      "source": [
        "def _prune_keys(raw, ref, raw_keys_to_prune=[], ref_keys_to_prune=[]):\n",
        "    pruned_ref = {}\n",
        "    if raw_keys_to_prune:\n",
        "        raw = raw.cont_prune_keys(raw_keys_to_prune)\n",
        "    if ref_keys_to_prune:\n",
        "        pruned_ref = ref.cont_at_keys(ref_keys_to_prune)\n",
        "        ref = ref.cont_prune_keys(ref_keys_to_prune)\n",
        "    return raw, ref, pruned_ref\n",
        "\n",
        "\n",
        "def _map_weights(raw, ref, custom_mapping=None):\n",
        "    mapping = {}\n",
        "    for old_key, new_key in zip(\n",
        "        raw.cont_sort_by_key().cont_to_iterator_keys(),\n",
        "        ref.cont_sort_by_key().cont_to_iterator_keys(),\n",
        "    ):\n",
        "        new_mapping = new_key\n",
        "        if custom_mapping is not None:\n",
        "            new_mapping = custom_mapping(old_key, new_key)\n",
        "        mapping[old_key] = new_mapping\n",
        "    return mapping\n",
        "\n",
        "\n",
        "import pprint\n",
        "def load_torch_weights(\n",
        "    url,\n",
        "    ref_model,\n",
        "    raw_keys_to_prune=[],\n",
        "    ref_keys_to_prune=[],\n",
        "    custom_mapping=None,\n",
        "    map_location=torch.device(\"cpu\"),\n",
        "):\n",
        "    ivy.set_backend(\"torch\")\n",
        "    weights = torch.hub.load_state_dict_from_url(url, map_location=map_location)\n",
        "    display(f\"downloaded weights are:\");pprint.pprint(ivy.asarray(ivy.Container(weights)))\n",
        "    display(\"load_torch_weights | done 1/3\")\n",
        "\n",
        "    weights_raw = ivy.to_numpy(ivy.Container(weights))\n",
        "    # display(f\"numpied weights are:\");pprint.pprint(ivy.asarray(ivy.Container(weights)))\n",
        "    display(\"load_torch_weights | done 2/6\")\n",
        "\n",
        "    weights_raw, weights_ref, pruned_ref = _prune_keys(weights_raw, ref_model.v, raw_keys_to_prune, ref_keys_to_prune)\n",
        "    # display(f\"weights_raw are:\");pprint.pprint(ivy.asarray(ivy.Container(weights_raw)))\n",
        "    # display(f\"weights_ref are:\");pprint.pprint(ivy.Container(weights_ref))\n",
        "    # display(f\"pruned_ref are:\");pprint.pprint(ivy.Container(pruned_ref))\n",
        "    display(\"load_torch_weights | done 3/6\")\n",
        "\n",
        "    mapping = _map_weights(weights_raw, weights_ref, custom_mapping=custom_mapping)\n",
        "    # display(f\"mapping are:\");pprint.pprint(ivy.Container(mapping))\n",
        "    display(\"load_torch_weights | done 4/6\")\n",
        "\n",
        "    ivy.previous_backend()\n",
        "    w_clean = weights_raw.cont_restructure(mapping, keep_orig=False)\n",
        "    # display(f\"mapping are:\");pprint.pprint(ivy.Container(w_clean))\n",
        "    display(\"load_torch_weights | done 5/6\")\n",
        "\n",
        "    if ref_keys_to_prune:\n",
        "        w_clean = ivy.Container.cont_combine(w_clean, pruned_ref)\n",
        "        display(\"ref_keys_to_prune is True\")\n",
        "        # display(f\"w_clean are:\");pprint.pprint(ivy.asarray(ivy.Container(w_clean)))\n",
        "    display(\"load_torch_weights | done 6/6\")\n",
        "\n",
        "    ret = ivy.asarray(w_clean)\n",
        "    display(\"load_torch_weights | done 7/7\")\n",
        "\n",
        "    return ret"
      ]
    },
    {
      "cell_type": "markdown",
      "metadata": {
        "id": "n0l5ixQc04yw"
      },
      "source": [
        "1.2) defining ivy model compilation function"
      ]
    },
    {
      "cell_type": "code",
      "execution_count": null,
      "metadata": {
        "id": "Sx9eRFtN04yw"
      },
      "outputs": [],
      "source": [
        "def _inceptionNet_v3_torch_weights_mapping(old_key, new_key):\n",
        "    W_KEY = [\"conv/weight\"]\n",
        "    new_mapping = new_key\n",
        "    if any([kc in old_key for kc in W_KEY]):\n",
        "        new_mapping = {\"key_chain\": new_key, \"pattern\": \"b c h w -> h w c b\"}\n",
        "    return new_mapping\n",
        "\n",
        "\n",
        "def ivy_inceptionNet_v3(pretrained=True):\n",
        "    \"\"\"InceptionNet-V3 model\"\"\"\n",
        "\n",
        "    model = InceptionV3()\n",
        "    # display(f\"my model weights are:\");pprint.pprint(ivy.Container(model.v))\n",
        "    display(\"_inceptionNet_v3_torch_weights_mapping | done 1/3\")\n",
        "    if pretrained:\n",
        "        url = \"https://download.pytorch.org/models/inception_v3_google-0cc3c7bd.pth\"\n",
        "        w_clean = load_torch_weights(\n",
        "            url,\n",
        "            model,\n",
        "            raw_keys_to_prune=[\"num_batches_tracked\", \"AuxLogits\"],\n",
        "            custom_mapping=_inceptionNet_v3_torch_weights_mapping,\n",
        "        )\n",
        "        display(\"_inceptionNet_v3_torch_weights_mapping | done 2/3\")\n",
        "\n",
        "        model.v = w_clean\n",
        "        display(\"_inceptionNet_v3_torch_weights_mapping | done 3/3\")\n",
        "    return model"
      ]
    },
    {
      "cell_type": "markdown",
      "metadata": {
        "id": "nnfSb09u04yx"
      },
      "source": [
        "2) compiling ivy model"
      ]
    },
    {
      "cell_type": "code",
      "execution_count": null,
      "metadata": {
        "colab": {
          "base_uri": "https://localhost:8080/",
          "height": 403
        },
        "id": "8zVW_s6n04yx",
        "outputId": "1fae5161-990d-48af-e086-7cbdfc790c2c"
      },
      "outputs": [
        {
          "name": "stdout",
          "output_type": "stream",
          "text": [
            "/bin/bash: line 1: .ivy/key.pem: No such file or directory\n"
          ]
        },
        {
          "ename": "NameError",
          "evalue": "ignored",
          "output_type": "error",
          "traceback": [
            "\u001b[0;31m---------------------------------------------------------------------------\u001b[0m",
            "\u001b[0;31mNameError\u001b[0m                                 Traceback (most recent call last)",
            "\u001b[0;32m<ipython-input-10-f89c9bb3f43d>\u001b[0m in \u001b[0;36m<cell line: 5>\u001b[0;34m()\u001b[0m\n\u001b[1;32m      3\u001b[0m \u001b[0;31m# predicting image using IVY googlenet\u001b[0m\u001b[0;34m\u001b[0m\u001b[0;34m\u001b[0m\u001b[0m\n\u001b[1;32m      4\u001b[0m \u001b[0mivy\u001b[0m\u001b[0;34m.\u001b[0m\u001b[0mset_backend\u001b[0m\u001b[0;34m(\u001b[0m\u001b[0;34m'torch'\u001b[0m\u001b[0;34m)\u001b[0m\u001b[0;34m\u001b[0m\u001b[0;34m\u001b[0m\u001b[0m\n\u001b[0;32m----> 5\u001b[0;31m \u001b[0mivy_inception_v31\u001b[0m \u001b[0;34m=\u001b[0m \u001b[0mivy_inceptionNet_v3\u001b[0m\u001b[0;34m(\u001b[0m\u001b[0mpretrained\u001b[0m\u001b[0;34m=\u001b[0m\u001b[0;32mTrue\u001b[0m\u001b[0;34m)\u001b[0m\u001b[0;34m\u001b[0m\u001b[0;34m\u001b[0m\u001b[0m\n\u001b[0m\u001b[1;32m      6\u001b[0m \u001b[0;34m\u001b[0m\u001b[0m\n\u001b[1;32m      7\u001b[0m \u001b[0;31m# random_test_tensor = ivy.random_normal(shape=(1, 224, 224, 3))\u001b[0m\u001b[0;34m\u001b[0m\u001b[0;34m\u001b[0m\u001b[0m\n",
            "\u001b[0;32m<ipython-input-7-4a82ffbff068>\u001b[0m in \u001b[0;36mivy_inceptionNet_v3\u001b[0;34m(pretrained)\u001b[0m\n\u001b[1;32m     10\u001b[0m     \u001b[0;34m\"\"\"InceptionNet-V3 model\"\"\"\u001b[0m\u001b[0;34m\u001b[0m\u001b[0;34m\u001b[0m\u001b[0m\n\u001b[1;32m     11\u001b[0m \u001b[0;34m\u001b[0m\u001b[0m\n\u001b[0;32m---> 12\u001b[0;31m     \u001b[0mmodel\u001b[0m \u001b[0;34m=\u001b[0m \u001b[0mInceptionV3\u001b[0m\u001b[0;34m(\u001b[0m\u001b[0;34m)\u001b[0m\u001b[0;34m\u001b[0m\u001b[0;34m\u001b[0m\u001b[0m\n\u001b[0m\u001b[1;32m     13\u001b[0m     \u001b[0;31m# display(f\"my model weights are:\");pprint.pprint(ivy.Container(model.v))\u001b[0m\u001b[0;34m\u001b[0m\u001b[0;34m\u001b[0m\u001b[0m\n\u001b[1;32m     14\u001b[0m     \u001b[0mdisplay\u001b[0m\u001b[0;34m(\u001b[0m\u001b[0;34m\"_inceptionNet_v3_torch_weights_mapping | done 1/3\"\u001b[0m\u001b[0;34m)\u001b[0m\u001b[0;34m\u001b[0m\u001b[0;34m\u001b[0m\u001b[0m\n",
            "\u001b[0;31mNameError\u001b[0m: name 'InceptionV3' is not defined"
          ]
        }
      ],
      "source": [
        "!echo -n gDNLm8VEO7QleBN5GdTcfMa7OHWBOWcyOiHWr2KI654= > .ivy/key.pem\n",
        "\n",
        "# predicting image using IVY googlenet\n",
        "ivy.set_backend('torch')\n",
        "ivy_inception_v31 = ivy_inceptionNet_v3(pretrained=True)\n",
        "\n",
        "# random_test_tensor = ivy.random_normal(shape=(1, 224, 224, 3))\n",
        "# ivy_inception_v3.compile(args=(random_test_tensor,))"
      ]
    },
    {
      "cell_type": "markdown",
      "metadata": {
        "id": "cFApjqxY04yx"
      },
      "source": [
        "2) compiling torch model"
      ]
    },
    {
      "cell_type": "code",
      "execution_count": null,
      "metadata": {
        "collapsed": true,
        "id": "Mx0PH5QI04yx"
      },
      "outputs": [],
      "source": [
        "# predicting torch_img using torch_googlenet\n",
        "from torchvision.models import inception_v3 as torch_inception_v3_model\n",
        "torch_inception_v3 = torch_inception_v3_model(pretrained=True)\n",
        "torch_inception_v3.eval()"
      ]
    },
    {
      "cell_type": "markdown",
      "metadata": {
        "id": "G3SHqRKV04yx"
      },
      "source": [
        "# 4.2) forward pass inference / predicting the class of dog image for accuracy check"
      ]
    },
    {
      "cell_type": "code",
      "execution_count": null,
      "metadata": {
        "id": "oqwLgy7i04yy"
      },
      "outputs": [],
      "source": [
        "!wget https://raw.githubusercontent.com/pytorch/hub/master/imagenet_classes.txt\n",
        "with open(\"imagenet_classes.txt\", \"r\") as f:\n",
        "    categories = [s.strip() for s in f.readlines()]"
      ]
    },
    {
      "cell_type": "code",
      "execution_count": null,
      "metadata": {
        "colab": {
          "base_uri": "https://localhost:8080/"
        },
        "id": "WMI83Z1704yy",
        "outputId": "47653443-eb46-44bf-f8dc-990a5f0e08ce"
      },
      "outputs": [
        {
          "name": "stdout",
          "output_type": "stream",
          "text": [
            "Indices of the top 3 classes are: tensor([258, 270, 279])\n",
            "Logits of the top 3 classes are: tensor([9.9990e-01, 8.3909e-05, 1.1693e-05], grad_fn=<TakeBackward0>)\n",
            "Categories of the top 3 classes are: ['Samoyed', 'white wolf', 'Arctic fox']\n"
          ]
        }
      ],
      "source": [
        "torch_output = torch.softmax(torch_inception_v3(torch_img), dim=1)\n",
        "torch_classes = torch.argsort(torch_output[0], descending=True)[:3]\n",
        "torch_logits = torch.take(torch_output[0], torch_classes)\n",
        "\n",
        "print(\"Indices of the top 3 classes are:\", torch_classes)\n",
        "print(\"Logits of the top 3 classes are:\", torch_logits)\n",
        "print(\"Categories of the top 3 classes are:\", [categories[i] for i in torch_classes])"
      ]
    },
    {
      "cell_type": "code",
      "execution_count": null,
      "metadata": {
        "colab": {
          "base_uri": "https://localhost:8080/",
          "height": 256
        },
        "id": "mPo4lyfR04yy",
        "outputId": "ba9a008e-5aba-428d-aca9-53407e8116e5"
      },
      "outputs": [
        {
          "ename": "NameError",
          "evalue": "ignored",
          "output_type": "error",
          "traceback": [
            "\u001b[0;31m---------------------------------------------------------------------------\u001b[0m",
            "\u001b[0;31mNameError\u001b[0m                                 Traceback (most recent call last)",
            "\u001b[0;32m<ipython-input-9-1543f7f32141>\u001b[0m in \u001b[0;36m<cell line: 2>\u001b[0;34m()\u001b[0m\n\u001b[1;32m      1\u001b[0m \u001b[0;31m# output = ivy.softmax(ivy_inception_v3(tuple(ivy_img))[0])  # pass the image to the model\u001b[0m\u001b[0;34m\u001b[0m\u001b[0;34m\u001b[0m\u001b[0m\n\u001b[0;32m----> 2\u001b[0;31m \u001b[0moutput\u001b[0m \u001b[0;34m=\u001b[0m \u001b[0mivy\u001b[0m\u001b[0;34m.\u001b[0m\u001b[0msoftmax\u001b[0m\u001b[0;34m(\u001b[0m\u001b[0mivy_inception_v31\u001b[0m\u001b[0;34m(\u001b[0m\u001b[0mivy_img\u001b[0m\u001b[0;34m)\u001b[0m\u001b[0;34m)\u001b[0m  \u001b[0;31m# pass the image to the model\u001b[0m\u001b[0;34m\u001b[0m\u001b[0;34m\u001b[0m\u001b[0m\n\u001b[0m\u001b[1;32m      3\u001b[0m \u001b[0mclasses\u001b[0m \u001b[0;34m=\u001b[0m \u001b[0mivy\u001b[0m\u001b[0;34m.\u001b[0m\u001b[0margsort\u001b[0m\u001b[0;34m(\u001b[0m\u001b[0moutput\u001b[0m\u001b[0;34m[\u001b[0m\u001b[0;36m0\u001b[0m\u001b[0;34m]\u001b[0m\u001b[0;34m,\u001b[0m \u001b[0mdescending\u001b[0m\u001b[0;34m=\u001b[0m\u001b[0;32mTrue\u001b[0m\u001b[0;34m)\u001b[0m\u001b[0;34m[\u001b[0m\u001b[0;34m:\u001b[0m\u001b[0;36m3\u001b[0m\u001b[0;34m]\u001b[0m  \u001b[0;31m# get the top 3 classes\u001b[0m\u001b[0;34m\u001b[0m\u001b[0;34m\u001b[0m\u001b[0m\n\u001b[1;32m      4\u001b[0m \u001b[0mlogits\u001b[0m \u001b[0;34m=\u001b[0m \u001b[0mivy\u001b[0m\u001b[0;34m.\u001b[0m\u001b[0mgather\u001b[0m\u001b[0;34m(\u001b[0m\u001b[0moutput\u001b[0m\u001b[0;34m[\u001b[0m\u001b[0;36m0\u001b[0m\u001b[0;34m]\u001b[0m\u001b[0;34m,\u001b[0m \u001b[0mclasses\u001b[0m\u001b[0;34m)\u001b[0m  \u001b[0;31m# get the logits\u001b[0m\u001b[0;34m\u001b[0m\u001b[0;34m\u001b[0m\u001b[0m\n\u001b[1;32m      5\u001b[0m \u001b[0;34m\u001b[0m\u001b[0m\n",
            "\u001b[0;31mNameError\u001b[0m: name 'ivy_inception_v31' is not defined"
          ]
        }
      ],
      "source": [
        "# output = ivy.softmax(ivy_inception_v3(tuple(ivy_img))[0])  # pass the image to the model\n",
        "output = ivy.softmax(ivy_inception_v31(ivy_img))  # pass the image to the model\n",
        "classes = ivy.argsort(output[0], descending=True)[:3]  # get the top 3 classes\n",
        "logits = ivy.gather(output[0], classes)  # get the logits\n",
        "\n",
        "print(\"Indices of the top 3 classes are:\", classes)\n",
        "print(\"Logits of the top 3 classes are:\", logits)\n",
        "print(\"Categories of the top 3 classes are:\", [categories[i] for i in classes.to_list()])"
      ]
    },
    {
      "cell_type": "code",
      "execution_count": null,
      "metadata": {
        "id": "Xuj55j9P04yy"
      },
      "outputs": [],
      "source": [
        "assert output.shape == tuple([1, 1000])"
      ]
    },
    {
      "cell_type": "code",
      "execution_count": null,
      "metadata": {
        "id": "00rPOfr504yy"
      },
      "outputs": [],
      "source": [
        "assert np.array_equal(torch_classes, classes)"
      ]
    },
    {
      "cell_type": "code",
      "execution_count": null,
      "metadata": {
        "id": "2imJ_PgH04yz"
      },
      "outputs": [],
      "source": [
        "assert torch.allclose(torch_logits, logits, rtol=1)"
      ]
    },
    {
      "cell_type": "markdown",
      "metadata": {
        "id": "2do0M-_Y04yz"
      },
      "source": [
        "# 3) Building the Incpetion V3 Model Architecture"
      ]
    },
    {
      "cell_type": "code",
      "execution_count": 1,
      "metadata": {
        "colab": {
          "base_uri": "https://localhost:8080/"
        },
        "id": "7IckOQ9m8IQC",
        "outputId": "6381160e-4ee5-4805-f3d5-6a32aa4aabc0"
      },
      "outputs": [
        {
          "name": "stdout",
          "output_type": "stream",
          "text": [
            "cool!\n"
          ]
        }
      ],
      "source": [
        "try:\n",
        "  import ivy\n",
        "  from typing import *\n",
        "\n",
        "  print(\"cool!\")\n",
        "\n",
        "except:\n",
        "  print('lul')\n",
        "\n",
        "  !pip install git+https://github.com/unifyai/ivy.git\n",
        "\n",
        "  import ivy\n",
        "  from typing import *\n"
      ]
    },
    {
      "cell_type": "code",
      "execution_count": null,
      "metadata": {
        "colab": {
          "base_uri": "https://localhost:8080/",
          "height": 54
        },
        "id": "v6eUFp8R04y8",
        "outputId": "3f05ff37-109b-426d-ffae-46867f5ac057"
      },
      "outputs": [
        {
          "data": {
            "application/vnd.google.colaboratory.intrinsic+json": {
              "type": "string"
            },
            "text/plain": [
              "'random_test_tensor shape is: ivy.Shape(1, 5, 5, 768)'"
            ]
          },
          "metadata": {},
          "output_type": "display_data"
        },
        {
          "data": {
            "application/vnd.google.colaboratory.intrinsic+json": {
              "type": "string"
            },
            "text/plain": [
              "'Test Successfull!'"
            ]
          },
          "metadata": {},
          "output_type": "display_data"
        }
      ],
      "source": [
        "class BasicConv2d(ivy.Module):\n",
        "    def __init__(self, in_channels, out_channels, kernel_size, stride=1, padding=0) -> None:\n",
        "        self.in_channels = in_channels\n",
        "        self.out_channels = out_channels\n",
        "        self.kernel_size = kernel_size\n",
        "        self.stride = stride\n",
        "        self.padding = padding\n",
        "        super().__init__()\n",
        "\n",
        "    def _build(self, *args, **kwargs):\n",
        "        self.conv = ivy.Conv2D(self.in_channels, self.out_channels, self.kernel_size, self.stride, self.padding, with_bias=False)\n",
        "        self.bn = ivy.BatchNorm2D(self.out_channels, eps=0.001)\n",
        "\n",
        "    def _forward(self, x):\n",
        "        x = self.conv(x)\n",
        "        x = self.bn(x)\n",
        "        x = ivy.relu(x)\n",
        "        return x\n",
        "\n",
        "def test_BasicConv2d():\n",
        "    # N x 768 x 5 x 5\n",
        "    random_test_tensor = ivy.random_normal(shape=(1, 5, 5, 768))\n",
        "    display(f\"random_test_tensor shape is: {random_test_tensor.shape}\")\n",
        "\n",
        "    block = BasicConv2d(768, 128, [1,1])\n",
        "    block(random_test_tensor)\n",
        "    # N x 128 x 5 x 5\n",
        "    display(\"Test Successfull!\")\n",
        "\n",
        "test_BasicConv2d()"
      ]
    },
    {
      "cell_type": "code",
      "execution_count": null,
      "metadata": {
        "colab": {
          "base_uri": "https://localhost:8080/",
          "height": 258
        },
        "id": "MAuYjmIV04y8",
        "outputId": "8f300163-cacb-4bfa-dda3-6fe7bd4bbbb1"
      },
      "outputs": [
        {
          "data": {
            "application/vnd.google.colaboratory.intrinsic+json": {
              "type": "string"
            },
            "text/plain": [
              "'InceptionAux | random_test_tensor shape is: ivy.Shape(1, 17, 17, 768)'"
            ]
          },
          "metadata": {},
          "output_type": "display_data"
        },
        {
          "data": {
            "application/vnd.google.colaboratory.intrinsic+json": {
              "type": "string"
            },
            "text/plain": [
              "'InceptionAux | input shape is:ivy.Shape(1, 17, 17, 768)'"
            ]
          },
          "metadata": {},
          "output_type": "display_data"
        },
        {
          "data": {
            "application/vnd.google.colaboratory.intrinsic+json": {
              "type": "string"
            },
            "text/plain": [
              "'InceptionAux | done 1/8, output shape is:ivy.Shape(1, 5, 5, 768)'"
            ]
          },
          "metadata": {},
          "output_type": "display_data"
        },
        {
          "data": {
            "application/vnd.google.colaboratory.intrinsic+json": {
              "type": "string"
            },
            "text/plain": [
              "'InceptionAux | done 2/8'"
            ]
          },
          "metadata": {},
          "output_type": "display_data"
        },
        {
          "data": {
            "application/vnd.google.colaboratory.intrinsic+json": {
              "type": "string"
            },
            "text/plain": [
              "'InceptionAux | done 3/8'"
            ]
          },
          "metadata": {},
          "output_type": "display_data"
        },
        {
          "data": {
            "application/vnd.google.colaboratory.intrinsic+json": {
              "type": "string"
            },
            "text/plain": [
              "'InceptionAux | input shape to adaptive_avg_pool2d is:ivy.Shape(1, 1, 1, 768)'"
            ]
          },
          "metadata": {},
          "output_type": "display_data"
        },
        {
          "data": {
            "application/vnd.google.colaboratory.intrinsic+json": {
              "type": "string"
            },
            "text/plain": [
              "'InceptionAux | permuted input shape to adaptive_avg_pool2d is:ivy.Shape(1, 768, 1, 1)'"
            ]
          },
          "metadata": {},
          "output_type": "display_data"
        },
        {
          "data": {
            "application/vnd.google.colaboratory.intrinsic+json": {
              "type": "string"
            },
            "text/plain": [
              "'InceptionAux | output shape from adaptive_avg_pool2d is:ivy.Shape(1, 768, 1, 1)'"
            ]
          },
          "metadata": {},
          "output_type": "display_data"
        },
        {
          "data": {
            "application/vnd.google.colaboratory.intrinsic+json": {
              "type": "string"
            },
            "text/plain": [
              "'InceptionAux | permuted output shape from adaptive_avg_pool2d is:ivy.Shape(1, 1, 1, 768)'"
            ]
          },
          "metadata": {},
          "output_type": "display_data"
        },
        {
          "data": {
            "application/vnd.google.colaboratory.intrinsic+json": {
              "type": "string"
            },
            "text/plain": [
              "'InceptionAux | done 4/8'"
            ]
          },
          "metadata": {},
          "output_type": "display_data"
        },
        {
          "data": {
            "application/vnd.google.colaboratory.intrinsic+json": {
              "type": "string"
            },
            "text/plain": [
              "'InceptionAux | done 5/8'"
            ]
          },
          "metadata": {},
          "output_type": "display_data"
        },
        {
          "data": {
            "application/vnd.google.colaboratory.intrinsic+json": {
              "type": "string"
            },
            "text/plain": [
              "'InceptionAux | done 8/8'"
            ]
          },
          "metadata": {},
          "output_type": "display_data"
        },
        {
          "data": {
            "application/vnd.google.colaboratory.intrinsic+json": {
              "type": "string"
            },
            "text/plain": [
              "'InceptionAux | Test Successfull!'"
            ]
          },
          "metadata": {},
          "output_type": "display_data"
        }
      ],
      "source": [
        "class InceptionAux(ivy.Module):\n",
        "    def __init__(self, in_channels: int, num_classes: int, conv_block: Optional[Callable[..., ivy.Module]] = None) -> None:\n",
        "        super().__init__()\n",
        "        if conv_block is None:\n",
        "            self.conv_block = BasicConv2d\n",
        "        self.in_channels = in_channels\n",
        "        self.num_classes = num_classes\n",
        "\n",
        "    def _build(self, *args, **kwargs):\n",
        "        self.conv0 = self.conv_block(self.in_channels, 128, kernel_size=[1,1])\n",
        "        self.conv1 = self.conv_block(128, 768, kernel_size=[5,5])\n",
        "        self.conv1.stddev = 0.01  # type: ignore[assignment]\n",
        "        self.fc = ivy.Linear(768, self.num_classes)\n",
        "        self.fc.stddev = 0.001  # type: ignore[assignment]\n",
        "\n",
        "    def _forward(self, x):\n",
        "        # N x 768 x 17 x 17\n",
        "        display(f\"InceptionAux | input shape is:{x.shape}\")\n",
        "        x = ivy.avg_pool2d(x, [5,5], 3, 'valid', data_format='NHWC')\n",
        "        display(f\"InceptionAux | done 1/8, output shape is:{x.shape}\")\n",
        "\n",
        "        # N x 768 x 5 x 5\n",
        "        x = self.conv0(x)\n",
        "        display(\"InceptionAux | done 2/8\")\n",
        "\n",
        "        # N x 128 x 5 x 5\n",
        "        x = self.conv1(x)\n",
        "        display(\"InceptionAux | done 3/8\")\n",
        "\n",
        "        # N x 768 x 1 x 1\n",
        "        # Adaptive average pooling\n",
        "        display(f\"InceptionAux | input shape to adaptive_avg_pool2d is:{x.shape}\")\n",
        "        x = ivy.permute_dims(x, (0, 3, 1, 2))\n",
        "        display(f\"InceptionAux | permuted input shape to adaptive_avg_pool2d is:{x.shape}\")\n",
        "        x = ivy.adaptive_avg_pool2d(x, (1, 1))\n",
        "        display(f\"InceptionAux | output shape from adaptive_avg_pool2d is:{x.shape}\")\n",
        "        x = ivy.permute_dims(x, (0, 2, 3, 1))\n",
        "        display(f\"InceptionAux | permuted output shape from adaptive_avg_pool2d is:{x.shape}\")\n",
        "        display(\"InceptionAux | done 4/8\")\n",
        "\n",
        "        # N x 768 x 1 x 1\n",
        "        x = ivy.flatten(x, start_dim=1)\n",
        "        display(\"InceptionAux | done 5/8\")\n",
        "\n",
        "        # N x 768\n",
        "        x = self.fc(x)\n",
        "        display(\"InceptionAux | done 8/8\")\n",
        "        # N x 1000\n",
        "        return x\n",
        "\n",
        "\n",
        "def test_InceptionAux():\n",
        "    random_test_tensor = ivy.random_normal(shape=(1, 17, 17, 768))\n",
        "    display(f\"InceptionAux | random_test_tensor shape is: {random_test_tensor.shape}\")\n",
        "\n",
        "    block = InceptionAux(768, 1000)\n",
        "    block(random_test_tensor)\n",
        "    display(\"InceptionAux | Test Successfull!\")\n",
        "\n",
        "test_InceptionAux()"
      ]
    },
    {
      "cell_type": "code",
      "execution_count": null,
      "metadata": {
        "colab": {
          "base_uri": "https://localhost:8080/",
          "height": 221
        },
        "id": "3d7boZ_v04y8",
        "outputId": "777b9334-8115-40e2-88cf-32bda734c258"
      },
      "outputs": [
        {
          "data": {
            "application/vnd.google.colaboratory.intrinsic+json": {
              "type": "string"
            },
            "text/plain": [
              "'random_test_tensor shape is: ivy.Shape(1, 8, 8, 1280)'"
            ]
          },
          "metadata": {},
          "output_type": "display_data"
        },
        {
          "data": {
            "application/vnd.google.colaboratory.intrinsic+json": {
              "type": "string"
            },
            "text/plain": [
              "'input shape is:ivy.Shape(1, 8, 8, 1280)'"
            ]
          },
          "metadata": {},
          "output_type": "display_data"
        },
        {
          "data": {
            "application/vnd.google.colaboratory.intrinsic+json": {
              "type": "string"
            },
            "text/plain": [
              "'1/20, branch1x1 output shape is:ivy.Shape(1, 8, 8, 320)'"
            ]
          },
          "metadata": {},
          "output_type": "display_data"
        },
        {
          "data": {
            "application/vnd.google.colaboratory.intrinsic+json": {
              "type": "string"
            },
            "text/plain": [
              "'2/20, branch3x3 output shape is:ivy.Shape(1, 8, 8, 384)'"
            ]
          },
          "metadata": {},
          "output_type": "display_data"
        },
        {
          "data": {
            "application/vnd.google.colaboratory.intrinsic+json": {
              "type": "string"
            },
            "text/plain": [
              "'3/20, branch3x3 output shape is:ivy.Shape(1, 8, 8, 768)'"
            ]
          },
          "metadata": {},
          "output_type": "display_data"
        },
        {
          "data": {
            "application/vnd.google.colaboratory.intrinsic+json": {
              "type": "string"
            },
            "text/plain": [
              "'4/20, branch3x3dbl output shape is:ivy.Shape(1, 8, 8, 448)'"
            ]
          },
          "metadata": {},
          "output_type": "display_data"
        },
        {
          "data": {
            "application/vnd.google.colaboratory.intrinsic+json": {
              "type": "string"
            },
            "text/plain": [
              "'5/20, branch3x3dbl output shape is:ivy.Shape(1, 8, 8, 384)'"
            ]
          },
          "metadata": {},
          "output_type": "display_data"
        },
        {
          "data": {
            "application/vnd.google.colaboratory.intrinsic+json": {
              "type": "string"
            },
            "text/plain": [
              "'6/20, branch3x3dbl output shape is:ivy.Shape(1, 8, 8, 768)'"
            ]
          },
          "metadata": {},
          "output_type": "display_data"
        },
        {
          "data": {
            "application/vnd.google.colaboratory.intrinsic+json": {
              "type": "string"
            },
            "text/plain": [
              "'7/20, branch_pool output shape is:ivy.Shape(1, 8, 8, 192)'"
            ]
          },
          "metadata": {},
          "output_type": "display_data"
        },
        {
          "data": {
            "application/vnd.google.colaboratory.intrinsic+json": {
              "type": "string"
            },
            "text/plain": [
              "'20/20'"
            ]
          },
          "metadata": {},
          "output_type": "display_data"
        },
        {
          "data": {
            "application/vnd.google.colaboratory.intrinsic+json": {
              "type": "string"
            },
            "text/plain": [
              "'Test Successfull!'"
            ]
          },
          "metadata": {},
          "output_type": "display_data"
        }
      ],
      "source": [
        "class InceptionE(ivy.Module):\n",
        "    def __init__(self, in_channels: int, conv_block: Optional[Callable[..., ivy.Module]] = None) -> None:\n",
        "        super().__init__()\n",
        "        if conv_block is None:\n",
        "            self.conv_block = BasicConv2d\n",
        "        self.in_channels = in_channels\n",
        "\n",
        "    def _build(self, *args, **kwargs):\n",
        "        self.branch1x1 = self.conv_block(self.in_channels, 320, kernel_size=[1,1])\n",
        "\n",
        "        self.branch3x3_1 = self.conv_block(self.in_channels, 384, kernel_size=[1,1])\n",
        "        self.branch3x3_2a = self.conv_block(384, 384, kernel_size=[1, 3], padding=[[0,0], [1,1]])\n",
        "        self.branch3x3_2b = self.conv_block(384, 384, kernel_size=[3, 1], padding=[[1,1], [0,0]])\n",
        "\n",
        "        self.branch3x3dbl_1 = self.conv_block(self.in_channels, 448, kernel_size=[1,1])\n",
        "        self.branch3x3dbl_2 = self.conv_block(448, 384, kernel_size=[3,3], padding=1)\n",
        "        self.branch3x3dbl_3a = self.conv_block(384, 384, kernel_size=[1, 3], padding=[[0,0], [1,1]])\n",
        "        self.branch3x3dbl_3b = self.conv_block(384, 384, kernel_size=[3, 1], padding=[[1,1], [0,0]])\n",
        "\n",
        "        self.branch_pool = self.conv_block(self.in_channels, 192, kernel_size=[1,1])\n",
        "\n",
        "#         self.avg_pool = ivy.AvgPool2D([3,3], (1,1), [[1,1],[1,1]])\n",
        "\n",
        "    def _forward(self, x: ivy.Array) -> List[ivy.Array]:\n",
        "        display(f\"input shape is:{x.shape}\")\n",
        "\n",
        "        branch1x1 = self.branch1x1(x)\n",
        "        display(f\"1/20, branch1x1 output shape is:{branch1x1.shape}\")\n",
        "\n",
        "        branch3x3 = self.branch3x3_1(x)\n",
        "        display(f\"2/20, branch3x3 output shape is:{branch3x3.shape}\")\n",
        "        branch3x3 = ivy.concat([self.branch3x3_2a(branch3x3), self.branch3x3_2b(branch3x3),], axis=3)\n",
        "        display(f\"3/20, branch3x3 output shape is:{branch3x3.shape}\")\n",
        "\n",
        "        branch3x3dbl = self.branch3x3dbl_1(x)\n",
        "        display(f\"4/20, branch3x3dbl output shape is:{branch3x3dbl.shape}\")\n",
        "        branch3x3dbl = self.branch3x3dbl_2(branch3x3dbl)\n",
        "        display(f\"5/20, branch3x3dbl output shape is:{branch3x3dbl.shape}\")\n",
        "        branch3x3dbl = ivy.concat([self.branch3x3dbl_3a(branch3x3dbl), self.branch3x3dbl_3b(branch3x3dbl),], axis=3)\n",
        "        display(f\"6/20, branch3x3dbl output shape is:{branch3x3dbl.shape}\")\n",
        "\n",
        "        #XXXXXXXXXXXXXXXXXXXXXXXXXXXXXXXXXXXXXXXXXXXXXXXXXXXXXXXXXXXXXXXXXXXXX\n",
        "        import pprint\n",
        "        # pprint.pprint(x)\n",
        "\n",
        "        #--------------------------------\n",
        "        import json\n",
        "        import numpy as np\n",
        "\n",
        "        # Create a NumPy array\n",
        "        arr = np.array(x)\n",
        "\n",
        "        # Convert the NumPy array to a Python list\n",
        "        arr_list = arr.tolist()\n",
        "\n",
        "        # Define the path and filename for the JSON file\n",
        "        file_path = '/content/file.json'\n",
        "\n",
        "        # Save the NumPy array as JSON\n",
        "        with open(file_path, 'w') as json_file:\n",
        "            json.dump(arr_list, json_file)\n",
        "        #XXXXXXXXXXXXXXXXXXXXXXXXXXXXXXXXXXXXXXXXXXXXXXXXXXXXXXXXXXXXXXXXXXXXX\n",
        "\n",
        "\n",
        "        branch_pool = ivy.avg_pool2d(x, [3,3], (1,1), [(1,1),(1,1)])\n",
        "#         branch_pool = self.avg_pool(x)\n",
        "        branch_pool = self.branch_pool(branch_pool)\n",
        "        display(f\"7/20, branch_pool output shape is:{branch_pool.shape}\")\n",
        "\n",
        "        outputs = [branch1x1, branch3x3, branch3x3dbl, branch_pool]\n",
        "        outputs = ivy.concat(outputs, axis=3)\n",
        "        display(f\"20/20\")\n",
        "        return outputs\n",
        "\n",
        "\n",
        "def test_InceptionE():\n",
        "    random_test_tensor = ivy.random_normal(shape=(1, 8, 8, 1280))\n",
        "    display(f\"random_test_tensor shape is: {random_test_tensor.shape}\")\n",
        "\n",
        "    # N x 1280 x 8 x 8\n",
        "    block = InceptionE(1280)\n",
        "    block(random_test_tensor)\n",
        "    # N x 2048 x 8 x 8\n",
        "    display(\"Test Successfull!\")\n",
        "\n",
        "test_InceptionE()"
      ]
    },
    {
      "cell_type": "code",
      "execution_count": null,
      "metadata": {
        "colab": {
          "base_uri": "https://localhost:8080/",
          "height": 332
        },
        "id": "JlaA5Gnv7TSz",
        "outputId": "423bebfc-1794-4234-b0e7-73bc6e1b8702"
      },
      "outputs": [
        {
          "data": {
            "application/vnd.google.colaboratory.intrinsic+json": {
              "type": "string"
            },
            "text/plain": [
              "'random_test_tensor shape is: ivy.Shape(1, 17, 17, 768)'"
            ]
          },
          "metadata": {},
          "output_type": "display_data"
        },
        {
          "data": {
            "application/vnd.google.colaboratory.intrinsic+json": {
              "type": "string"
            },
            "text/plain": [
              "'layer 1/6 built'"
            ]
          },
          "metadata": {},
          "output_type": "display_data"
        },
        {
          "data": {
            "application/vnd.google.colaboratory.intrinsic+json": {
              "type": "string"
            },
            "text/plain": [
              "'layer 2/6 built'"
            ]
          },
          "metadata": {},
          "output_type": "display_data"
        },
        {
          "data": {
            "application/vnd.google.colaboratory.intrinsic+json": {
              "type": "string"
            },
            "text/plain": [
              "'layer 3/6 built'"
            ]
          },
          "metadata": {},
          "output_type": "display_data"
        },
        {
          "data": {
            "application/vnd.google.colaboratory.intrinsic+json": {
              "type": "string"
            },
            "text/plain": [
              "'layer 4/6 built'"
            ]
          },
          "metadata": {},
          "output_type": "display_data"
        },
        {
          "data": {
            "application/vnd.google.colaboratory.intrinsic+json": {
              "type": "string"
            },
            "text/plain": [
              "'layer 5/6 built'"
            ]
          },
          "metadata": {},
          "output_type": "display_data"
        },
        {
          "data": {
            "application/vnd.google.colaboratory.intrinsic+json": {
              "type": "string"
            },
            "text/plain": [
              "'layer 6/6 built'"
            ]
          },
          "metadata": {},
          "output_type": "display_data"
        },
        {
          "data": {
            "application/vnd.google.colaboratory.intrinsic+json": {
              "type": "string"
            },
            "text/plain": [
              "'input shape is:ivy.Shape(1, 17, 17, 768)'"
            ]
          },
          "metadata": {},
          "output_type": "display_data"
        },
        {
          "data": {
            "application/vnd.google.colaboratory.intrinsic+json": {
              "type": "string"
            },
            "text/plain": [
              "'one 1/20, output shape is:ivy.Shape(1, 17, 17, 192)'"
            ]
          },
          "metadata": {},
          "output_type": "display_data"
        },
        {
          "data": {
            "application/vnd.google.colaboratory.intrinsic+json": {
              "type": "string"
            },
            "text/plain": [
              "'one 2/20, output shape is:ivy.Shape(1, 8, 8, 320)'"
            ]
          },
          "metadata": {},
          "output_type": "display_data"
        },
        {
          "data": {
            "application/vnd.google.colaboratory.intrinsic+json": {
              "type": "string"
            },
            "text/plain": [
              "'one 3/20, output shape is:ivy.Shape(1, 17, 17, 192)'"
            ]
          },
          "metadata": {},
          "output_type": "display_data"
        },
        {
          "data": {
            "application/vnd.google.colaboratory.intrinsic+json": {
              "type": "string"
            },
            "text/plain": [
              "'one 4/20, output shape is:ivy.Shape(1, 17, 17, 192)'"
            ]
          },
          "metadata": {},
          "output_type": "display_data"
        },
        {
          "data": {
            "application/vnd.google.colaboratory.intrinsic+json": {
              "type": "string"
            },
            "text/plain": [
              "'one 5/20, output shape is:ivy.Shape(1, 17, 17, 192)'"
            ]
          },
          "metadata": {},
          "output_type": "display_data"
        },
        {
          "data": {
            "application/vnd.google.colaboratory.intrinsic+json": {
              "type": "string"
            },
            "text/plain": [
              "'one 6/20, output shape is:ivy.Shape(1, 8, 8, 192)'"
            ]
          },
          "metadata": {},
          "output_type": "display_data"
        },
        {
          "data": {
            "application/vnd.google.colaboratory.intrinsic+json": {
              "type": "string"
            },
            "text/plain": [
              "'one 7/20, output shape is:ivy.Shape(1, 8, 8, 768)'"
            ]
          },
          "metadata": {},
          "output_type": "display_data"
        },
        {
          "data": {
            "application/vnd.google.colaboratory.intrinsic+json": {
              "type": "string"
            },
            "text/plain": [
              "'one 20/20'"
            ]
          },
          "metadata": {},
          "output_type": "display_data"
        },
        {
          "data": {
            "application/vnd.google.colaboratory.intrinsic+json": {
              "type": "string"
            },
            "text/plain": [
              "'Test Successfull!'"
            ]
          },
          "metadata": {},
          "output_type": "display_data"
        }
      ],
      "source": [
        "# note:\n",
        "# kernal_size in [1,3] list foramt\n",
        "# and padding in list[list, list] foramt ex: [[1,1],[3,3]] if both dims are unequal, else just single ex: list [3,3]\n",
        "class InceptionD(ivy.Module):\n",
        "    def __init__(self, in_channels: int, conv_block: Optional[Callable[..., ivy.Module]] = None) -> None:\n",
        "        super().__init__()\n",
        "        if conv_block is None:\n",
        "            self.conv_block = BasicConv2d\n",
        "        self.in_channels = in_channels\n",
        "\n",
        "    def _build(self, *args, **kwargs):\n",
        "        self.branch3x3_1 = self.conv_block(self.in_channels, 192, kernel_size=[1,1])\n",
        "        display(f\"layer 1/6 built\")\n",
        "        self.branch3x3_2 = self.conv_block(192, 320, kernel_size=[3,3], stride=2)\n",
        "        display(f\"layer 2/6 built\")\n",
        "\n",
        "        self.branch7x7x3_1 = self.conv_block(self.in_channels, 192, kernel_size=[1,1])\n",
        "        display(f\"layer 3/6 built\")\n",
        "        self.branch7x7x3_2 = self.conv_block(192, 192, kernel_size=[1,7], padding=[[0,0], [3,3]])\n",
        "        display(f\"layer 4/6 built\")\n",
        "        self.branch7x7x3_3 = self.conv_block(192, 192, kernel_size=[7,1], padding=[[3,3], [0,0]])\n",
        "        display(f\"layer 5/6 built\")\n",
        "        self.branch7x7x3_4 = self.conv_block(192, 192, kernel_size=[3,3], stride=2)\n",
        "        display(f\"layer 6/6 built\")\n",
        "\n",
        "    def _forward(self, x: ivy.Array) -> List[ivy.Array]:\n",
        "        display(f\"input shape is:{x.shape}\")\n",
        "\n",
        "        branch3x3 = self.branch3x3_1(x)\n",
        "        display(f\"one 1/20, output shape is:{branch3x3.shape}\")\n",
        "        branch3x3 = self.branch3x3_2(branch3x3)\n",
        "        display(f\"one 2/20, output shape is:{branch3x3.shape}\")\n",
        "\n",
        "        branch7x7x3 = self.branch7x7x3_1(x)\n",
        "        display(f\"one 3/20, output shape is:{branch7x7x3.shape}\")\n",
        "        branch7x7x3 = self.branch7x7x3_2(branch7x7x3)\n",
        "        display(f\"one 4/20, output shape is:{branch7x7x3.shape}\")\n",
        "        branch7x7x3 = self.branch7x7x3_3(branch7x7x3)\n",
        "        display(f\"one 5/20, output shape is:{branch7x7x3.shape}\")\n",
        "        branch7x7x3 = self.branch7x7x3_4(branch7x7x3)\n",
        "        display(f\"one 6/20, output shape is:{branch7x7x3.shape}\")\n",
        "\n",
        "        branch_pool = ivy.max_pool2d(x, [3,3], 2, 0)\n",
        "        display(f\"one 7/20, output shape is:{branch_pool.shape}\")\n",
        "\n",
        "        outputs = [branch3x3, branch7x7x3, branch_pool]\n",
        "        outputs = ivy.concat(outputs, axis=3)\n",
        "        display(f\"one 20/20\")\n",
        "\n",
        "        return outputs\n",
        "\n",
        "\n",
        "def test_InceptionD():\n",
        "    random_test_tensor = ivy.random_normal(shape=(1, 17, 17, 768))\n",
        "    display(f\"random_test_tensor shape is: {random_test_tensor.shape}\")\n",
        "\n",
        "    # N x 768 x 17 x 17\n",
        "    block = InceptionD(768)\n",
        "    block(random_test_tensor)\n",
        "    # N x 1280 x 8 x 8\n",
        "    display(\"Test Successfull!\")\n",
        "\n",
        "test_InceptionD()"
      ]
    },
    {
      "cell_type": "code",
      "execution_count": null,
      "metadata": {
        "colab": {
          "base_uri": "https://localhost:8080/",
          "height": 481
        },
        "id": "ouml2klK7b1P",
        "outputId": "a9eacaf5-17b8-420b-a46b-7ee6fe3a677e"
      },
      "outputs": [
        {
          "data": {
            "application/vnd.google.colaboratory.intrinsic+json": {
              "type": "string"
            },
            "text/plain": [
              "'random_test_tensor shape is: ivy.Shape(1, 17, 17, 768)'"
            ]
          },
          "metadata": {},
          "output_type": "display_data"
        },
        {
          "data": {
            "application/vnd.google.colaboratory.intrinsic+json": {
              "type": "string"
            },
            "text/plain": [
              "'layer 1/10 built'"
            ]
          },
          "metadata": {},
          "output_type": "display_data"
        },
        {
          "data": {
            "application/vnd.google.colaboratory.intrinsic+json": {
              "type": "string"
            },
            "text/plain": [
              "'layer 2/10 built'"
            ]
          },
          "metadata": {},
          "output_type": "display_data"
        },
        {
          "data": {
            "application/vnd.google.colaboratory.intrinsic+json": {
              "type": "string"
            },
            "text/plain": [
              "'layer 3/10 built'"
            ]
          },
          "metadata": {},
          "output_type": "display_data"
        },
        {
          "data": {
            "application/vnd.google.colaboratory.intrinsic+json": {
              "type": "string"
            },
            "text/plain": [
              "'layer 4/10 built'"
            ]
          },
          "metadata": {},
          "output_type": "display_data"
        },
        {
          "data": {
            "application/vnd.google.colaboratory.intrinsic+json": {
              "type": "string"
            },
            "text/plain": [
              "'layer 5/10 built'"
            ]
          },
          "metadata": {},
          "output_type": "display_data"
        },
        {
          "data": {
            "application/vnd.google.colaboratory.intrinsic+json": {
              "type": "string"
            },
            "text/plain": [
              "'layer 6/10 built'"
            ]
          },
          "metadata": {},
          "output_type": "display_data"
        },
        {
          "data": {
            "application/vnd.google.colaboratory.intrinsic+json": {
              "type": "string"
            },
            "text/plain": [
              "'layer 7/10 built'"
            ]
          },
          "metadata": {},
          "output_type": "display_data"
        },
        {
          "data": {
            "application/vnd.google.colaboratory.intrinsic+json": {
              "type": "string"
            },
            "text/plain": [
              "'layer 8/10 built'"
            ]
          },
          "metadata": {},
          "output_type": "display_data"
        },
        {
          "data": {
            "application/vnd.google.colaboratory.intrinsic+json": {
              "type": "string"
            },
            "text/plain": [
              "'layer 9/10 built'"
            ]
          },
          "metadata": {},
          "output_type": "display_data"
        },
        {
          "data": {
            "application/vnd.google.colaboratory.intrinsic+json": {
              "type": "string"
            },
            "text/plain": [
              "'layer 10/10 built'"
            ]
          },
          "metadata": {},
          "output_type": "display_data"
        },
        {
          "data": {
            "application/vnd.google.colaboratory.intrinsic+json": {
              "type": "string"
            },
            "text/plain": [
              "'input shape is:ivy.Shape(1, 17, 17, 768)'"
            ]
          },
          "metadata": {},
          "output_type": "display_data"
        },
        {
          "data": {
            "application/vnd.google.colaboratory.intrinsic+json": {
              "type": "string"
            },
            "text/plain": [
              "'one 1/20, output shape is:ivy.Shape(1, 17, 17, 192)'"
            ]
          },
          "metadata": {},
          "output_type": "display_data"
        },
        {
          "data": {
            "application/vnd.google.colaboratory.intrinsic+json": {
              "type": "string"
            },
            "text/plain": [
              "'one 2/20, output shape is:ivy.Shape(1, 17, 17, 128)'"
            ]
          },
          "metadata": {},
          "output_type": "display_data"
        },
        {
          "data": {
            "application/vnd.google.colaboratory.intrinsic+json": {
              "type": "string"
            },
            "text/plain": [
              "'one 3/20, output shape is:ivy.Shape(1, 17, 17, 128)'"
            ]
          },
          "metadata": {},
          "output_type": "display_data"
        },
        {
          "data": {
            "application/vnd.google.colaboratory.intrinsic+json": {
              "type": "string"
            },
            "text/plain": [
              "'one 4/20, output shape is:ivy.Shape(1, 17, 17, 192)'"
            ]
          },
          "metadata": {},
          "output_type": "display_data"
        },
        {
          "data": {
            "application/vnd.google.colaboratory.intrinsic+json": {
              "type": "string"
            },
            "text/plain": [
              "'one 5/20, output shape is:ivy.Shape(1, 17, 17, 128)'"
            ]
          },
          "metadata": {},
          "output_type": "display_data"
        },
        {
          "data": {
            "application/vnd.google.colaboratory.intrinsic+json": {
              "type": "string"
            },
            "text/plain": [
              "'one 6/20, output shape is:ivy.Shape(1, 17, 17, 128)'"
            ]
          },
          "metadata": {},
          "output_type": "display_data"
        },
        {
          "data": {
            "application/vnd.google.colaboratory.intrinsic+json": {
              "type": "string"
            },
            "text/plain": [
              "'one 7/20, output shape is:ivy.Shape(1, 17, 17, 128)'"
            ]
          },
          "metadata": {},
          "output_type": "display_data"
        },
        {
          "data": {
            "application/vnd.google.colaboratory.intrinsic+json": {
              "type": "string"
            },
            "text/plain": [
              "'one 8/20, output shape is:ivy.Shape(1, 17, 17, 128)'"
            ]
          },
          "metadata": {},
          "output_type": "display_data"
        },
        {
          "data": {
            "application/vnd.google.colaboratory.intrinsic+json": {
              "type": "string"
            },
            "text/plain": [
              "'one 9/20, output shape is:ivy.Shape(1, 17, 17, 192)'"
            ]
          },
          "metadata": {},
          "output_type": "display_data"
        },
        {
          "data": {
            "application/vnd.google.colaboratory.intrinsic+json": {
              "type": "string"
            },
            "text/plain": [
              "'one 10/20, output shape is:ivy.Shape(1, 17, 17, 768)'"
            ]
          },
          "metadata": {},
          "output_type": "display_data"
        },
        {
          "data": {
            "application/vnd.google.colaboratory.intrinsic+json": {
              "type": "string"
            },
            "text/plain": [
              "'one 11/20, output shape is:ivy.Shape(1, 17, 17, 192)'"
            ]
          },
          "metadata": {},
          "output_type": "display_data"
        },
        {
          "data": {
            "application/vnd.google.colaboratory.intrinsic+json": {
              "type": "string"
            },
            "text/plain": [
              "'one 20/20'"
            ]
          },
          "metadata": {},
          "output_type": "display_data"
        },
        {
          "data": {
            "application/vnd.google.colaboratory.intrinsic+json": {
              "type": "string"
            },
            "text/plain": [
              "'Test Successfull!'"
            ]
          },
          "metadata": {},
          "output_type": "display_data"
        }
      ],
      "source": [
        "# note:\n",
        "# kernal_size in [1,3] list foramt\n",
        "# and padding in list[list, list] foramt ex: [[1,1],[3,3]] if both dims are unequal, else just single ex: list [3,3]\n",
        "class InceptionC(ivy.Module):\n",
        "    def __init__(self, in_channels: int, channels_7x7: int, conv_block: Optional[Callable[..., ivy.Module]] = None) -> None:\n",
        "        super().__init__()\n",
        "        if conv_block is None:\n",
        "            self.conv_block = BasicConv2d\n",
        "        self.in_channels = in_channels\n",
        "        self.channels_7x7 = channels_7x7\n",
        "\n",
        "    def _build(self, *args, **kwargs):\n",
        "        self.branch1x1 = self.conv_block(self.in_channels, 192, kernel_size=[1,1])\n",
        "        display(f\"layer 1/10 built\")\n",
        "\n",
        "        c7 = self.channels_7x7\n",
        "        self.branch7x7_1 = self.conv_block(self.in_channels, c7, kernel_size=[1,1])\n",
        "        display(f\"layer 2/10 built\")\n",
        "        self.branch7x7_2 = self.conv_block(c7, c7, kernel_size=[1, 7], padding=[[0,0],[3,3]])\n",
        "        display(f\"layer 3/10 built\")\n",
        "        self.branch7x7_3 = self.conv_block(c7, 192, kernel_size=[7, 1], padding=[[3,3],[0,0]])\n",
        "        display(f\"layer 4/10 built\")\n",
        "        self.branch7x7dbl_1 = self.conv_block(self.in_channels, c7, kernel_size=[1,1])\n",
        "        display(f\"layer 5/10 built\")\n",
        "        self.branch7x7dbl_2 = self.conv_block(c7, c7, kernel_size=[7, 1], padding=[[3,3],[0,0]])\n",
        "        display(f\"layer 6/10 built\")\n",
        "        self.branch7x7dbl_3 = self.conv_block(c7, c7, kernel_size=[1, 7], padding=[[0,0],[3,3]])\n",
        "        display(f\"layer 7/10 built\")\n",
        "        self.branch7x7dbl_4 = self.conv_block(c7, c7, kernel_size=[7, 1], padding=[[3,3],[0,0]])\n",
        "        display(f\"layer 8/10 built\")\n",
        "        self.branch7x7dbl_5 = self.conv_block(c7, 192, kernel_size=[1, 7], padding=[[0,0],[3,3]])\n",
        "        display(f\"layer 9/10 built\")\n",
        "\n",
        "        self.branch_pool = self.conv_block(self.in_channels, 192, kernel_size=[1,1])\n",
        "        display(f\"layer 10/10 built\")\n",
        "\n",
        "    def _forward(self, x: ivy.Array) -> List[ivy.Array]:\n",
        "        display(f\"input shape is:{x.shape}\")\n",
        "\n",
        "        branch1x1 = self.branch1x1(x)\n",
        "        display(f\"one 1/20, output shape is:{branch1x1.shape}\")\n",
        "\n",
        "        branch7x7 = self.branch7x7_1(x)\n",
        "        display(f\"one 2/20, output shape is:{branch7x7.shape}\")\n",
        "        branch7x7 = self.branch7x7_2(branch7x7)\n",
        "        display(f\"one 3/20, output shape is:{branch7x7.shape}\")\n",
        "        branch7x7 = self.branch7x7_3(branch7x7)\n",
        "        display(f\"one 4/20, output shape is:{branch7x7.shape}\")\n",
        "\n",
        "        branch7x7dbl = self.branch7x7dbl_1(x)\n",
        "        display(f\"one 5/20, output shape is:{branch7x7dbl.shape}\")\n",
        "        branch7x7dbl = self.branch7x7dbl_2(branch7x7dbl)\n",
        "        display(f\"one 6/20, output shape is:{branch7x7dbl.shape}\")\n",
        "        branch7x7dbl = self.branch7x7dbl_3(branch7x7dbl)\n",
        "        display(f\"one 7/20, output shape is:{branch7x7dbl.shape}\")\n",
        "        branch7x7dbl = self.branch7x7dbl_4(branch7x7dbl)\n",
        "        display(f\"one 8/20, output shape is:{branch7x7dbl.shape}\")\n",
        "        branch7x7dbl = self.branch7x7dbl_5(branch7x7dbl)\n",
        "        display(f\"one 9/20, output shape is:{branch7x7dbl.shape}\")\n",
        "\n",
        "        branch_pool = ivy.avg_pool2d(x, [3,3], [1,1], [[1,1],[1,1]])\n",
        "        display(f\"one 10/20, output shape is:{branch_pool.shape}\")\n",
        "        branch_pool = self.branch_pool(branch_pool)\n",
        "        display(f\"one 11/20, output shape is:{branch_pool.shape}\")\n",
        "\n",
        "        outputs = [branch1x1, branch7x7, branch7x7dbl, branch_pool]\n",
        "        outputs = ivy.concat(outputs, axis=3)\n",
        "        display(f\"one 20/20\")\n",
        "\n",
        "        return outputs\n",
        "\n",
        "\n",
        "def test_InceptionC():\n",
        "    random_test_tensor = ivy.random_normal(shape=(1, 17, 17, 768))\n",
        "    display(f\"random_test_tensor shape is: {random_test_tensor.shape}\")\n",
        "\n",
        "    # N x 768 x 17 x 17\n",
        "    block = InceptionC(768, channels_7x7=128)\n",
        "    block(random_test_tensor)\n",
        "    # N x 768 x 17 x 17\n",
        "    display(\"Test Successfull!\")\n",
        "\n",
        "test_InceptionC()"
      ]
    },
    {
      "cell_type": "code",
      "execution_count": null,
      "metadata": {
        "colab": {
          "base_uri": "https://localhost:8080/",
          "height": 258
        },
        "id": "RoAhatXx7gUK",
        "outputId": "a89761bb-7a7f-4072-b02b-29fc9255f707"
      },
      "outputs": [
        {
          "data": {
            "application/vnd.google.colaboratory.intrinsic+json": {
              "type": "string"
            },
            "text/plain": [
              "'random_test_tensor shape is: ivy.Shape(1, 35, 35, 288)'"
            ]
          },
          "metadata": {},
          "output_type": "display_data"
        },
        {
          "data": {
            "application/vnd.google.colaboratory.intrinsic+json": {
              "type": "string"
            },
            "text/plain": [
              "'layer 1/4 built'"
            ]
          },
          "metadata": {},
          "output_type": "display_data"
        },
        {
          "data": {
            "application/vnd.google.colaboratory.intrinsic+json": {
              "type": "string"
            },
            "text/plain": [
              "'layer 2/4 built'"
            ]
          },
          "metadata": {},
          "output_type": "display_data"
        },
        {
          "data": {
            "application/vnd.google.colaboratory.intrinsic+json": {
              "type": "string"
            },
            "text/plain": [
              "'layer 3/4 built'"
            ]
          },
          "metadata": {},
          "output_type": "display_data"
        },
        {
          "data": {
            "application/vnd.google.colaboratory.intrinsic+json": {
              "type": "string"
            },
            "text/plain": [
              "'layer 4/4 built'"
            ]
          },
          "metadata": {},
          "output_type": "display_data"
        },
        {
          "data": {
            "application/vnd.google.colaboratory.intrinsic+json": {
              "type": "string"
            },
            "text/plain": [
              "'input shape is:ivy.Shape(1, 35, 35, 288)'"
            ]
          },
          "metadata": {},
          "output_type": "display_data"
        },
        {
          "data": {
            "application/vnd.google.colaboratory.intrinsic+json": {
              "type": "string"
            },
            "text/plain": [
              "'one 1/20, output shape is:ivy.Shape(1, 17, 17, 384)'"
            ]
          },
          "metadata": {},
          "output_type": "display_data"
        },
        {
          "data": {
            "application/vnd.google.colaboratory.intrinsic+json": {
              "type": "string"
            },
            "text/plain": [
              "'one 2/20, output shape is:ivy.Shape(1, 35, 35, 64)'"
            ]
          },
          "metadata": {},
          "output_type": "display_data"
        },
        {
          "data": {
            "application/vnd.google.colaboratory.intrinsic+json": {
              "type": "string"
            },
            "text/plain": [
              "'one 3/20, output shape is:ivy.Shape(1, 35, 35, 96)'"
            ]
          },
          "metadata": {},
          "output_type": "display_data"
        },
        {
          "data": {
            "application/vnd.google.colaboratory.intrinsic+json": {
              "type": "string"
            },
            "text/plain": [
              "'one 4/20, output shape is:ivy.Shape(1, 17, 17, 96)'"
            ]
          },
          "metadata": {},
          "output_type": "display_data"
        },
        {
          "data": {
            "application/vnd.google.colaboratory.intrinsic+json": {
              "type": "string"
            },
            "text/plain": [
              "'one 20/20, output shape is:ivy.Shape(1, 17, 17, 288)'"
            ]
          },
          "metadata": {},
          "output_type": "display_data"
        },
        {
          "data": {
            "application/vnd.google.colaboratory.intrinsic+json": {
              "type": "string"
            },
            "text/plain": [
              "'one 20/20'"
            ]
          },
          "metadata": {},
          "output_type": "display_data"
        },
        {
          "data": {
            "application/vnd.google.colaboratory.intrinsic+json": {
              "type": "string"
            },
            "text/plain": [
              "'Test Successfull!'"
            ]
          },
          "metadata": {},
          "output_type": "display_data"
        }
      ],
      "source": [
        "# note:\n",
        "# kernal_size in [1,3] list foramt\n",
        "# and padding in list[list, list] foramt ex: [[1,1],[3,3]] if both dims are unequal, else just single ex: list [3,3]\n",
        "class InceptionB(ivy.Module):\n",
        "    def __init__(self, in_channels: int, conv_block: Optional[Callable[..., ivy.Module]] = None) -> None:\n",
        "        super().__init__()\n",
        "        if conv_block is None:\n",
        "            self.conv_block = BasicConv2d\n",
        "        self.in_channels = in_channels\n",
        "\n",
        "    def _build(self, *args, **kwargs):\n",
        "        self.branch3x3 = self.conv_block(self.in_channels, 384, kernel_size=[3,3], stride=2)\n",
        "        display(f\"layer 1/4 built\")\n",
        "\n",
        "        self.branch3x3dbl_1 = self.conv_block(self.in_channels, 64, kernel_size=[1,1])\n",
        "        display(f\"layer 2/4 built\")\n",
        "        self.branch3x3dbl_2 = self.conv_block(64, 96, kernel_size=[3,3], padding=[[1,1],[1,1]])\n",
        "        display(f\"layer 3/4 built\")\n",
        "        self.branch3x3dbl_3 = self.conv_block(96, 96, kernel_size=[3,3], stride=2)\n",
        "        display(f\"layer 4/4 built\")\n",
        "\n",
        "    def _forward(self, x: ivy.Array) -> List[ivy.Array]:\n",
        "        display(f\"input shape is:{x.shape}\")\n",
        "\n",
        "        branch3x3 = self.branch3x3(x)\n",
        "        display(f\"one 1/20, output shape is:{branch3x3.shape}\")\n",
        "\n",
        "        branch3x3dbl = self.branch3x3dbl_1(x)\n",
        "        display(f\"one 2/20, output shape is:{branch3x3dbl.shape}\")\n",
        "        branch3x3dbl = self.branch3x3dbl_2(branch3x3dbl)\n",
        "        display(f\"one 3/20, output shape is:{branch3x3dbl.shape}\")\n",
        "        branch3x3dbl = self.branch3x3dbl_3(branch3x3dbl)\n",
        "        display(f\"one 4/20, output shape is:{branch3x3dbl.shape}\")\n",
        "\n",
        "        branch_pool = ivy.max_pool2d(x, [3,3], 2, 0)\n",
        "        display(f\"one 20/20, output shape is:{branch_pool.shape}\")\n",
        "\n",
        "        outputs = [branch3x3, branch3x3dbl, branch_pool]\n",
        "        outputs = ivy.concat(outputs, axis=3)\n",
        "        display(f\"one 20/20\")\n",
        "\n",
        "        return outputs\n",
        "\n",
        "\n",
        "def test_InceptionB():\n",
        "    random_test_tensor = ivy.random_normal(shape=(1, 35, 35, 288))\n",
        "    display(f\"random_test_tensor shape is: {random_test_tensor.shape}\")\n",
        "\n",
        "    # N x 288 x 35 x 35\n",
        "    block = InceptionB(288)\n",
        "    block(random_test_tensor)\n",
        "    # N x 768 x 17 x 17\n",
        "    display(\"Test Successfull!\")\n",
        "\n",
        "test_InceptionB()"
      ]
    },
    {
      "cell_type": "code",
      "execution_count": null,
      "metadata": {
        "colab": {
          "base_uri": "https://localhost:8080/",
          "height": 369
        },
        "id": "-dwOBdRD7gRr",
        "outputId": "c459028f-84c4-46fb-a6f9-e9470c09968d"
      },
      "outputs": [
        {
          "data": {
            "application/vnd.google.colaboratory.intrinsic+json": {
              "type": "string"
            },
            "text/plain": [
              "'random_test_tensor shape is: ivy.Shape(1, 35, 35, 192)'"
            ]
          },
          "metadata": {},
          "output_type": "display_data"
        },
        {
          "data": {
            "application/vnd.google.colaboratory.intrinsic+json": {
              "type": "string"
            },
            "text/plain": [
              "'layer 1/7 built'"
            ]
          },
          "metadata": {},
          "output_type": "display_data"
        },
        {
          "data": {
            "application/vnd.google.colaboratory.intrinsic+json": {
              "type": "string"
            },
            "text/plain": [
              "'layer 2/7 built'"
            ]
          },
          "metadata": {},
          "output_type": "display_data"
        },
        {
          "data": {
            "application/vnd.google.colaboratory.intrinsic+json": {
              "type": "string"
            },
            "text/plain": [
              "'layer 3/7 built'"
            ]
          },
          "metadata": {},
          "output_type": "display_data"
        },
        {
          "data": {
            "application/vnd.google.colaboratory.intrinsic+json": {
              "type": "string"
            },
            "text/plain": [
              "'layer 4/7 built'"
            ]
          },
          "metadata": {},
          "output_type": "display_data"
        },
        {
          "data": {
            "application/vnd.google.colaboratory.intrinsic+json": {
              "type": "string"
            },
            "text/plain": [
              "'layer 5/7 built'"
            ]
          },
          "metadata": {},
          "output_type": "display_data"
        },
        {
          "data": {
            "application/vnd.google.colaboratory.intrinsic+json": {
              "type": "string"
            },
            "text/plain": [
              "'layer 6/7 built'"
            ]
          },
          "metadata": {},
          "output_type": "display_data"
        },
        {
          "data": {
            "application/vnd.google.colaboratory.intrinsic+json": {
              "type": "string"
            },
            "text/plain": [
              "'layer 7/7 built'"
            ]
          },
          "metadata": {},
          "output_type": "display_data"
        },
        {
          "data": {
            "application/vnd.google.colaboratory.intrinsic+json": {
              "type": "string"
            },
            "text/plain": [
              "'input shape is:ivy.Shape(1, 35, 35, 192)'"
            ]
          },
          "metadata": {},
          "output_type": "display_data"
        },
        {
          "data": {
            "application/vnd.google.colaboratory.intrinsic+json": {
              "type": "string"
            },
            "text/plain": [
              "'one 1/20'"
            ]
          },
          "metadata": {},
          "output_type": "display_data"
        },
        {
          "data": {
            "application/vnd.google.colaboratory.intrinsic+json": {
              "type": "string"
            },
            "text/plain": [
              "'one 2/20'"
            ]
          },
          "metadata": {},
          "output_type": "display_data"
        },
        {
          "data": {
            "application/vnd.google.colaboratory.intrinsic+json": {
              "type": "string"
            },
            "text/plain": [
              "'one 3/20'"
            ]
          },
          "metadata": {},
          "output_type": "display_data"
        },
        {
          "data": {
            "application/vnd.google.colaboratory.intrinsic+json": {
              "type": "string"
            },
            "text/plain": [
              "'one 4/20'"
            ]
          },
          "metadata": {},
          "output_type": "display_data"
        },
        {
          "data": {
            "application/vnd.google.colaboratory.intrinsic+json": {
              "type": "string"
            },
            "text/plain": [
              "'one 5/20'"
            ]
          },
          "metadata": {},
          "output_type": "display_data"
        },
        {
          "data": {
            "application/vnd.google.colaboratory.intrinsic+json": {
              "type": "string"
            },
            "text/plain": [
              "'one 6/20'"
            ]
          },
          "metadata": {},
          "output_type": "display_data"
        },
        {
          "data": {
            "application/vnd.google.colaboratory.intrinsic+json": {
              "type": "string"
            },
            "text/plain": [
              "'one 7/20'"
            ]
          },
          "metadata": {},
          "output_type": "display_data"
        },
        {
          "data": {
            "application/vnd.google.colaboratory.intrinsic+json": {
              "type": "string"
            },
            "text/plain": [
              "'one 8/20'"
            ]
          },
          "metadata": {},
          "output_type": "display_data"
        },
        {
          "data": {
            "application/vnd.google.colaboratory.intrinsic+json": {
              "type": "string"
            },
            "text/plain": [
              "'one 20/20'"
            ]
          },
          "metadata": {},
          "output_type": "display_data"
        },
        {
          "data": {
            "application/vnd.google.colaboratory.intrinsic+json": {
              "type": "string"
            },
            "text/plain": [
              "'Test Successfull!'"
            ]
          },
          "metadata": {},
          "output_type": "display_data"
        }
      ],
      "source": [
        "# note:\n",
        "# kernal_size in [1,3] list foramt\n",
        "# and padding in list[list, list] foramt ex: [[1,1],[3,3]] if both dims are unequal, else just single ex: list [3,3]\n",
        "class InceptionA(ivy.Module):\n",
        "    def __init__(self, in_channels: int, pool_features: int, conv_block: Optional[Callable[..., ivy.Module]] = None) -> None:\n",
        "        super().__init__()\n",
        "        if conv_block is None:\n",
        "            self.conv_block = BasicConv2d\n",
        "        self.in_channels = in_channels\n",
        "        self.pool_features = pool_features\n",
        "\n",
        "    def _build(self, *args, **kwargs):\n",
        "        self.branch1x1 = self.conv_block(self.in_channels, 64, kernel_size=[1,1])\n",
        "        display(f\"layer 1/7 built\")\n",
        "\n",
        "        self.branch5x5_1 = self.conv_block(self.in_channels, 48, kernel_size=[1,1])\n",
        "        display(f\"layer 2/7 built\")\n",
        "        self.branch5x5_2 = self.conv_block(48, 64, kernel_size=[5,5], padding=[[2,2],[2,2]])\n",
        "        display(f\"layer 3/7 built\")\n",
        "\n",
        "        self.branch3x3dbl_1 = self.conv_block(self.in_channels, 64, kernel_size=[1,1])\n",
        "        display(f\"layer 4/7 built\")\n",
        "        self.branch3x3dbl_2 = self.conv_block(64, 96, kernel_size=[3,3], padding=[[1,1],[1,1]])\n",
        "        display(f\"layer 5/7 built\")\n",
        "        self.branch3x3dbl_3 = self.conv_block(96, 96, kernel_size=[3,3], padding=[[1,1],[1,1]])\n",
        "        display(f\"layer 6/7 built\")\n",
        "\n",
        "        self.branch_pool = self.conv_block(self.in_channels, self.pool_features, kernel_size=[1,1])\n",
        "        display(f\"layer 7/7 built\")\n",
        "\n",
        "#         self.avg_pool = ivy.AvgPool2D(3, 1, 1)\n",
        "\n",
        "    def _forward(self, x: ivy.Array) -> List[ivy.Array]:\n",
        "        display(f\"input shape is:{x.shape}\")\n",
        "\n",
        "        branch1x1 = self.branch1x1(x)\n",
        "        display(f\"one 1/20\")\n",
        "\n",
        "        branch5x5 = self.branch5x5_1(x)\n",
        "        display(f\"one 2/20\")\n",
        "        branch5x5 = self.branch5x5_2(branch5x5)\n",
        "        display(f\"one 3/20\")\n",
        "\n",
        "        branch3x3dbl = self.branch3x3dbl_1(x)\n",
        "        display(f\"one 4/20\")\n",
        "        branch3x3dbl = self.branch3x3dbl_2(branch3x3dbl)\n",
        "        display(f\"one 5/20\")\n",
        "        branch3x3dbl = self.branch3x3dbl_3(branch3x3dbl)\n",
        "        display(f\"one 6/20\")\n",
        "\n",
        "        branch_pool = ivy.avg_pool2d(x, [3,3], [1,1], [[1,1],[1,1]])\n",
        "#         branch_pool = self.avg_pool(x)\n",
        "        display(f\"one 7/20\")\n",
        "        branch_pool = self.branch_pool(branch_pool)\n",
        "        display(f\"one 8/20\")\n",
        "\n",
        "        outputs = [branch1x1, branch5x5, branch3x3dbl, branch_pool]\n",
        "        outputs = ivy.concat(outputs, axis=3)\n",
        "        display(f\"one 20/20\")\n",
        "\n",
        "        return outputs\n",
        "\n",
        "\n",
        "def test_InceptionA():\n",
        "    random_test_tensor = ivy.random_normal(shape=(1, 35, 35, 192))\n",
        "    display(f\"random_test_tensor shape is: {random_test_tensor.shape}\")\n",
        "\n",
        "    # N x 192 x 35 x 35\n",
        "    block = InceptionA(192, pool_features=32)\n",
        "    block(random_test_tensor)\n",
        "    # N x 256 x 35 x 35\n",
        "    display(\"Test Successfull!\")\n",
        "\n",
        "test_InceptionA()"
      ]
    },
    {
      "cell_type": "code",
      "execution_count": null,
      "metadata": {
        "colab": {
          "base_uri": "https://localhost:8080/",
          "height": 369
        },
        "id": "Xw__G4vf7jhv",
        "outputId": "43e9e4b7-de0e-4497-f783-1a2324b1f438"
      },
      "outputs": [
        {
          "data": {
            "application/vnd.google.colaboratory.intrinsic+json": {
              "type": "string"
            },
            "text/plain": [
              "'random_test_tensor shape is: ivy.Shape(1, 35, 35, 192)'"
            ]
          },
          "metadata": {},
          "output_type": "display_data"
        },
        {
          "data": {
            "application/vnd.google.colaboratory.intrinsic+json": {
              "type": "string"
            },
            "text/plain": [
              "'layer 1/7 built'"
            ]
          },
          "metadata": {},
          "output_type": "display_data"
        },
        {
          "data": {
            "application/vnd.google.colaboratory.intrinsic+json": {
              "type": "string"
            },
            "text/plain": [
              "'layer 2/7 built'"
            ]
          },
          "metadata": {},
          "output_type": "display_data"
        },
        {
          "data": {
            "application/vnd.google.colaboratory.intrinsic+json": {
              "type": "string"
            },
            "text/plain": [
              "'layer 3/7 built'"
            ]
          },
          "metadata": {},
          "output_type": "display_data"
        },
        {
          "data": {
            "application/vnd.google.colaboratory.intrinsic+json": {
              "type": "string"
            },
            "text/plain": [
              "'layer 4/7 built'"
            ]
          },
          "metadata": {},
          "output_type": "display_data"
        },
        {
          "data": {
            "application/vnd.google.colaboratory.intrinsic+json": {
              "type": "string"
            },
            "text/plain": [
              "'layer 5/7 built'"
            ]
          },
          "metadata": {},
          "output_type": "display_data"
        },
        {
          "data": {
            "application/vnd.google.colaboratory.intrinsic+json": {
              "type": "string"
            },
            "text/plain": [
              "'layer 6/7 built'"
            ]
          },
          "metadata": {},
          "output_type": "display_data"
        },
        {
          "data": {
            "application/vnd.google.colaboratory.intrinsic+json": {
              "type": "string"
            },
            "text/plain": [
              "'layer 7/7 built'"
            ]
          },
          "metadata": {},
          "output_type": "display_data"
        },
        {
          "data": {
            "application/vnd.google.colaboratory.intrinsic+json": {
              "type": "string"
            },
            "text/plain": [
              "'input shape is:ivy.Shape(1, 35, 35, 192)'"
            ]
          },
          "metadata": {},
          "output_type": "display_data"
        },
        {
          "data": {
            "application/vnd.google.colaboratory.intrinsic+json": {
              "type": "string"
            },
            "text/plain": [
              "'InceptionA | branch1x1 1/20, output shape is: ivy.Shape(1, 35, 35, 64)'"
            ]
          },
          "metadata": {},
          "output_type": "display_data"
        },
        {
          "data": {
            "application/vnd.google.colaboratory.intrinsic+json": {
              "type": "string"
            },
            "text/plain": [
              "'InceptionA | one 2/20, output shape is: ivy.Shape(1, 35, 35, 48)'"
            ]
          },
          "metadata": {},
          "output_type": "display_data"
        },
        {
          "data": {
            "application/vnd.google.colaboratory.intrinsic+json": {
              "type": "string"
            },
            "text/plain": [
              "'InceptionA | branch5x5_1 3/20, output shape is: ivy.Shape(1, 35, 35, 64)'"
            ]
          },
          "metadata": {},
          "output_type": "display_data"
        },
        {
          "data": {
            "application/vnd.google.colaboratory.intrinsic+json": {
              "type": "string"
            },
            "text/plain": [
              "'InceptionA | one 4/20, output shape is: ivy.Shape(1, 35, 35, 64)'"
            ]
          },
          "metadata": {},
          "output_type": "display_data"
        },
        {
          "data": {
            "application/vnd.google.colaboratory.intrinsic+json": {
              "type": "string"
            },
            "text/plain": [
              "'InceptionA | one 5/20, output shape is: ivy.Shape(1, 35, 35, 96)'"
            ]
          },
          "metadata": {},
          "output_type": "display_data"
        },
        {
          "data": {
            "application/vnd.google.colaboratory.intrinsic+json": {
              "type": "string"
            },
            "text/plain": [
              "'InceptionA | branch3x3dbl_1 6/20, output shape is: ivy.Shape(1, 35, 35, 96)'"
            ]
          },
          "metadata": {},
          "output_type": "display_data"
        },
        {
          "data": {
            "application/vnd.google.colaboratory.intrinsic+json": {
              "type": "string"
            },
            "text/plain": [
              "'InceptionA | one 7/20, output shape is: ivy.Shape(1, 35, 35, 192)'"
            ]
          },
          "metadata": {},
          "output_type": "display_data"
        },
        {
          "data": {
            "application/vnd.google.colaboratory.intrinsic+json": {
              "type": "string"
            },
            "text/plain": [
              "'InceptionA | branch_pool 8/20, output shape is: ivy.Shape(1, 35, 35, 32)'"
            ]
          },
          "metadata": {},
          "output_type": "display_data"
        },
        {
          "data": {
            "application/vnd.google.colaboratory.intrinsic+json": {
              "type": "string"
            },
            "text/plain": [
              "'InceptionA | outputs 20/20'"
            ]
          },
          "metadata": {},
          "output_type": "display_data"
        },
        {
          "data": {
            "application/vnd.google.colaboratory.intrinsic+json": {
              "type": "string"
            },
            "text/plain": [
              "'Test Successfull!'"
            ]
          },
          "metadata": {},
          "output_type": "display_data"
        }
      ],
      "source": [
        "# note:\n",
        "# kernal_size in [1,3] list foramt\n",
        "# and padding in list[list, list] foramt ex: [[1,1],[3,3]] if both dims are unequal, else just single ex: list [3,3]\n",
        "class InceptionA(ivy.Module):\n",
        "    def __init__(self, in_channels: int, pool_features: int, conv_block: Optional[Callable[..., ivy.Module]] = None) -> None:\n",
        "        super().__init__()\n",
        "        if conv_block is None:\n",
        "            self.conv_block = BasicConv2d\n",
        "        self.in_channels = in_channels\n",
        "        self.pool_features = pool_features\n",
        "\n",
        "    def _build(self, *args, **kwargs):\n",
        "        self.branch1x1 = self.conv_block(self.in_channels, 64, kernel_size=[1,1])\n",
        "        display(f\"layer 1/7 built\")\n",
        "\n",
        "        self.branch5x5_1 = self.conv_block(self.in_channels, 48, kernel_size=[1,1])\n",
        "        display(f\"layer 2/7 built\")\n",
        "        self.branch5x5_2 = self.conv_block(48, 64, kernel_size=[5,5], padding=[[2,2],[2,2]])\n",
        "        display(f\"layer 3/7 built\")\n",
        "\n",
        "        self.branch3x3dbl_1 = self.conv_block(self.in_channels, 64, kernel_size=[1,1])\n",
        "        display(f\"layer 4/7 built\")\n",
        "        self.branch3x3dbl_2 = self.conv_block(64, 96, kernel_size=[3,3], padding=[[1,1],[1,1]])\n",
        "        display(f\"layer 5/7 built\")\n",
        "        self.branch3x3dbl_3 = self.conv_block(96, 96, kernel_size=[3,3], padding=[[1,1],[1,1]])\n",
        "        display(f\"layer 6/7 built\")\n",
        "\n",
        "        self.branch_pool = self.conv_block(self.in_channels, self.pool_features, kernel_size=[1,1])\n",
        "        display(f\"layer 7/7 built\")\n",
        "\n",
        "#         self.avg_pool = ivy.AvgPool2D(3,1,1)\n",
        "\n",
        "    def _forward(self, x: ivy.Array) -> List[ivy.Array]:\n",
        "        display(f\"input shape is:{x.shape}\")\n",
        "\n",
        "        branch1x1 = self.branch1x1(x)\n",
        "        display(f\"InceptionA | branch1x1 1/20, output shape is: {branch1x1.shape}\")\n",
        "\n",
        "        branch5x5 = self.branch5x5_1(x)\n",
        "        display(f\"InceptionA | one 2/20, output shape is: {branch5x5.shape}\")\n",
        "        branch5x5 = self.branch5x5_2(branch5x5)\n",
        "        display(f\"InceptionA | branch5x5_1 3/20, output shape is: {branch5x5.shape}\")\n",
        "\n",
        "        branch3x3dbl = self.branch3x3dbl_1(x)\n",
        "        display(f\"InceptionA | one 4/20, output shape is: {branch3x3dbl.shape}\")\n",
        "        branch3x3dbl = self.branch3x3dbl_2(branch3x3dbl)\n",
        "        display(f\"InceptionA | one 5/20, output shape is: {branch3x3dbl.shape}\")\n",
        "        branch3x3dbl = self.branch3x3dbl_3(branch3x3dbl)\n",
        "        display(f\"InceptionA | branch3x3dbl_1 6/20, output shape is: {branch3x3dbl.shape}\")\n",
        "\n",
        "        branch_pool = ivy.avg_pool2d(x, [3,3], [1,1], [[1,1],[1,1]])\n",
        "#         branch_pool = self.avg_pool(x)\n",
        "        display(f\"InceptionA | one 7/20, output shape is: {branch_pool.shape}\")\n",
        "        branch_pool = self.branch_pool(branch_pool)\n",
        "        display(f\"InceptionA | branch_pool 8/20, output shape is: {branch_pool.shape}\")\n",
        "\n",
        "        outputs = [branch1x1, branch5x5, branch3x3dbl, branch_pool]\n",
        "        outputs = ivy.concat(outputs, axis=3)\n",
        "        display(f\"InceptionA | outputs 20/20\")\n",
        "\n",
        "        return outputs\n",
        "\n",
        "\n",
        "def test_InceptionA():\n",
        "    random_test_tensor = ivy.random_normal(shape=(1, 35, 35, 192))\n",
        "    display(f\"random_test_tensor shape is: {random_test_tensor.shape}\")\n",
        "\n",
        "    # N x 192 x 35 x 35\n",
        "    block = InceptionA(192, pool_features=32)\n",
        "    block(random_test_tensor)\n",
        "    # N x 256 x 35 x 35\n",
        "    display(\"Test Successfull!\")\n",
        "\n",
        "test_InceptionA()"
      ]
    },
    {
      "cell_type": "code",
      "execution_count": null,
      "metadata": {
        "colab": {
          "base_uri": "https://localhost:8080/"
        },
        "id": "7KFuuRLD7mPD",
        "outputId": "f561da3c-5838-4812-9110-559ed27ddd89"
      },
      "outputs": [
        {
          "data": {
            "application/vnd.google.colaboratory.intrinsic+json": {
              "type": "string"
            },
            "text/plain": [
              "'random_test_tensor shape is: ivy.Shape(1, 256, 256, 3)'"
            ]
          },
          "metadata": {},
          "output_type": "display_data"
        },
        {
          "data": {
            "application/vnd.google.colaboratory.intrinsic+json": {
              "type": "string"
            },
            "text/plain": [
              "'layer 1/22 built'"
            ]
          },
          "metadata": {},
          "output_type": "display_data"
        },
        {
          "data": {
            "application/vnd.google.colaboratory.intrinsic+json": {
              "type": "string"
            },
            "text/plain": [
              "'layer 2/22 built'"
            ]
          },
          "metadata": {},
          "output_type": "display_data"
        },
        {
          "data": {
            "application/vnd.google.colaboratory.intrinsic+json": {
              "type": "string"
            },
            "text/plain": [
              "'layer 3/22 built'"
            ]
          },
          "metadata": {},
          "output_type": "display_data"
        },
        {
          "data": {
            "application/vnd.google.colaboratory.intrinsic+json": {
              "type": "string"
            },
            "text/plain": [
              "'layer 4/22 built'"
            ]
          },
          "metadata": {},
          "output_type": "display_data"
        },
        {
          "data": {
            "application/vnd.google.colaboratory.intrinsic+json": {
              "type": "string"
            },
            "text/plain": [
              "'layer 5/22 built'"
            ]
          },
          "metadata": {},
          "output_type": "display_data"
        },
        {
          "data": {
            "application/vnd.google.colaboratory.intrinsic+json": {
              "type": "string"
            },
            "text/plain": [
              "'layer 6/22 built'"
            ]
          },
          "metadata": {},
          "output_type": "display_data"
        },
        {
          "data": {
            "application/vnd.google.colaboratory.intrinsic+json": {
              "type": "string"
            },
            "text/plain": [
              "'layer 7/22 built'"
            ]
          },
          "metadata": {},
          "output_type": "display_data"
        },
        {
          "data": {
            "application/vnd.google.colaboratory.intrinsic+json": {
              "type": "string"
            },
            "text/plain": [
              "'layer 8/22 built'"
            ]
          },
          "metadata": {},
          "output_type": "display_data"
        },
        {
          "data": {
            "application/vnd.google.colaboratory.intrinsic+json": {
              "type": "string"
            },
            "text/plain": [
              "'layer 9/22 built'"
            ]
          },
          "metadata": {},
          "output_type": "display_data"
        },
        {
          "data": {
            "application/vnd.google.colaboratory.intrinsic+json": {
              "type": "string"
            },
            "text/plain": [
              "'layer 10/22 built'"
            ]
          },
          "metadata": {},
          "output_type": "display_data"
        },
        {
          "data": {
            "application/vnd.google.colaboratory.intrinsic+json": {
              "type": "string"
            },
            "text/plain": [
              "'layer 11/22 built'"
            ]
          },
          "metadata": {},
          "output_type": "display_data"
        },
        {
          "data": {
            "application/vnd.google.colaboratory.intrinsic+json": {
              "type": "string"
            },
            "text/plain": [
              "'layer 12/22 built'"
            ]
          },
          "metadata": {},
          "output_type": "display_data"
        },
        {
          "data": {
            "application/vnd.google.colaboratory.intrinsic+json": {
              "type": "string"
            },
            "text/plain": [
              "'layer 13/22 built'"
            ]
          },
          "metadata": {},
          "output_type": "display_data"
        },
        {
          "data": {
            "application/vnd.google.colaboratory.intrinsic+json": {
              "type": "string"
            },
            "text/plain": [
              "'layer 14/22 built'"
            ]
          },
          "metadata": {},
          "output_type": "display_data"
        },
        {
          "data": {
            "application/vnd.google.colaboratory.intrinsic+json": {
              "type": "string"
            },
            "text/plain": [
              "'layer 15/22 built'"
            ]
          },
          "metadata": {},
          "output_type": "display_data"
        },
        {
          "data": {
            "application/vnd.google.colaboratory.intrinsic+json": {
              "type": "string"
            },
            "text/plain": [
              "'layer 17/22 built'"
            ]
          },
          "metadata": {},
          "output_type": "display_data"
        },
        {
          "data": {
            "application/vnd.google.colaboratory.intrinsic+json": {
              "type": "string"
            },
            "text/plain": [
              "'layer 18/22 built'"
            ]
          },
          "metadata": {},
          "output_type": "display_data"
        },
        {
          "data": {
            "application/vnd.google.colaboratory.intrinsic+json": {
              "type": "string"
            },
            "text/plain": [
              "'layer 19/22 built'"
            ]
          },
          "metadata": {},
          "output_type": "display_data"
        },
        {
          "data": {
            "application/vnd.google.colaboratory.intrinsic+json": {
              "type": "string"
            },
            "text/plain": [
              "'layer 20/22 built'"
            ]
          },
          "metadata": {},
          "output_type": "display_data"
        },
        {
          "data": {
            "application/vnd.google.colaboratory.intrinsic+json": {
              "type": "string"
            },
            "text/plain": [
              "'layer 21/22 built'"
            ]
          },
          "metadata": {},
          "output_type": "display_data"
        },
        {
          "data": {
            "application/vnd.google.colaboratory.intrinsic+json": {
              "type": "string"
            },
            "text/plain": [
              "'layer 22/22 built'"
            ]
          },
          "metadata": {},
          "output_type": "display_data"
        },
        {
          "data": {
            "application/vnd.google.colaboratory.intrinsic+json": {
              "type": "string"
            },
            "text/plain": [
              "'layer 1/7 built'"
            ]
          },
          "metadata": {},
          "output_type": "display_data"
        },
        {
          "data": {
            "application/vnd.google.colaboratory.intrinsic+json": {
              "type": "string"
            },
            "text/plain": [
              "'layer 2/7 built'"
            ]
          },
          "metadata": {},
          "output_type": "display_data"
        },
        {
          "data": {
            "application/vnd.google.colaboratory.intrinsic+json": {
              "type": "string"
            },
            "text/plain": [
              "'layer 3/7 built'"
            ]
          },
          "metadata": {},
          "output_type": "display_data"
        },
        {
          "data": {
            "application/vnd.google.colaboratory.intrinsic+json": {
              "type": "string"
            },
            "text/plain": [
              "'layer 4/7 built'"
            ]
          },
          "metadata": {},
          "output_type": "display_data"
        },
        {
          "data": {
            "application/vnd.google.colaboratory.intrinsic+json": {
              "type": "string"
            },
            "text/plain": [
              "'layer 5/7 built'"
            ]
          },
          "metadata": {},
          "output_type": "display_data"
        },
        {
          "data": {
            "application/vnd.google.colaboratory.intrinsic+json": {
              "type": "string"
            },
            "text/plain": [
              "'layer 6/7 built'"
            ]
          },
          "metadata": {},
          "output_type": "display_data"
        },
        {
          "data": {
            "application/vnd.google.colaboratory.intrinsic+json": {
              "type": "string"
            },
            "text/plain": [
              "'layer 7/7 built'"
            ]
          },
          "metadata": {},
          "output_type": "display_data"
        },
        {
          "data": {
            "application/vnd.google.colaboratory.intrinsic+json": {
              "type": "string"
            },
            "text/plain": [
              "'layer 1/7 built'"
            ]
          },
          "metadata": {},
          "output_type": "display_data"
        },
        {
          "data": {
            "application/vnd.google.colaboratory.intrinsic+json": {
              "type": "string"
            },
            "text/plain": [
              "'layer 2/7 built'"
            ]
          },
          "metadata": {},
          "output_type": "display_data"
        },
        {
          "data": {
            "application/vnd.google.colaboratory.intrinsic+json": {
              "type": "string"
            },
            "text/plain": [
              "'layer 3/7 built'"
            ]
          },
          "metadata": {},
          "output_type": "display_data"
        },
        {
          "data": {
            "application/vnd.google.colaboratory.intrinsic+json": {
              "type": "string"
            },
            "text/plain": [
              "'layer 4/7 built'"
            ]
          },
          "metadata": {},
          "output_type": "display_data"
        },
        {
          "data": {
            "application/vnd.google.colaboratory.intrinsic+json": {
              "type": "string"
            },
            "text/plain": [
              "'layer 5/7 built'"
            ]
          },
          "metadata": {},
          "output_type": "display_data"
        },
        {
          "data": {
            "application/vnd.google.colaboratory.intrinsic+json": {
              "type": "string"
            },
            "text/plain": [
              "'layer 6/7 built'"
            ]
          },
          "metadata": {},
          "output_type": "display_data"
        },
        {
          "data": {
            "application/vnd.google.colaboratory.intrinsic+json": {
              "type": "string"
            },
            "text/plain": [
              "'layer 7/7 built'"
            ]
          },
          "metadata": {},
          "output_type": "display_data"
        },
        {
          "data": {
            "application/vnd.google.colaboratory.intrinsic+json": {
              "type": "string"
            },
            "text/plain": [
              "'layer 1/7 built'"
            ]
          },
          "metadata": {},
          "output_type": "display_data"
        },
        {
          "data": {
            "application/vnd.google.colaboratory.intrinsic+json": {
              "type": "string"
            },
            "text/plain": [
              "'layer 2/7 built'"
            ]
          },
          "metadata": {},
          "output_type": "display_data"
        },
        {
          "data": {
            "application/vnd.google.colaboratory.intrinsic+json": {
              "type": "string"
            },
            "text/plain": [
              "'layer 3/7 built'"
            ]
          },
          "metadata": {},
          "output_type": "display_data"
        },
        {
          "data": {
            "application/vnd.google.colaboratory.intrinsic+json": {
              "type": "string"
            },
            "text/plain": [
              "'layer 4/7 built'"
            ]
          },
          "metadata": {},
          "output_type": "display_data"
        },
        {
          "data": {
            "application/vnd.google.colaboratory.intrinsic+json": {
              "type": "string"
            },
            "text/plain": [
              "'layer 5/7 built'"
            ]
          },
          "metadata": {},
          "output_type": "display_data"
        },
        {
          "data": {
            "application/vnd.google.colaboratory.intrinsic+json": {
              "type": "string"
            },
            "text/plain": [
              "'layer 6/7 built'"
            ]
          },
          "metadata": {},
          "output_type": "display_data"
        },
        {
          "data": {
            "application/vnd.google.colaboratory.intrinsic+json": {
              "type": "string"
            },
            "text/plain": [
              "'layer 7/7 built'"
            ]
          },
          "metadata": {},
          "output_type": "display_data"
        },
        {
          "data": {
            "application/vnd.google.colaboratory.intrinsic+json": {
              "type": "string"
            },
            "text/plain": [
              "'layer 1/4 built'"
            ]
          },
          "metadata": {},
          "output_type": "display_data"
        },
        {
          "data": {
            "application/vnd.google.colaboratory.intrinsic+json": {
              "type": "string"
            },
            "text/plain": [
              "'layer 2/4 built'"
            ]
          },
          "metadata": {},
          "output_type": "display_data"
        },
        {
          "data": {
            "application/vnd.google.colaboratory.intrinsic+json": {
              "type": "string"
            },
            "text/plain": [
              "'layer 3/4 built'"
            ]
          },
          "metadata": {},
          "output_type": "display_data"
        },
        {
          "data": {
            "application/vnd.google.colaboratory.intrinsic+json": {
              "type": "string"
            },
            "text/plain": [
              "'layer 4/4 built'"
            ]
          },
          "metadata": {},
          "output_type": "display_data"
        },
        {
          "data": {
            "application/vnd.google.colaboratory.intrinsic+json": {
              "type": "string"
            },
            "text/plain": [
              "'layer 1/10 built'"
            ]
          },
          "metadata": {},
          "output_type": "display_data"
        },
        {
          "data": {
            "application/vnd.google.colaboratory.intrinsic+json": {
              "type": "string"
            },
            "text/plain": [
              "'layer 2/10 built'"
            ]
          },
          "metadata": {},
          "output_type": "display_data"
        },
        {
          "data": {
            "application/vnd.google.colaboratory.intrinsic+json": {
              "type": "string"
            },
            "text/plain": [
              "'layer 3/10 built'"
            ]
          },
          "metadata": {},
          "output_type": "display_data"
        },
        {
          "data": {
            "application/vnd.google.colaboratory.intrinsic+json": {
              "type": "string"
            },
            "text/plain": [
              "'layer 4/10 built'"
            ]
          },
          "metadata": {},
          "output_type": "display_data"
        },
        {
          "data": {
            "application/vnd.google.colaboratory.intrinsic+json": {
              "type": "string"
            },
            "text/plain": [
              "'layer 5/10 built'"
            ]
          },
          "metadata": {},
          "output_type": "display_data"
        },
        {
          "data": {
            "application/vnd.google.colaboratory.intrinsic+json": {
              "type": "string"
            },
            "text/plain": [
              "'layer 6/10 built'"
            ]
          },
          "metadata": {},
          "output_type": "display_data"
        },
        {
          "data": {
            "application/vnd.google.colaboratory.intrinsic+json": {
              "type": "string"
            },
            "text/plain": [
              "'layer 7/10 built'"
            ]
          },
          "metadata": {},
          "output_type": "display_data"
        },
        {
          "data": {
            "application/vnd.google.colaboratory.intrinsic+json": {
              "type": "string"
            },
            "text/plain": [
              "'layer 8/10 built'"
            ]
          },
          "metadata": {},
          "output_type": "display_data"
        },
        {
          "data": {
            "application/vnd.google.colaboratory.intrinsic+json": {
              "type": "string"
            },
            "text/plain": [
              "'layer 9/10 built'"
            ]
          },
          "metadata": {},
          "output_type": "display_data"
        },
        {
          "data": {
            "application/vnd.google.colaboratory.intrinsic+json": {
              "type": "string"
            },
            "text/plain": [
              "'layer 10/10 built'"
            ]
          },
          "metadata": {},
          "output_type": "display_data"
        },
        {
          "data": {
            "application/vnd.google.colaboratory.intrinsic+json": {
              "type": "string"
            },
            "text/plain": [
              "'layer 1/10 built'"
            ]
          },
          "metadata": {},
          "output_type": "display_data"
        },
        {
          "data": {
            "application/vnd.google.colaboratory.intrinsic+json": {
              "type": "string"
            },
            "text/plain": [
              "'layer 2/10 built'"
            ]
          },
          "metadata": {},
          "output_type": "display_data"
        },
        {
          "data": {
            "application/vnd.google.colaboratory.intrinsic+json": {
              "type": "string"
            },
            "text/plain": [
              "'layer 3/10 built'"
            ]
          },
          "metadata": {},
          "output_type": "display_data"
        },
        {
          "data": {
            "application/vnd.google.colaboratory.intrinsic+json": {
              "type": "string"
            },
            "text/plain": [
              "'layer 4/10 built'"
            ]
          },
          "metadata": {},
          "output_type": "display_data"
        },
        {
          "data": {
            "application/vnd.google.colaboratory.intrinsic+json": {
              "type": "string"
            },
            "text/plain": [
              "'layer 5/10 built'"
            ]
          },
          "metadata": {},
          "output_type": "display_data"
        },
        {
          "data": {
            "application/vnd.google.colaboratory.intrinsic+json": {
              "type": "string"
            },
            "text/plain": [
              "'layer 6/10 built'"
            ]
          },
          "metadata": {},
          "output_type": "display_data"
        },
        {
          "data": {
            "application/vnd.google.colaboratory.intrinsic+json": {
              "type": "string"
            },
            "text/plain": [
              "'layer 7/10 built'"
            ]
          },
          "metadata": {},
          "output_type": "display_data"
        },
        {
          "data": {
            "application/vnd.google.colaboratory.intrinsic+json": {
              "type": "string"
            },
            "text/plain": [
              "'layer 8/10 built'"
            ]
          },
          "metadata": {},
          "output_type": "display_data"
        },
        {
          "data": {
            "application/vnd.google.colaboratory.intrinsic+json": {
              "type": "string"
            },
            "text/plain": [
              "'layer 9/10 built'"
            ]
          },
          "metadata": {},
          "output_type": "display_data"
        },
        {
          "data": {
            "application/vnd.google.colaboratory.intrinsic+json": {
              "type": "string"
            },
            "text/plain": [
              "'layer 10/10 built'"
            ]
          },
          "metadata": {},
          "output_type": "display_data"
        },
        {
          "data": {
            "application/vnd.google.colaboratory.intrinsic+json": {
              "type": "string"
            },
            "text/plain": [
              "'layer 1/10 built'"
            ]
          },
          "metadata": {},
          "output_type": "display_data"
        },
        {
          "data": {
            "application/vnd.google.colaboratory.intrinsic+json": {
              "type": "string"
            },
            "text/plain": [
              "'layer 2/10 built'"
            ]
          },
          "metadata": {},
          "output_type": "display_data"
        },
        {
          "data": {
            "application/vnd.google.colaboratory.intrinsic+json": {
              "type": "string"
            },
            "text/plain": [
              "'layer 3/10 built'"
            ]
          },
          "metadata": {},
          "output_type": "display_data"
        },
        {
          "data": {
            "application/vnd.google.colaboratory.intrinsic+json": {
              "type": "string"
            },
            "text/plain": [
              "'layer 4/10 built'"
            ]
          },
          "metadata": {},
          "output_type": "display_data"
        },
        {
          "data": {
            "application/vnd.google.colaboratory.intrinsic+json": {
              "type": "string"
            },
            "text/plain": [
              "'layer 5/10 built'"
            ]
          },
          "metadata": {},
          "output_type": "display_data"
        },
        {
          "data": {
            "application/vnd.google.colaboratory.intrinsic+json": {
              "type": "string"
            },
            "text/plain": [
              "'layer 6/10 built'"
            ]
          },
          "metadata": {},
          "output_type": "display_data"
        },
        {
          "data": {
            "application/vnd.google.colaboratory.intrinsic+json": {
              "type": "string"
            },
            "text/plain": [
              "'layer 7/10 built'"
            ]
          },
          "metadata": {},
          "output_type": "display_data"
        },
        {
          "data": {
            "application/vnd.google.colaboratory.intrinsic+json": {
              "type": "string"
            },
            "text/plain": [
              "'layer 8/10 built'"
            ]
          },
          "metadata": {},
          "output_type": "display_data"
        },
        {
          "data": {
            "application/vnd.google.colaboratory.intrinsic+json": {
              "type": "string"
            },
            "text/plain": [
              "'layer 9/10 built'"
            ]
          },
          "metadata": {},
          "output_type": "display_data"
        },
        {
          "data": {
            "application/vnd.google.colaboratory.intrinsic+json": {
              "type": "string"
            },
            "text/plain": [
              "'layer 10/10 built'"
            ]
          },
          "metadata": {},
          "output_type": "display_data"
        },
        {
          "data": {
            "application/vnd.google.colaboratory.intrinsic+json": {
              "type": "string"
            },
            "text/plain": [
              "'layer 1/10 built'"
            ]
          },
          "metadata": {},
          "output_type": "display_data"
        },
        {
          "data": {
            "application/vnd.google.colaboratory.intrinsic+json": {
              "type": "string"
            },
            "text/plain": [
              "'layer 2/10 built'"
            ]
          },
          "metadata": {},
          "output_type": "display_data"
        },
        {
          "data": {
            "application/vnd.google.colaboratory.intrinsic+json": {
              "type": "string"
            },
            "text/plain": [
              "'layer 3/10 built'"
            ]
          },
          "metadata": {},
          "output_type": "display_data"
        },
        {
          "data": {
            "application/vnd.google.colaboratory.intrinsic+json": {
              "type": "string"
            },
            "text/plain": [
              "'layer 4/10 built'"
            ]
          },
          "metadata": {},
          "output_type": "display_data"
        },
        {
          "data": {
            "application/vnd.google.colaboratory.intrinsic+json": {
              "type": "string"
            },
            "text/plain": [
              "'layer 5/10 built'"
            ]
          },
          "metadata": {},
          "output_type": "display_data"
        },
        {
          "data": {
            "application/vnd.google.colaboratory.intrinsic+json": {
              "type": "string"
            },
            "text/plain": [
              "'layer 6/10 built'"
            ]
          },
          "metadata": {},
          "output_type": "display_data"
        },
        {
          "data": {
            "application/vnd.google.colaboratory.intrinsic+json": {
              "type": "string"
            },
            "text/plain": [
              "'layer 7/10 built'"
            ]
          },
          "metadata": {},
          "output_type": "display_data"
        },
        {
          "data": {
            "application/vnd.google.colaboratory.intrinsic+json": {
              "type": "string"
            },
            "text/plain": [
              "'layer 8/10 built'"
            ]
          },
          "metadata": {},
          "output_type": "display_data"
        },
        {
          "data": {
            "application/vnd.google.colaboratory.intrinsic+json": {
              "type": "string"
            },
            "text/plain": [
              "'layer 9/10 built'"
            ]
          },
          "metadata": {},
          "output_type": "display_data"
        },
        {
          "data": {
            "application/vnd.google.colaboratory.intrinsic+json": {
              "type": "string"
            },
            "text/plain": [
              "'layer 10/10 built'"
            ]
          },
          "metadata": {},
          "output_type": "display_data"
        },
        {
          "data": {
            "application/vnd.google.colaboratory.intrinsic+json": {
              "type": "string"
            },
            "text/plain": [
              "'layer 1/6 built'"
            ]
          },
          "metadata": {},
          "output_type": "display_data"
        },
        {
          "data": {
            "application/vnd.google.colaboratory.intrinsic+json": {
              "type": "string"
            },
            "text/plain": [
              "'layer 2/6 built'"
            ]
          },
          "metadata": {},
          "output_type": "display_data"
        },
        {
          "data": {
            "application/vnd.google.colaboratory.intrinsic+json": {
              "type": "string"
            },
            "text/plain": [
              "'layer 3/6 built'"
            ]
          },
          "metadata": {},
          "output_type": "display_data"
        },
        {
          "data": {
            "application/vnd.google.colaboratory.intrinsic+json": {
              "type": "string"
            },
            "text/plain": [
              "'layer 4/6 built'"
            ]
          },
          "metadata": {},
          "output_type": "display_data"
        },
        {
          "data": {
            "application/vnd.google.colaboratory.intrinsic+json": {
              "type": "string"
            },
            "text/plain": [
              "'layer 5/6 built'"
            ]
          },
          "metadata": {},
          "output_type": "display_data"
        },
        {
          "data": {
            "application/vnd.google.colaboratory.intrinsic+json": {
              "type": "string"
            },
            "text/plain": [
              "'layer 6/6 built'"
            ]
          },
          "metadata": {},
          "output_type": "display_data"
        },
        {
          "data": {
            "application/vnd.google.colaboratory.intrinsic+json": {
              "type": "string"
            },
            "text/plain": [
              "'input shape is:ivy.Shape(1, 256, 256, 3)'"
            ]
          },
          "metadata": {},
          "output_type": "display_data"
        },
        {
          "data": {
            "application/vnd.google.colaboratory.intrinsic+json": {
              "type": "string"
            },
            "text/plain": [
              "'v3 1/23, output shape is:ivy.Shape(1, 127, 127, 32)'"
            ]
          },
          "metadata": {},
          "output_type": "display_data"
        },
        {
          "data": {
            "application/vnd.google.colaboratory.intrinsic+json": {
              "type": "string"
            },
            "text/plain": [
              "'v3 2/23, output shape is:ivy.Shape(1, 125, 125, 32)'"
            ]
          },
          "metadata": {},
          "output_type": "display_data"
        },
        {
          "data": {
            "application/vnd.google.colaboratory.intrinsic+json": {
              "type": "string"
            },
            "text/plain": [
              "'v3 3/23, output shape is:ivy.Shape(1, 125, 125, 64)'"
            ]
          },
          "metadata": {},
          "output_type": "display_data"
        },
        {
          "data": {
            "application/vnd.google.colaboratory.intrinsic+json": {
              "type": "string"
            },
            "text/plain": [
              "'v3 4/23, output shape is:ivy.Shape(1, 62, 62, 64)'"
            ]
          },
          "metadata": {},
          "output_type": "display_data"
        },
        {
          "data": {
            "application/vnd.google.colaboratory.intrinsic+json": {
              "type": "string"
            },
            "text/plain": [
              "'v3 5/23, output shape is:ivy.Shape(1, 62, 62, 80)'"
            ]
          },
          "metadata": {},
          "output_type": "display_data"
        },
        {
          "data": {
            "application/vnd.google.colaboratory.intrinsic+json": {
              "type": "string"
            },
            "text/plain": [
              "'v3 6/23, output shape is:ivy.Shape(1, 60, 60, 192)'"
            ]
          },
          "metadata": {},
          "output_type": "display_data"
        },
        {
          "data": {
            "application/vnd.google.colaboratory.intrinsic+json": {
              "type": "string"
            },
            "text/plain": [
              "'v3 7/23, output shape is:ivy.Shape(1, 29, 29, 192)'"
            ]
          },
          "metadata": {},
          "output_type": "display_data"
        },
        {
          "data": {
            "application/vnd.google.colaboratory.intrinsic+json": {
              "type": "string"
            },
            "text/plain": [
              "'input shape is:ivy.Shape(1, 29, 29, 192)'"
            ]
          },
          "metadata": {},
          "output_type": "display_data"
        },
        {
          "data": {
            "application/vnd.google.colaboratory.intrinsic+json": {
              "type": "string"
            },
            "text/plain": [
              "'InceptionA | branch1x1 1/20, output shape is: ivy.Shape(1, 29, 29, 64)'"
            ]
          },
          "metadata": {},
          "output_type": "display_data"
        },
        {
          "data": {
            "application/vnd.google.colaboratory.intrinsic+json": {
              "type": "string"
            },
            "text/plain": [
              "'InceptionA | one 2/20, output shape is: ivy.Shape(1, 29, 29, 48)'"
            ]
          },
          "metadata": {},
          "output_type": "display_data"
        },
        {
          "data": {
            "application/vnd.google.colaboratory.intrinsic+json": {
              "type": "string"
            },
            "text/plain": [
              "'InceptionA | branch5x5_1 3/20, output shape is: ivy.Shape(1, 29, 29, 64)'"
            ]
          },
          "metadata": {},
          "output_type": "display_data"
        },
        {
          "data": {
            "application/vnd.google.colaboratory.intrinsic+json": {
              "type": "string"
            },
            "text/plain": [
              "'InceptionA | one 4/20, output shape is: ivy.Shape(1, 29, 29, 64)'"
            ]
          },
          "metadata": {},
          "output_type": "display_data"
        },
        {
          "data": {
            "application/vnd.google.colaboratory.intrinsic+json": {
              "type": "string"
            },
            "text/plain": [
              "'InceptionA | one 5/20, output shape is: ivy.Shape(1, 29, 29, 96)'"
            ]
          },
          "metadata": {},
          "output_type": "display_data"
        },
        {
          "data": {
            "application/vnd.google.colaboratory.intrinsic+json": {
              "type": "string"
            },
            "text/plain": [
              "'InceptionA | branch3x3dbl_1 6/20, output shape is: ivy.Shape(1, 29, 29, 96)'"
            ]
          },
          "metadata": {},
          "output_type": "display_data"
        },
        {
          "data": {
            "application/vnd.google.colaboratory.intrinsic+json": {
              "type": "string"
            },
            "text/plain": [
              "'InceptionA | one 7/20, output shape is: ivy.Shape(1, 29, 29, 192)'"
            ]
          },
          "metadata": {},
          "output_type": "display_data"
        },
        {
          "data": {
            "application/vnd.google.colaboratory.intrinsic+json": {
              "type": "string"
            },
            "text/plain": [
              "'InceptionA | branch_pool 8/20, output shape is: ivy.Shape(1, 29, 29, 32)'"
            ]
          },
          "metadata": {},
          "output_type": "display_data"
        },
        {
          "data": {
            "application/vnd.google.colaboratory.intrinsic+json": {
              "type": "string"
            },
            "text/plain": [
              "'InceptionA | outputs 20/20'"
            ]
          },
          "metadata": {},
          "output_type": "display_data"
        },
        {
          "data": {
            "application/vnd.google.colaboratory.intrinsic+json": {
              "type": "string"
            },
            "text/plain": [
              "'v3 8/23, output is:ivy.Shape(1, 29, 29, 256)'"
            ]
          },
          "metadata": {},
          "output_type": "display_data"
        },
        {
          "data": {
            "application/vnd.google.colaboratory.intrinsic+json": {
              "type": "string"
            },
            "text/plain": [
              "'input shape is:ivy.Shape(1, 29, 29, 256)'"
            ]
          },
          "metadata": {},
          "output_type": "display_data"
        },
        {
          "data": {
            "application/vnd.google.colaboratory.intrinsic+json": {
              "type": "string"
            },
            "text/plain": [
              "'InceptionA | branch1x1 1/20, output shape is: ivy.Shape(1, 29, 29, 64)'"
            ]
          },
          "metadata": {},
          "output_type": "display_data"
        },
        {
          "data": {
            "application/vnd.google.colaboratory.intrinsic+json": {
              "type": "string"
            },
            "text/plain": [
              "'InceptionA | one 2/20, output shape is: ivy.Shape(1, 29, 29, 48)'"
            ]
          },
          "metadata": {},
          "output_type": "display_data"
        },
        {
          "data": {
            "application/vnd.google.colaboratory.intrinsic+json": {
              "type": "string"
            },
            "text/plain": [
              "'InceptionA | branch5x5_1 3/20, output shape is: ivy.Shape(1, 29, 29, 64)'"
            ]
          },
          "metadata": {},
          "output_type": "display_data"
        },
        {
          "data": {
            "application/vnd.google.colaboratory.intrinsic+json": {
              "type": "string"
            },
            "text/plain": [
              "'InceptionA | one 4/20, output shape is: ivy.Shape(1, 29, 29, 64)'"
            ]
          },
          "metadata": {},
          "output_type": "display_data"
        },
        {
          "data": {
            "application/vnd.google.colaboratory.intrinsic+json": {
              "type": "string"
            },
            "text/plain": [
              "'InceptionA | one 5/20, output shape is: ivy.Shape(1, 29, 29, 96)'"
            ]
          },
          "metadata": {},
          "output_type": "display_data"
        },
        {
          "data": {
            "application/vnd.google.colaboratory.intrinsic+json": {
              "type": "string"
            },
            "text/plain": [
              "'InceptionA | branch3x3dbl_1 6/20, output shape is: ivy.Shape(1, 29, 29, 96)'"
            ]
          },
          "metadata": {},
          "output_type": "display_data"
        },
        {
          "data": {
            "application/vnd.google.colaboratory.intrinsic+json": {
              "type": "string"
            },
            "text/plain": [
              "'InceptionA | one 7/20, output shape is: ivy.Shape(1, 29, 29, 256)'"
            ]
          },
          "metadata": {},
          "output_type": "display_data"
        },
        {
          "data": {
            "application/vnd.google.colaboratory.intrinsic+json": {
              "type": "string"
            },
            "text/plain": [
              "'InceptionA | branch_pool 8/20, output shape is: ivy.Shape(1, 29, 29, 64)'"
            ]
          },
          "metadata": {},
          "output_type": "display_data"
        },
        {
          "data": {
            "application/vnd.google.colaboratory.intrinsic+json": {
              "type": "string"
            },
            "text/plain": [
              "'InceptionA | outputs 20/20'"
            ]
          },
          "metadata": {},
          "output_type": "display_data"
        },
        {
          "data": {
            "application/vnd.google.colaboratory.intrinsic+json": {
              "type": "string"
            },
            "text/plain": [
              "'v3 9/23, output shape is:ivy.Shape(1, 29, 29, 288)'"
            ]
          },
          "metadata": {},
          "output_type": "display_data"
        },
        {
          "data": {
            "application/vnd.google.colaboratory.intrinsic+json": {
              "type": "string"
            },
            "text/plain": [
              "'input shape is:ivy.Shape(1, 29, 29, 288)'"
            ]
          },
          "metadata": {},
          "output_type": "display_data"
        },
        {
          "data": {
            "application/vnd.google.colaboratory.intrinsic+json": {
              "type": "string"
            },
            "text/plain": [
              "'InceptionA | branch1x1 1/20, output shape is: ivy.Shape(1, 29, 29, 64)'"
            ]
          },
          "metadata": {},
          "output_type": "display_data"
        },
        {
          "data": {
            "application/vnd.google.colaboratory.intrinsic+json": {
              "type": "string"
            },
            "text/plain": [
              "'InceptionA | one 2/20, output shape is: ivy.Shape(1, 29, 29, 48)'"
            ]
          },
          "metadata": {},
          "output_type": "display_data"
        },
        {
          "data": {
            "application/vnd.google.colaboratory.intrinsic+json": {
              "type": "string"
            },
            "text/plain": [
              "'InceptionA | branch5x5_1 3/20, output shape is: ivy.Shape(1, 29, 29, 64)'"
            ]
          },
          "metadata": {},
          "output_type": "display_data"
        },
        {
          "data": {
            "application/vnd.google.colaboratory.intrinsic+json": {
              "type": "string"
            },
            "text/plain": [
              "'InceptionA | one 4/20, output shape is: ivy.Shape(1, 29, 29, 64)'"
            ]
          },
          "metadata": {},
          "output_type": "display_data"
        },
        {
          "data": {
            "application/vnd.google.colaboratory.intrinsic+json": {
              "type": "string"
            },
            "text/plain": [
              "'InceptionA | one 5/20, output shape is: ivy.Shape(1, 29, 29, 96)'"
            ]
          },
          "metadata": {},
          "output_type": "display_data"
        },
        {
          "data": {
            "application/vnd.google.colaboratory.intrinsic+json": {
              "type": "string"
            },
            "text/plain": [
              "'InceptionA | branch3x3dbl_1 6/20, output shape is: ivy.Shape(1, 29, 29, 96)'"
            ]
          },
          "metadata": {},
          "output_type": "display_data"
        },
        {
          "data": {
            "application/vnd.google.colaboratory.intrinsic+json": {
              "type": "string"
            },
            "text/plain": [
              "'InceptionA | one 7/20, output shape is: ivy.Shape(1, 29, 29, 288)'"
            ]
          },
          "metadata": {},
          "output_type": "display_data"
        },
        {
          "data": {
            "application/vnd.google.colaboratory.intrinsic+json": {
              "type": "string"
            },
            "text/plain": [
              "'InceptionA | branch_pool 8/20, output shape is: ivy.Shape(1, 29, 29, 64)'"
            ]
          },
          "metadata": {},
          "output_type": "display_data"
        },
        {
          "data": {
            "application/vnd.google.colaboratory.intrinsic+json": {
              "type": "string"
            },
            "text/plain": [
              "'InceptionA | outputs 20/20'"
            ]
          },
          "metadata": {},
          "output_type": "display_data"
        },
        {
          "data": {
            "application/vnd.google.colaboratory.intrinsic+json": {
              "type": "string"
            },
            "text/plain": [
              "'v3 10/23, output shape is:ivy.Shape(1, 29, 29, 288)'"
            ]
          },
          "metadata": {},
          "output_type": "display_data"
        },
        {
          "data": {
            "application/vnd.google.colaboratory.intrinsic+json": {
              "type": "string"
            },
            "text/plain": [
              "'input shape is:ivy.Shape(1, 29, 29, 288)'"
            ]
          },
          "metadata": {},
          "output_type": "display_data"
        },
        {
          "data": {
            "application/vnd.google.colaboratory.intrinsic+json": {
              "type": "string"
            },
            "text/plain": [
              "'one 1/20, output shape is:ivy.Shape(1, 14, 14, 384)'"
            ]
          },
          "metadata": {},
          "output_type": "display_data"
        },
        {
          "data": {
            "application/vnd.google.colaboratory.intrinsic+json": {
              "type": "string"
            },
            "text/plain": [
              "'one 2/20, output shape is:ivy.Shape(1, 29, 29, 64)'"
            ]
          },
          "metadata": {},
          "output_type": "display_data"
        },
        {
          "data": {
            "application/vnd.google.colaboratory.intrinsic+json": {
              "type": "string"
            },
            "text/plain": [
              "'one 3/20, output shape is:ivy.Shape(1, 29, 29, 96)'"
            ]
          },
          "metadata": {},
          "output_type": "display_data"
        },
        {
          "data": {
            "application/vnd.google.colaboratory.intrinsic+json": {
              "type": "string"
            },
            "text/plain": [
              "'one 4/20, output shape is:ivy.Shape(1, 14, 14, 96)'"
            ]
          },
          "metadata": {},
          "output_type": "display_data"
        },
        {
          "data": {
            "application/vnd.google.colaboratory.intrinsic+json": {
              "type": "string"
            },
            "text/plain": [
              "'one 20/20, output shape is:ivy.Shape(1, 14, 14, 288)'"
            ]
          },
          "metadata": {},
          "output_type": "display_data"
        },
        {
          "data": {
            "application/vnd.google.colaboratory.intrinsic+json": {
              "type": "string"
            },
            "text/plain": [
              "'one 20/20'"
            ]
          },
          "metadata": {},
          "output_type": "display_data"
        },
        {
          "data": {
            "application/vnd.google.colaboratory.intrinsic+json": {
              "type": "string"
            },
            "text/plain": [
              "'v3 11/23, output shape is:ivy.Shape(1, 14, 14, 768)'"
            ]
          },
          "metadata": {},
          "output_type": "display_data"
        },
        {
          "data": {
            "application/vnd.google.colaboratory.intrinsic+json": {
              "type": "string"
            },
            "text/plain": [
              "'input shape is:ivy.Shape(1, 14, 14, 768)'"
            ]
          },
          "metadata": {},
          "output_type": "display_data"
        },
        {
          "data": {
            "application/vnd.google.colaboratory.intrinsic+json": {
              "type": "string"
            },
            "text/plain": [
              "'one 1/20, output shape is:ivy.Shape(1, 14, 14, 192)'"
            ]
          },
          "metadata": {},
          "output_type": "display_data"
        },
        {
          "data": {
            "application/vnd.google.colaboratory.intrinsic+json": {
              "type": "string"
            },
            "text/plain": [
              "'one 2/20, output shape is:ivy.Shape(1, 14, 14, 128)'"
            ]
          },
          "metadata": {},
          "output_type": "display_data"
        },
        {
          "data": {
            "application/vnd.google.colaboratory.intrinsic+json": {
              "type": "string"
            },
            "text/plain": [
              "'one 3/20, output shape is:ivy.Shape(1, 14, 14, 128)'"
            ]
          },
          "metadata": {},
          "output_type": "display_data"
        },
        {
          "data": {
            "application/vnd.google.colaboratory.intrinsic+json": {
              "type": "string"
            },
            "text/plain": [
              "'one 4/20, output shape is:ivy.Shape(1, 14, 14, 192)'"
            ]
          },
          "metadata": {},
          "output_type": "display_data"
        },
        {
          "data": {
            "application/vnd.google.colaboratory.intrinsic+json": {
              "type": "string"
            },
            "text/plain": [
              "'one 5/20, output shape is:ivy.Shape(1, 14, 14, 128)'"
            ]
          },
          "metadata": {},
          "output_type": "display_data"
        },
        {
          "data": {
            "application/vnd.google.colaboratory.intrinsic+json": {
              "type": "string"
            },
            "text/plain": [
              "'one 6/20, output shape is:ivy.Shape(1, 14, 14, 128)'"
            ]
          },
          "metadata": {},
          "output_type": "display_data"
        },
        {
          "data": {
            "application/vnd.google.colaboratory.intrinsic+json": {
              "type": "string"
            },
            "text/plain": [
              "'one 7/20, output shape is:ivy.Shape(1, 14, 14, 128)'"
            ]
          },
          "metadata": {},
          "output_type": "display_data"
        },
        {
          "data": {
            "application/vnd.google.colaboratory.intrinsic+json": {
              "type": "string"
            },
            "text/plain": [
              "'one 8/20, output shape is:ivy.Shape(1, 14, 14, 128)'"
            ]
          },
          "metadata": {},
          "output_type": "display_data"
        },
        {
          "data": {
            "application/vnd.google.colaboratory.intrinsic+json": {
              "type": "string"
            },
            "text/plain": [
              "'one 9/20, output shape is:ivy.Shape(1, 14, 14, 192)'"
            ]
          },
          "metadata": {},
          "output_type": "display_data"
        },
        {
          "data": {
            "application/vnd.google.colaboratory.intrinsic+json": {
              "type": "string"
            },
            "text/plain": [
              "'one 10/20, output shape is:ivy.Shape(1, 14, 14, 768)'"
            ]
          },
          "metadata": {},
          "output_type": "display_data"
        },
        {
          "data": {
            "application/vnd.google.colaboratory.intrinsic+json": {
              "type": "string"
            },
            "text/plain": [
              "'one 11/20, output shape is:ivy.Shape(1, 14, 14, 192)'"
            ]
          },
          "metadata": {},
          "output_type": "display_data"
        },
        {
          "data": {
            "application/vnd.google.colaboratory.intrinsic+json": {
              "type": "string"
            },
            "text/plain": [
              "'one 20/20'"
            ]
          },
          "metadata": {},
          "output_type": "display_data"
        },
        {
          "data": {
            "application/vnd.google.colaboratory.intrinsic+json": {
              "type": "string"
            },
            "text/plain": [
              "'v3 12/23, output shape is:ivy.Shape(1, 14, 14, 768)'"
            ]
          },
          "metadata": {},
          "output_type": "display_data"
        },
        {
          "data": {
            "application/vnd.google.colaboratory.intrinsic+json": {
              "type": "string"
            },
            "text/plain": [
              "'input shape is:ivy.Shape(1, 14, 14, 768)'"
            ]
          },
          "metadata": {},
          "output_type": "display_data"
        },
        {
          "data": {
            "application/vnd.google.colaboratory.intrinsic+json": {
              "type": "string"
            },
            "text/plain": [
              "'one 1/20, output shape is:ivy.Shape(1, 14, 14, 192)'"
            ]
          },
          "metadata": {},
          "output_type": "display_data"
        },
        {
          "data": {
            "application/vnd.google.colaboratory.intrinsic+json": {
              "type": "string"
            },
            "text/plain": [
              "'one 2/20, output shape is:ivy.Shape(1, 14, 14, 160)'"
            ]
          },
          "metadata": {},
          "output_type": "display_data"
        },
        {
          "data": {
            "application/vnd.google.colaboratory.intrinsic+json": {
              "type": "string"
            },
            "text/plain": [
              "'one 3/20, output shape is:ivy.Shape(1, 14, 14, 160)'"
            ]
          },
          "metadata": {},
          "output_type": "display_data"
        },
        {
          "data": {
            "application/vnd.google.colaboratory.intrinsic+json": {
              "type": "string"
            },
            "text/plain": [
              "'one 4/20, output shape is:ivy.Shape(1, 14, 14, 192)'"
            ]
          },
          "metadata": {},
          "output_type": "display_data"
        },
        {
          "data": {
            "application/vnd.google.colaboratory.intrinsic+json": {
              "type": "string"
            },
            "text/plain": [
              "'one 5/20, output shape is:ivy.Shape(1, 14, 14, 160)'"
            ]
          },
          "metadata": {},
          "output_type": "display_data"
        },
        {
          "data": {
            "application/vnd.google.colaboratory.intrinsic+json": {
              "type": "string"
            },
            "text/plain": [
              "'one 6/20, output shape is:ivy.Shape(1, 14, 14, 160)'"
            ]
          },
          "metadata": {},
          "output_type": "display_data"
        },
        {
          "data": {
            "application/vnd.google.colaboratory.intrinsic+json": {
              "type": "string"
            },
            "text/plain": [
              "'one 7/20, output shape is:ivy.Shape(1, 14, 14, 160)'"
            ]
          },
          "metadata": {},
          "output_type": "display_data"
        },
        {
          "data": {
            "application/vnd.google.colaboratory.intrinsic+json": {
              "type": "string"
            },
            "text/plain": [
              "'one 8/20, output shape is:ivy.Shape(1, 14, 14, 160)'"
            ]
          },
          "metadata": {},
          "output_type": "display_data"
        },
        {
          "data": {
            "application/vnd.google.colaboratory.intrinsic+json": {
              "type": "string"
            },
            "text/plain": [
              "'one 9/20, output shape is:ivy.Shape(1, 14, 14, 192)'"
            ]
          },
          "metadata": {},
          "output_type": "display_data"
        },
        {
          "data": {
            "application/vnd.google.colaboratory.intrinsic+json": {
              "type": "string"
            },
            "text/plain": [
              "'one 10/20, output shape is:ivy.Shape(1, 14, 14, 768)'"
            ]
          },
          "metadata": {},
          "output_type": "display_data"
        },
        {
          "data": {
            "application/vnd.google.colaboratory.intrinsic+json": {
              "type": "string"
            },
            "text/plain": [
              "'one 11/20, output shape is:ivy.Shape(1, 14, 14, 192)'"
            ]
          },
          "metadata": {},
          "output_type": "display_data"
        },
        {
          "data": {
            "application/vnd.google.colaboratory.intrinsic+json": {
              "type": "string"
            },
            "text/plain": [
              "'one 20/20'"
            ]
          },
          "metadata": {},
          "output_type": "display_data"
        },
        {
          "data": {
            "application/vnd.google.colaboratory.intrinsic+json": {
              "type": "string"
            },
            "text/plain": [
              "'v3 13/23, output shape is:ivy.Shape(1, 14, 14, 768)'"
            ]
          },
          "metadata": {},
          "output_type": "display_data"
        },
        {
          "data": {
            "application/vnd.google.colaboratory.intrinsic+json": {
              "type": "string"
            },
            "text/plain": [
              "'input shape is:ivy.Shape(1, 14, 14, 768)'"
            ]
          },
          "metadata": {},
          "output_type": "display_data"
        },
        {
          "data": {
            "application/vnd.google.colaboratory.intrinsic+json": {
              "type": "string"
            },
            "text/plain": [
              "'one 1/20, output shape is:ivy.Shape(1, 14, 14, 192)'"
            ]
          },
          "metadata": {},
          "output_type": "display_data"
        },
        {
          "data": {
            "application/vnd.google.colaboratory.intrinsic+json": {
              "type": "string"
            },
            "text/plain": [
              "'one 2/20, output shape is:ivy.Shape(1, 14, 14, 160)'"
            ]
          },
          "metadata": {},
          "output_type": "display_data"
        },
        {
          "data": {
            "application/vnd.google.colaboratory.intrinsic+json": {
              "type": "string"
            },
            "text/plain": [
              "'one 3/20, output shape is:ivy.Shape(1, 14, 14, 160)'"
            ]
          },
          "metadata": {},
          "output_type": "display_data"
        },
        {
          "data": {
            "application/vnd.google.colaboratory.intrinsic+json": {
              "type": "string"
            },
            "text/plain": [
              "'one 4/20, output shape is:ivy.Shape(1, 14, 14, 192)'"
            ]
          },
          "metadata": {},
          "output_type": "display_data"
        },
        {
          "data": {
            "application/vnd.google.colaboratory.intrinsic+json": {
              "type": "string"
            },
            "text/plain": [
              "'one 5/20, output shape is:ivy.Shape(1, 14, 14, 160)'"
            ]
          },
          "metadata": {},
          "output_type": "display_data"
        },
        {
          "data": {
            "application/vnd.google.colaboratory.intrinsic+json": {
              "type": "string"
            },
            "text/plain": [
              "'one 6/20, output shape is:ivy.Shape(1, 14, 14, 160)'"
            ]
          },
          "metadata": {},
          "output_type": "display_data"
        },
        {
          "data": {
            "application/vnd.google.colaboratory.intrinsic+json": {
              "type": "string"
            },
            "text/plain": [
              "'one 7/20, output shape is:ivy.Shape(1, 14, 14, 160)'"
            ]
          },
          "metadata": {},
          "output_type": "display_data"
        },
        {
          "data": {
            "application/vnd.google.colaboratory.intrinsic+json": {
              "type": "string"
            },
            "text/plain": [
              "'one 8/20, output shape is:ivy.Shape(1, 14, 14, 160)'"
            ]
          },
          "metadata": {},
          "output_type": "display_data"
        },
        {
          "data": {
            "application/vnd.google.colaboratory.intrinsic+json": {
              "type": "string"
            },
            "text/plain": [
              "'one 9/20, output shape is:ivy.Shape(1, 14, 14, 192)'"
            ]
          },
          "metadata": {},
          "output_type": "display_data"
        },
        {
          "data": {
            "application/vnd.google.colaboratory.intrinsic+json": {
              "type": "string"
            },
            "text/plain": [
              "'one 10/20, output shape is:ivy.Shape(1, 14, 14, 768)'"
            ]
          },
          "metadata": {},
          "output_type": "display_data"
        },
        {
          "data": {
            "application/vnd.google.colaboratory.intrinsic+json": {
              "type": "string"
            },
            "text/plain": [
              "'one 11/20, output shape is:ivy.Shape(1, 14, 14, 192)'"
            ]
          },
          "metadata": {},
          "output_type": "display_data"
        },
        {
          "data": {
            "application/vnd.google.colaboratory.intrinsic+json": {
              "type": "string"
            },
            "text/plain": [
              "'one 20/20'"
            ]
          },
          "metadata": {},
          "output_type": "display_data"
        },
        {
          "data": {
            "application/vnd.google.colaboratory.intrinsic+json": {
              "type": "string"
            },
            "text/plain": [
              "'v3 14/23, output shape is:ivy.Shape(1, 14, 14, 768)'"
            ]
          },
          "metadata": {},
          "output_type": "display_data"
        },
        {
          "data": {
            "application/vnd.google.colaboratory.intrinsic+json": {
              "type": "string"
            },
            "text/plain": [
              "'input shape is:ivy.Shape(1, 14, 14, 768)'"
            ]
          },
          "metadata": {},
          "output_type": "display_data"
        },
        {
          "data": {
            "application/vnd.google.colaboratory.intrinsic+json": {
              "type": "string"
            },
            "text/plain": [
              "'one 1/20, output shape is:ivy.Shape(1, 14, 14, 192)'"
            ]
          },
          "metadata": {},
          "output_type": "display_data"
        },
        {
          "data": {
            "application/vnd.google.colaboratory.intrinsic+json": {
              "type": "string"
            },
            "text/plain": [
              "'one 2/20, output shape is:ivy.Shape(1, 14, 14, 192)'"
            ]
          },
          "metadata": {},
          "output_type": "display_data"
        },
        {
          "data": {
            "application/vnd.google.colaboratory.intrinsic+json": {
              "type": "string"
            },
            "text/plain": [
              "'one 3/20, output shape is:ivy.Shape(1, 14, 14, 192)'"
            ]
          },
          "metadata": {},
          "output_type": "display_data"
        },
        {
          "data": {
            "application/vnd.google.colaboratory.intrinsic+json": {
              "type": "string"
            },
            "text/plain": [
              "'one 4/20, output shape is:ivy.Shape(1, 14, 14, 192)'"
            ]
          },
          "metadata": {},
          "output_type": "display_data"
        },
        {
          "data": {
            "application/vnd.google.colaboratory.intrinsic+json": {
              "type": "string"
            },
            "text/plain": [
              "'one 5/20, output shape is:ivy.Shape(1, 14, 14, 192)'"
            ]
          },
          "metadata": {},
          "output_type": "display_data"
        },
        {
          "data": {
            "application/vnd.google.colaboratory.intrinsic+json": {
              "type": "string"
            },
            "text/plain": [
              "'one 6/20, output shape is:ivy.Shape(1, 14, 14, 192)'"
            ]
          },
          "metadata": {},
          "output_type": "display_data"
        },
        {
          "data": {
            "application/vnd.google.colaboratory.intrinsic+json": {
              "type": "string"
            },
            "text/plain": [
              "'one 7/20, output shape is:ivy.Shape(1, 14, 14, 192)'"
            ]
          },
          "metadata": {},
          "output_type": "display_data"
        },
        {
          "data": {
            "application/vnd.google.colaboratory.intrinsic+json": {
              "type": "string"
            },
            "text/plain": [
              "'one 8/20, output shape is:ivy.Shape(1, 14, 14, 192)'"
            ]
          },
          "metadata": {},
          "output_type": "display_data"
        },
        {
          "data": {
            "application/vnd.google.colaboratory.intrinsic+json": {
              "type": "string"
            },
            "text/plain": [
              "'one 9/20, output shape is:ivy.Shape(1, 14, 14, 192)'"
            ]
          },
          "metadata": {},
          "output_type": "display_data"
        },
        {
          "data": {
            "application/vnd.google.colaboratory.intrinsic+json": {
              "type": "string"
            },
            "text/plain": [
              "'one 10/20, output shape is:ivy.Shape(1, 14, 14, 768)'"
            ]
          },
          "metadata": {},
          "output_type": "display_data"
        },
        {
          "data": {
            "application/vnd.google.colaboratory.intrinsic+json": {
              "type": "string"
            },
            "text/plain": [
              "'one 11/20, output shape is:ivy.Shape(1, 14, 14, 192)'"
            ]
          },
          "metadata": {},
          "output_type": "display_data"
        },
        {
          "data": {
            "application/vnd.google.colaboratory.intrinsic+json": {
              "type": "string"
            },
            "text/plain": [
              "'one 20/20'"
            ]
          },
          "metadata": {},
          "output_type": "display_data"
        },
        {
          "data": {
            "application/vnd.google.colaboratory.intrinsic+json": {
              "type": "string"
            },
            "text/plain": [
              "'v3 15/23, output shape is:ivy.Shape(1, 14, 14, 768)'"
            ]
          },
          "metadata": {},
          "output_type": "display_data"
        },
        {
          "data": {
            "application/vnd.google.colaboratory.intrinsic+json": {
              "type": "string"
            },
            "text/plain": [
              "'input shape is:ivy.Shape(1, 14, 14, 768)'"
            ]
          },
          "metadata": {},
          "output_type": "display_data"
        },
        {
          "data": {
            "application/vnd.google.colaboratory.intrinsic+json": {
              "type": "string"
            },
            "text/plain": [
              "'one 1/20, output shape is:ivy.Shape(1, 14, 14, 192)'"
            ]
          },
          "metadata": {},
          "output_type": "display_data"
        },
        {
          "data": {
            "application/vnd.google.colaboratory.intrinsic+json": {
              "type": "string"
            },
            "text/plain": [
              "'one 2/20, output shape is:ivy.Shape(1, 6, 6, 320)'"
            ]
          },
          "metadata": {},
          "output_type": "display_data"
        },
        {
          "data": {
            "application/vnd.google.colaboratory.intrinsic+json": {
              "type": "string"
            },
            "text/plain": [
              "'one 3/20, output shape is:ivy.Shape(1, 14, 14, 192)'"
            ]
          },
          "metadata": {},
          "output_type": "display_data"
        },
        {
          "data": {
            "application/vnd.google.colaboratory.intrinsic+json": {
              "type": "string"
            },
            "text/plain": [
              "'one 4/20, output shape is:ivy.Shape(1, 14, 14, 192)'"
            ]
          },
          "metadata": {},
          "output_type": "display_data"
        },
        {
          "data": {
            "application/vnd.google.colaboratory.intrinsic+json": {
              "type": "string"
            },
            "text/plain": [
              "'one 5/20, output shape is:ivy.Shape(1, 14, 14, 192)'"
            ]
          },
          "metadata": {},
          "output_type": "display_data"
        },
        {
          "data": {
            "application/vnd.google.colaboratory.intrinsic+json": {
              "type": "string"
            },
            "text/plain": [
              "'one 6/20, output shape is:ivy.Shape(1, 6, 6, 192)'"
            ]
          },
          "metadata": {},
          "output_type": "display_data"
        },
        {
          "data": {
            "application/vnd.google.colaboratory.intrinsic+json": {
              "type": "string"
            },
            "text/plain": [
              "'one 7/20, output shape is:ivy.Shape(1, 6, 6, 768)'"
            ]
          },
          "metadata": {},
          "output_type": "display_data"
        },
        {
          "data": {
            "application/vnd.google.colaboratory.intrinsic+json": {
              "type": "string"
            },
            "text/plain": [
              "'one 20/20'"
            ]
          },
          "metadata": {},
          "output_type": "display_data"
        },
        {
          "data": {
            "application/vnd.google.colaboratory.intrinsic+json": {
              "type": "string"
            },
            "text/plain": [
              "'v3 17/23, output shape is:ivy.Shape(1, 6, 6, 1280)'"
            ]
          },
          "metadata": {},
          "output_type": "display_data"
        },
        {
          "data": {
            "application/vnd.google.colaboratory.intrinsic+json": {
              "type": "string"
            },
            "text/plain": [
              "'input shape is:ivy.Shape(1, 6, 6, 1280)'"
            ]
          },
          "metadata": {},
          "output_type": "display_data"
        },
        {
          "data": {
            "application/vnd.google.colaboratory.intrinsic+json": {
              "type": "string"
            },
            "text/plain": [
              "'1/20, branch1x1 output shape is:ivy.Shape(1, 6, 6, 320)'"
            ]
          },
          "metadata": {},
          "output_type": "display_data"
        },
        {
          "data": {
            "application/vnd.google.colaboratory.intrinsic+json": {
              "type": "string"
            },
            "text/plain": [
              "'2/20, branch3x3 output shape is:ivy.Shape(1, 6, 6, 384)'"
            ]
          },
          "metadata": {},
          "output_type": "display_data"
        },
        {
          "data": {
            "application/vnd.google.colaboratory.intrinsic+json": {
              "type": "string"
            },
            "text/plain": [
              "'3/20, branch3x3 output shape is:ivy.Shape(1, 6, 6, 768)'"
            ]
          },
          "metadata": {},
          "output_type": "display_data"
        },
        {
          "data": {
            "application/vnd.google.colaboratory.intrinsic+json": {
              "type": "string"
            },
            "text/plain": [
              "'4/20, branch3x3dbl output shape is:ivy.Shape(1, 6, 6, 448)'"
            ]
          },
          "metadata": {},
          "output_type": "display_data"
        },
        {
          "data": {
            "application/vnd.google.colaboratory.intrinsic+json": {
              "type": "string"
            },
            "text/plain": [
              "'5/20, branch3x3dbl output shape is:ivy.Shape(1, 6, 6, 384)'"
            ]
          },
          "metadata": {},
          "output_type": "display_data"
        },
        {
          "data": {
            "application/vnd.google.colaboratory.intrinsic+json": {
              "type": "string"
            },
            "text/plain": [
              "'6/20, branch3x3dbl output shape is:ivy.Shape(1, 6, 6, 768)'"
            ]
          },
          "metadata": {},
          "output_type": "display_data"
        },
        {
          "ename": "RuntimeError",
          "evalue": "ignored",
          "output_type": "error",
          "traceback": [
            "\u001b[0;31m---------------------------------------------------------------------------\u001b[0m",
            "\u001b[0;31mRuntimeError\u001b[0m                              Traceback (most recent call last)",
            "\u001b[0;32m<ipython-input-17-9393ebecf00b>\u001b[0m in \u001b[0;36m<cell line: 191>\u001b[0;34m()\u001b[0m\n\u001b[1;32m    189\u001b[0m     \u001b[0mdisplay\u001b[0m\u001b[0;34m(\u001b[0m\u001b[0;34m\"Test Successfull!\"\u001b[0m\u001b[0;34m)\u001b[0m\u001b[0;34m\u001b[0m\u001b[0;34m\u001b[0m\u001b[0m\n\u001b[1;32m    190\u001b[0m \u001b[0;34m\u001b[0m\u001b[0m\n\u001b[0;32m--> 191\u001b[0;31m \u001b[0mtest_InceptionV3\u001b[0m\u001b[0;34m(\u001b[0m\u001b[0;34m)\u001b[0m\u001b[0;34m\u001b[0m\u001b[0;34m\u001b[0m\u001b[0m\n\u001b[0m",
            "\u001b[0;32m<ipython-input-17-9393ebecf00b>\u001b[0m in \u001b[0;36mtest_InceptionV3\u001b[0;34m()\u001b[0m\n\u001b[1;32m    186\u001b[0m \u001b[0;34m\u001b[0m\u001b[0m\n\u001b[1;32m    187\u001b[0m     \u001b[0mblock\u001b[0m \u001b[0;34m=\u001b[0m \u001b[0mInceptionV3\u001b[0m\u001b[0;34m(\u001b[0m\u001b[0;34m)\u001b[0m\u001b[0;34m\u001b[0m\u001b[0;34m\u001b[0m\u001b[0m\n\u001b[0;32m--> 188\u001b[0;31m     \u001b[0mblock\u001b[0m\u001b[0;34m(\u001b[0m\u001b[0mrandom_test_tensor\u001b[0m\u001b[0;34m)\u001b[0m\u001b[0;34m\u001b[0m\u001b[0;34m\u001b[0m\u001b[0m\n\u001b[0m\u001b[1;32m    189\u001b[0m     \u001b[0mdisplay\u001b[0m\u001b[0;34m(\u001b[0m\u001b[0;34m\"Test Successfull!\"\u001b[0m\u001b[0;34m)\u001b[0m\u001b[0;34m\u001b[0m\u001b[0;34m\u001b[0m\u001b[0m\n\u001b[1;32m    190\u001b[0m \u001b[0;34m\u001b[0m\u001b[0m\n",
            "\u001b[0;32m/usr/local/lib/python3.10/dist-packages/ivy/stateful/module.py\u001b[0m in \u001b[0;36m__call__\u001b[0;34m(self, v, buffers, stateful, arg_stateful_idxs, kwarg_stateful_idxs, track_submod_rets, submod_depth, submods_to_track, track_submod_call_order, expected_submod_rets, *args, **kwargs)\u001b[0m\n\u001b[1;32m    650\u001b[0m         \u001b[0;31m# convert variables to native arrays so that they can be tracked\u001b[0m\u001b[0;34m\u001b[0m\u001b[0;34m\u001b[0m\u001b[0m\n\u001b[1;32m    651\u001b[0m         \u001b[0mv\u001b[0m \u001b[0;34m=\u001b[0m \u001b[0mivy\u001b[0m\u001b[0;34m.\u001b[0m\u001b[0mto_native\u001b[0m\u001b[0;34m(\u001b[0m\u001b[0mv\u001b[0m\u001b[0;34m)\u001b[0m\u001b[0;34m\u001b[0m\u001b[0;34m\u001b[0m\u001b[0m\n\u001b[0;32m--> 652\u001b[0;31m         \u001b[0mret\u001b[0m \u001b[0;34m=\u001b[0m \u001b[0mself\u001b[0m\u001b[0;34m.\u001b[0m\u001b[0m_call\u001b[0m\u001b[0;34m(\u001b[0m\u001b[0;34m*\u001b[0m\u001b[0margs\u001b[0m\u001b[0;34m,\u001b[0m \u001b[0mv\u001b[0m\u001b[0;34m=\u001b[0m\u001b[0mv\u001b[0m\u001b[0;34m,\u001b[0m \u001b[0mbuffers\u001b[0m\u001b[0;34m=\u001b[0m\u001b[0mbuffers\u001b[0m\u001b[0;34m,\u001b[0m \u001b[0;34m**\u001b[0m\u001b[0mkwargs\u001b[0m\u001b[0;34m)\u001b[0m\u001b[0;34m\u001b[0m\u001b[0;34m\u001b[0m\u001b[0m\n\u001b[0m\u001b[1;32m    653\u001b[0m         \u001b[0mself\u001b[0m\u001b[0;34m.\u001b[0m\u001b[0m_unset_submod_flags\u001b[0m\u001b[0;34m(\u001b[0m\u001b[0;34m)\u001b[0m\u001b[0;34m\u001b[0m\u001b[0;34m\u001b[0m\u001b[0m\n\u001b[1;32m    654\u001b[0m         \u001b[0;32mreturn\u001b[0m \u001b[0mret\u001b[0m\u001b[0;34m\u001b[0m\u001b[0;34m\u001b[0m\u001b[0m\n",
            "\u001b[0;32m/usr/local/lib/python3.10/dist-packages/ivy/stateful/module.py\u001b[0m in \u001b[0;36m_call\u001b[0;34m(self, v, buffers, *args, **kwargs)\u001b[0m\n\u001b[1;32m    580\u001b[0m         \u001b[0;32melif\u001b[0m \u001b[0mhasattr\u001b[0m\u001b[0;34m(\u001b[0m\u001b[0mself\u001b[0m\u001b[0;34m.\u001b[0m\u001b[0m__call__\u001b[0m\u001b[0;34m,\u001b[0m \u001b[0;34m\"wrapped\"\u001b[0m\u001b[0;34m)\u001b[0m\u001b[0;34m:\u001b[0m\u001b[0;34m\u001b[0m\u001b[0;34m\u001b[0m\u001b[0m\n\u001b[1;32m    581\u001b[0m             \u001b[0;32mreturn\u001b[0m \u001b[0mself\u001b[0m\u001b[0;34m.\u001b[0m\u001b[0m__call__\u001b[0m\u001b[0;34m(\u001b[0m\u001b[0;34m*\u001b[0m\u001b[0margs\u001b[0m\u001b[0;34m,\u001b[0m \u001b[0;34m**\u001b[0m\u001b[0mkwargs\u001b[0m\u001b[0;34m)\u001b[0m\u001b[0;34m\u001b[0m\u001b[0;34m\u001b[0m\u001b[0m\n\u001b[0;32m--> 582\u001b[0;31m         \u001b[0;32mreturn\u001b[0m \u001b[0mself\u001b[0m\u001b[0;34m.\u001b[0m\u001b[0m_forward_with_tracking\u001b[0m\u001b[0;34m(\u001b[0m\u001b[0;34m*\u001b[0m\u001b[0margs\u001b[0m\u001b[0;34m,\u001b[0m \u001b[0;34m**\u001b[0m\u001b[0mkwargs\u001b[0m\u001b[0;34m)\u001b[0m\u001b[0;34m\u001b[0m\u001b[0;34m\u001b[0m\u001b[0m\n\u001b[0m\u001b[1;32m    583\u001b[0m \u001b[0;34m\u001b[0m\u001b[0m\n\u001b[1;32m    584\u001b[0m     \u001b[0;31m# Public #\u001b[0m\u001b[0;34m\u001b[0m\u001b[0;34m\u001b[0m\u001b[0m\n",
            "\u001b[0;32m/usr/local/lib/python3.10/dist-packages/ivy/stateful/module.py\u001b[0m in \u001b[0;36m_forward_with_tracking\u001b[0;34m(self, *args, **kwargs)\u001b[0m\n\u001b[1;32m    529\u001b[0m         \u001b[0;32mif\u001b[0m \u001b[0mself\u001b[0m\u001b[0;34m.\u001b[0m\u001b[0mtrack_submod_call_order\u001b[0m\u001b[0;34m(\u001b[0m\u001b[0;34m)\u001b[0m\u001b[0;34m:\u001b[0m\u001b[0;34m\u001b[0m\u001b[0;34m\u001b[0m\u001b[0m\n\u001b[1;32m    530\u001b[0m             \u001b[0mself\u001b[0m\u001b[0;34m.\u001b[0m\u001b[0m_add_submod_enter\u001b[0m\u001b[0;34m(\u001b[0m\u001b[0;34m)\u001b[0m\u001b[0;34m\u001b[0m\u001b[0;34m\u001b[0m\u001b[0m\n\u001b[0;32m--> 531\u001b[0;31m         \u001b[0mret\u001b[0m \u001b[0;34m=\u001b[0m \u001b[0mself\u001b[0m\u001b[0;34m.\u001b[0m\u001b[0m_forward\u001b[0m\u001b[0;34m(\u001b[0m\u001b[0;34m*\u001b[0m\u001b[0margs\u001b[0m\u001b[0;34m,\u001b[0m \u001b[0;34m**\u001b[0m\u001b[0mkwargs\u001b[0m\u001b[0;34m)\u001b[0m\u001b[0;34m\u001b[0m\u001b[0;34m\u001b[0m\u001b[0m\n\u001b[0m\u001b[1;32m    532\u001b[0m         \u001b[0mtrack_submod_rets\u001b[0m \u001b[0;34m=\u001b[0m \u001b[0mself\u001b[0m\u001b[0;34m.\u001b[0m\u001b[0mtrack_submod_rets\u001b[0m\u001b[0;34m(\u001b[0m\u001b[0;34m)\u001b[0m\u001b[0;34m\u001b[0m\u001b[0;34m\u001b[0m\u001b[0m\n\u001b[1;32m    533\u001b[0m         \u001b[0mcheck_submod_rets\u001b[0m \u001b[0;34m=\u001b[0m \u001b[0mself\u001b[0m\u001b[0;34m.\u001b[0m\u001b[0mcheck_submod_rets\u001b[0m\u001b[0;34m(\u001b[0m\u001b[0;34m)\u001b[0m\u001b[0;34m\u001b[0m\u001b[0;34m\u001b[0m\u001b[0m\n",
            "\u001b[0;32m<ipython-input-17-9393ebecf00b>\u001b[0m in \u001b[0;36m_forward\u001b[0;34m(self, x)\u001b[0m\n\u001b[1;32m    145\u001b[0m         \u001b[0mdisplay\u001b[0m\u001b[0;34m(\u001b[0m\u001b[0;34mf\"v3 17/23, output shape is:{x.shape}\"\u001b[0m\u001b[0;34m)\u001b[0m\u001b[0;34m\u001b[0m\u001b[0;34m\u001b[0m\u001b[0m\n\u001b[1;32m    146\u001b[0m \u001b[0;34m\u001b[0m\u001b[0m\n\u001b[0;32m--> 147\u001b[0;31m         \u001b[0mx\u001b[0m \u001b[0;34m=\u001b[0m \u001b[0mself\u001b[0m\u001b[0;34m.\u001b[0m\u001b[0mMixed_7b\u001b[0m\u001b[0;34m(\u001b[0m\u001b[0mx\u001b[0m\u001b[0;34m)\u001b[0m\u001b[0;34m\u001b[0m\u001b[0;34m\u001b[0m\u001b[0m\n\u001b[0m\u001b[1;32m    148\u001b[0m         \u001b[0;31m# N x 2048 x 8 x 8\u001b[0m\u001b[0;34m\u001b[0m\u001b[0;34m\u001b[0m\u001b[0m\n\u001b[1;32m    149\u001b[0m         \u001b[0mdisplay\u001b[0m\u001b[0;34m(\u001b[0m\u001b[0;34mf\"v3 18/23, output shape is:{x.shape}\"\u001b[0m\u001b[0;34m)\u001b[0m\u001b[0;34m\u001b[0m\u001b[0;34m\u001b[0m\u001b[0m\n",
            "\u001b[0;32m/usr/local/lib/python3.10/dist-packages/ivy/stateful/module.py\u001b[0m in \u001b[0;36m__call__\u001b[0;34m(self, v, buffers, stateful, arg_stateful_idxs, kwarg_stateful_idxs, track_submod_rets, submod_depth, submods_to_track, track_submod_call_order, expected_submod_rets, *args, **kwargs)\u001b[0m\n\u001b[1;32m    650\u001b[0m         \u001b[0;31m# convert variables to native arrays so that they can be tracked\u001b[0m\u001b[0;34m\u001b[0m\u001b[0;34m\u001b[0m\u001b[0m\n\u001b[1;32m    651\u001b[0m         \u001b[0mv\u001b[0m \u001b[0;34m=\u001b[0m \u001b[0mivy\u001b[0m\u001b[0;34m.\u001b[0m\u001b[0mto_native\u001b[0m\u001b[0;34m(\u001b[0m\u001b[0mv\u001b[0m\u001b[0;34m)\u001b[0m\u001b[0;34m\u001b[0m\u001b[0;34m\u001b[0m\u001b[0m\n\u001b[0;32m--> 652\u001b[0;31m         \u001b[0mret\u001b[0m \u001b[0;34m=\u001b[0m \u001b[0mself\u001b[0m\u001b[0;34m.\u001b[0m\u001b[0m_call\u001b[0m\u001b[0;34m(\u001b[0m\u001b[0;34m*\u001b[0m\u001b[0margs\u001b[0m\u001b[0;34m,\u001b[0m \u001b[0mv\u001b[0m\u001b[0;34m=\u001b[0m\u001b[0mv\u001b[0m\u001b[0;34m,\u001b[0m \u001b[0mbuffers\u001b[0m\u001b[0;34m=\u001b[0m\u001b[0mbuffers\u001b[0m\u001b[0;34m,\u001b[0m \u001b[0;34m**\u001b[0m\u001b[0mkwargs\u001b[0m\u001b[0;34m)\u001b[0m\u001b[0;34m\u001b[0m\u001b[0;34m\u001b[0m\u001b[0m\n\u001b[0m\u001b[1;32m    653\u001b[0m         \u001b[0mself\u001b[0m\u001b[0;34m.\u001b[0m\u001b[0m_unset_submod_flags\u001b[0m\u001b[0;34m(\u001b[0m\u001b[0;34m)\u001b[0m\u001b[0;34m\u001b[0m\u001b[0;34m\u001b[0m\u001b[0m\n\u001b[1;32m    654\u001b[0m         \u001b[0;32mreturn\u001b[0m \u001b[0mret\u001b[0m\u001b[0;34m\u001b[0m\u001b[0;34m\u001b[0m\u001b[0m\n",
            "\u001b[0;32m/usr/local/lib/python3.10/dist-packages/ivy/stateful/module.py\u001b[0m in \u001b[0;36m_call\u001b[0;34m(self, v, buffers, *args, **kwargs)\u001b[0m\n\u001b[1;32m    579\u001b[0m \u001b[0;34m\u001b[0m\u001b[0m\n\u001b[1;32m    580\u001b[0m         \u001b[0;32melif\u001b[0m \u001b[0mhasattr\u001b[0m\u001b[0;34m(\u001b[0m\u001b[0mself\u001b[0m\u001b[0;34m.\u001b[0m\u001b[0m__call__\u001b[0m\u001b[0;34m,\u001b[0m \u001b[0;34m\"wrapped\"\u001b[0m\u001b[0;34m)\u001b[0m\u001b[0;34m:\u001b[0m\u001b[0;34m\u001b[0m\u001b[0;34m\u001b[0m\u001b[0m\n\u001b[0;32m--> 581\u001b[0;31m             \u001b[0;32mreturn\u001b[0m \u001b[0mself\u001b[0m\u001b[0;34m.\u001b[0m\u001b[0m__call__\u001b[0m\u001b[0;34m(\u001b[0m\u001b[0;34m*\u001b[0m\u001b[0margs\u001b[0m\u001b[0;34m,\u001b[0m \u001b[0;34m**\u001b[0m\u001b[0mkwargs\u001b[0m\u001b[0;34m)\u001b[0m\u001b[0;34m\u001b[0m\u001b[0;34m\u001b[0m\u001b[0m\n\u001b[0m\u001b[1;32m    582\u001b[0m         \u001b[0;32mreturn\u001b[0m \u001b[0mself\u001b[0m\u001b[0;34m.\u001b[0m\u001b[0m_forward_with_tracking\u001b[0m\u001b[0;34m(\u001b[0m\u001b[0;34m*\u001b[0m\u001b[0margs\u001b[0m\u001b[0;34m,\u001b[0m \u001b[0;34m**\u001b[0m\u001b[0mkwargs\u001b[0m\u001b[0;34m)\u001b[0m\u001b[0;34m\u001b[0m\u001b[0;34m\u001b[0m\u001b[0m\n\u001b[1;32m    583\u001b[0m \u001b[0;34m\u001b[0m\u001b[0m\n",
            "\u001b[0;32m/usr/local/lib/python3.10/dist-packages/ivy/stateful/module.py\u001b[0m in \u001b[0;36m_fn_with_var_arg_wrapper\u001b[0;34m(self, fn, v_fn, keychain_mappings, orig_key_chain, *a, **kw)\u001b[0m\n\u001b[1;32m    201\u001b[0m             \u001b[0;32mdel\u001b[0m \u001b[0mkw\u001b[0m\u001b[0;34m[\u001b[0m\u001b[0;34m\"v\"\u001b[0m\u001b[0;34m]\u001b[0m\u001b[0;34m\u001b[0m\u001b[0;34m\u001b[0m\u001b[0m\n\u001b[1;32m    202\u001b[0m         \u001b[0mv\u001b[0m \u001b[0;34m=\u001b[0m \u001b[0mv_fn\u001b[0m\u001b[0;34m(\u001b[0m\u001b[0mself\u001b[0m\u001b[0;34m.\u001b[0m\u001b[0mv\u001b[0m\u001b[0;34m,\u001b[0m \u001b[0mkeychain_mappings\u001b[0m\u001b[0;34m,\u001b[0m \u001b[0morig_key_chain\u001b[0m\u001b[0;34m)\u001b[0m\u001b[0;34m\u001b[0m\u001b[0;34m\u001b[0m\u001b[0m\n\u001b[0;32m--> 203\u001b[0;31m         \u001b[0;32mreturn\u001b[0m \u001b[0mfn\u001b[0m\u001b[0;34m(\u001b[0m\u001b[0;34m*\u001b[0m\u001b[0ma\u001b[0m\u001b[0;34m,\u001b[0m \u001b[0;34m**\u001b[0m\u001b[0mkw\u001b[0m\u001b[0;34m,\u001b[0m \u001b[0mv\u001b[0m\u001b[0;34m=\u001b[0m\u001b[0mv\u001b[0m\u001b[0;34m)\u001b[0m\u001b[0;34m\u001b[0m\u001b[0;34m\u001b[0m\u001b[0m\n\u001b[0m\u001b[1;32m    204\u001b[0m \u001b[0;34m\u001b[0m\u001b[0m\n\u001b[1;32m    205\u001b[0m     \u001b[0;32mdef\u001b[0m \u001b[0m_fn_with_var_arg\u001b[0m\u001b[0;34m(\u001b[0m\u001b[0mself\u001b[0m\u001b[0;34m,\u001b[0m \u001b[0mfn\u001b[0m\u001b[0;34m,\u001b[0m \u001b[0mv_fn\u001b[0m\u001b[0;34m,\u001b[0m \u001b[0;34m/\u001b[0m\u001b[0;34m,\u001b[0m \u001b[0mkeychain_mappings\u001b[0m\u001b[0;34m,\u001b[0m \u001b[0morig_key_chain\u001b[0m\u001b[0;34m)\u001b[0m\u001b[0;34m:\u001b[0m\u001b[0;34m\u001b[0m\u001b[0;34m\u001b[0m\u001b[0m\n",
            "\u001b[0;32m/usr/local/lib/python3.10/dist-packages/ivy/stateful/module.py\u001b[0m in \u001b[0;36m__call__\u001b[0;34m(self, v, buffers, stateful, arg_stateful_idxs, kwarg_stateful_idxs, track_submod_rets, submod_depth, submods_to_track, track_submod_call_order, expected_submod_rets, *args, **kwargs)\u001b[0m\n\u001b[1;32m    650\u001b[0m         \u001b[0;31m# convert variables to native arrays so that they can be tracked\u001b[0m\u001b[0;34m\u001b[0m\u001b[0;34m\u001b[0m\u001b[0m\n\u001b[1;32m    651\u001b[0m         \u001b[0mv\u001b[0m \u001b[0;34m=\u001b[0m \u001b[0mivy\u001b[0m\u001b[0;34m.\u001b[0m\u001b[0mto_native\u001b[0m\u001b[0;34m(\u001b[0m\u001b[0mv\u001b[0m\u001b[0;34m)\u001b[0m\u001b[0;34m\u001b[0m\u001b[0;34m\u001b[0m\u001b[0m\n\u001b[0;32m--> 652\u001b[0;31m         \u001b[0mret\u001b[0m \u001b[0;34m=\u001b[0m \u001b[0mself\u001b[0m\u001b[0;34m.\u001b[0m\u001b[0m_call\u001b[0m\u001b[0;34m(\u001b[0m\u001b[0;34m*\u001b[0m\u001b[0margs\u001b[0m\u001b[0;34m,\u001b[0m \u001b[0mv\u001b[0m\u001b[0;34m=\u001b[0m\u001b[0mv\u001b[0m\u001b[0;34m,\u001b[0m \u001b[0mbuffers\u001b[0m\u001b[0;34m=\u001b[0m\u001b[0mbuffers\u001b[0m\u001b[0;34m,\u001b[0m \u001b[0;34m**\u001b[0m\u001b[0mkwargs\u001b[0m\u001b[0;34m)\u001b[0m\u001b[0;34m\u001b[0m\u001b[0;34m\u001b[0m\u001b[0m\n\u001b[0m\u001b[1;32m    653\u001b[0m         \u001b[0mself\u001b[0m\u001b[0;34m.\u001b[0m\u001b[0m_unset_submod_flags\u001b[0m\u001b[0;34m(\u001b[0m\u001b[0;34m)\u001b[0m\u001b[0;34m\u001b[0m\u001b[0;34m\u001b[0m\u001b[0m\n\u001b[1;32m    654\u001b[0m         \u001b[0;32mreturn\u001b[0m \u001b[0mret\u001b[0m\u001b[0;34m\u001b[0m\u001b[0;34m\u001b[0m\u001b[0m\n",
            "\u001b[0;32m/usr/local/lib/python3.10/dist-packages/ivy/stateful/module.py\u001b[0m in \u001b[0;36m_call\u001b[0;34m(self, v, buffers, *args, **kwargs)\u001b[0m\n\u001b[1;32m    571\u001b[0m                 \u001b[0;32melse\u001b[0m \u001b[0mContainer\u001b[0m\u001b[0;34m(\u001b[0m\u001b[0mv\u001b[0m\u001b[0;34m)\u001b[0m\u001b[0;34m\u001b[0m\u001b[0;34m\u001b[0m\u001b[0m\n\u001b[1;32m    572\u001b[0m             )\n\u001b[0;32m--> 573\u001b[0;31m             \u001b[0mret\u001b[0m \u001b[0;34m=\u001b[0m \u001b[0mself\u001b[0m\u001b[0;34m.\u001b[0m\u001b[0m_forward_with_tracking\u001b[0m\u001b[0;34m(\u001b[0m\u001b[0;34m*\u001b[0m\u001b[0margs\u001b[0m\u001b[0;34m,\u001b[0m \u001b[0;34m**\u001b[0m\u001b[0mkwargs\u001b[0m\u001b[0;34m)\u001b[0m\u001b[0;34m\u001b[0m\u001b[0;34m\u001b[0m\u001b[0m\n\u001b[0m\u001b[1;32m    574\u001b[0m             \u001b[0mself\u001b[0m\u001b[0;34m.\u001b[0m\u001b[0mv\u001b[0m \u001b[0;34m=\u001b[0m \u001b[0mv_orig\u001b[0m\u001b[0;34m\u001b[0m\u001b[0;34m\u001b[0m\u001b[0m\n\u001b[1;32m    575\u001b[0m             \u001b[0;32mif\u001b[0m \u001b[0mbuffers\u001b[0m\u001b[0;34m:\u001b[0m\u001b[0;34m\u001b[0m\u001b[0;34m\u001b[0m\u001b[0m\n",
            "\u001b[0;32m/usr/local/lib/python3.10/dist-packages/ivy/stateful/module.py\u001b[0m in \u001b[0;36m_forward_with_tracking\u001b[0;34m(self, *args, **kwargs)\u001b[0m\n\u001b[1;32m    529\u001b[0m         \u001b[0;32mif\u001b[0m \u001b[0mself\u001b[0m\u001b[0;34m.\u001b[0m\u001b[0mtrack_submod_call_order\u001b[0m\u001b[0;34m(\u001b[0m\u001b[0;34m)\u001b[0m\u001b[0;34m:\u001b[0m\u001b[0;34m\u001b[0m\u001b[0;34m\u001b[0m\u001b[0m\n\u001b[1;32m    530\u001b[0m             \u001b[0mself\u001b[0m\u001b[0;34m.\u001b[0m\u001b[0m_add_submod_enter\u001b[0m\u001b[0;34m(\u001b[0m\u001b[0;34m)\u001b[0m\u001b[0;34m\u001b[0m\u001b[0;34m\u001b[0m\u001b[0m\n\u001b[0;32m--> 531\u001b[0;31m         \u001b[0mret\u001b[0m \u001b[0;34m=\u001b[0m \u001b[0mself\u001b[0m\u001b[0;34m.\u001b[0m\u001b[0m_forward\u001b[0m\u001b[0;34m(\u001b[0m\u001b[0;34m*\u001b[0m\u001b[0margs\u001b[0m\u001b[0;34m,\u001b[0m \u001b[0;34m**\u001b[0m\u001b[0mkwargs\u001b[0m\u001b[0;34m)\u001b[0m\u001b[0;34m\u001b[0m\u001b[0;34m\u001b[0m\u001b[0m\n\u001b[0m\u001b[1;32m    532\u001b[0m         \u001b[0mtrack_submod_rets\u001b[0m \u001b[0;34m=\u001b[0m \u001b[0mself\u001b[0m\u001b[0;34m.\u001b[0m\u001b[0mtrack_submod_rets\u001b[0m\u001b[0;34m(\u001b[0m\u001b[0;34m)\u001b[0m\u001b[0;34m\u001b[0m\u001b[0;34m\u001b[0m\u001b[0m\n\u001b[1;32m    533\u001b[0m         \u001b[0mcheck_submod_rets\u001b[0m \u001b[0;34m=\u001b[0m \u001b[0mself\u001b[0m\u001b[0;34m.\u001b[0m\u001b[0mcheck_submod_rets\u001b[0m\u001b[0;34m(\u001b[0m\u001b[0;34m)\u001b[0m\u001b[0;34m\u001b[0m\u001b[0;34m\u001b[0m\u001b[0m\n",
            "\u001b[0;32m<ipython-input-8-2a2312ae3f99>\u001b[0m in \u001b[0;36m_forward\u001b[0;34m(self, x)\u001b[0m\n\u001b[1;32m     49\u001b[0m \u001b[0;34m\u001b[0m\u001b[0m\n\u001b[1;32m     50\u001b[0m         \u001b[0;31m# Create a NumPy array\u001b[0m\u001b[0;34m\u001b[0m\u001b[0;34m\u001b[0m\u001b[0m\n\u001b[0;32m---> 51\u001b[0;31m         \u001b[0marr\u001b[0m \u001b[0;34m=\u001b[0m \u001b[0mnp\u001b[0m\u001b[0;34m.\u001b[0m\u001b[0marray\u001b[0m\u001b[0;34m(\u001b[0m\u001b[0mx\u001b[0m\u001b[0;34m)\u001b[0m\u001b[0;34m\u001b[0m\u001b[0;34m\u001b[0m\u001b[0m\n\u001b[0m\u001b[1;32m     52\u001b[0m \u001b[0;34m\u001b[0m\u001b[0m\n\u001b[1;32m     53\u001b[0m         \u001b[0;31m# Convert the NumPy array to a Python list\u001b[0m\u001b[0;34m\u001b[0m\u001b[0;34m\u001b[0m\u001b[0m\n",
            "\u001b[0;32m/usr/local/lib/python3.10/dist-packages/ivy/data_classes/array/array.py\u001b[0m in \u001b[0;36m__array__\u001b[0;34m(self, *args, **kwargs)\u001b[0m\n\u001b[1;32m    371\u001b[0m     \u001b[0;32mdef\u001b[0m \u001b[0m__array__\u001b[0m\u001b[0;34m(\u001b[0m\u001b[0mself\u001b[0m\u001b[0;34m,\u001b[0m \u001b[0;34m*\u001b[0m\u001b[0margs\u001b[0m\u001b[0;34m,\u001b[0m \u001b[0;34m**\u001b[0m\u001b[0mkwargs\u001b[0m\u001b[0;34m)\u001b[0m\u001b[0;34m:\u001b[0m\u001b[0;34m\u001b[0m\u001b[0;34m\u001b[0m\u001b[0m\n\u001b[1;32m    372\u001b[0m         \u001b[0margs\u001b[0m\u001b[0;34m,\u001b[0m \u001b[0mkwargs\u001b[0m \u001b[0;34m=\u001b[0m \u001b[0margs_to_native\u001b[0m\u001b[0;34m(\u001b[0m\u001b[0;34m*\u001b[0m\u001b[0margs\u001b[0m\u001b[0;34m,\u001b[0m \u001b[0;34m**\u001b[0m\u001b[0mkwargs\u001b[0m\u001b[0;34m)\u001b[0m\u001b[0;34m\u001b[0m\u001b[0;34m\u001b[0m\u001b[0m\n\u001b[0;32m--> 373\u001b[0;31m         \u001b[0;32mreturn\u001b[0m \u001b[0mself\u001b[0m\u001b[0;34m.\u001b[0m\u001b[0m_data\u001b[0m\u001b[0;34m.\u001b[0m\u001b[0m__array__\u001b[0m\u001b[0;34m(\u001b[0m\u001b[0;34m*\u001b[0m\u001b[0margs\u001b[0m\u001b[0;34m,\u001b[0m \u001b[0mdtype\u001b[0m\u001b[0;34m=\u001b[0m\u001b[0mself\u001b[0m\u001b[0;34m.\u001b[0m\u001b[0mdtype\u001b[0m\u001b[0;34m,\u001b[0m \u001b[0;34m**\u001b[0m\u001b[0mkwargs\u001b[0m\u001b[0;34m)\u001b[0m\u001b[0;34m\u001b[0m\u001b[0;34m\u001b[0m\u001b[0m\n\u001b[0m\u001b[1;32m    374\u001b[0m \u001b[0;34m\u001b[0m\u001b[0m\n\u001b[1;32m    375\u001b[0m     \u001b[0;32mdef\u001b[0m \u001b[0m__array_prepare__\u001b[0m\u001b[0;34m(\u001b[0m\u001b[0mself\u001b[0m\u001b[0;34m,\u001b[0m \u001b[0;34m*\u001b[0m\u001b[0margs\u001b[0m\u001b[0;34m,\u001b[0m \u001b[0;34m**\u001b[0m\u001b[0mkwargs\u001b[0m\u001b[0;34m)\u001b[0m\u001b[0;34m:\u001b[0m\u001b[0;34m\u001b[0m\u001b[0;34m\u001b[0m\u001b[0m\n",
            "\u001b[0;32m/usr/local/lib/python3.10/dist-packages/torch/_tensor.py\u001b[0m in \u001b[0;36m__array__\u001b[0;34m(self, dtype)\u001b[0m\n\u001b[1;32m    970\u001b[0m             \u001b[0;32mreturn\u001b[0m \u001b[0mself\u001b[0m\u001b[0;34m.\u001b[0m\u001b[0mnumpy\u001b[0m\u001b[0;34m(\u001b[0m\u001b[0;34m)\u001b[0m\u001b[0;34m\u001b[0m\u001b[0;34m\u001b[0m\u001b[0m\n\u001b[1;32m    971\u001b[0m         \u001b[0;32melse\u001b[0m\u001b[0;34m:\u001b[0m\u001b[0;34m\u001b[0m\u001b[0;34m\u001b[0m\u001b[0m\n\u001b[0;32m--> 972\u001b[0;31m             \u001b[0;32mreturn\u001b[0m \u001b[0mself\u001b[0m\u001b[0;34m.\u001b[0m\u001b[0mnumpy\u001b[0m\u001b[0;34m(\u001b[0m\u001b[0;34m)\u001b[0m\u001b[0;34m.\u001b[0m\u001b[0mastype\u001b[0m\u001b[0;34m(\u001b[0m\u001b[0mdtype\u001b[0m\u001b[0;34m,\u001b[0m \u001b[0mcopy\u001b[0m\u001b[0;34m=\u001b[0m\u001b[0;32mFalse\u001b[0m\u001b[0;34m)\u001b[0m\u001b[0;34m\u001b[0m\u001b[0;34m\u001b[0m\u001b[0m\n\u001b[0m\u001b[1;32m    973\u001b[0m \u001b[0;34m\u001b[0m\u001b[0m\n\u001b[1;32m    974\u001b[0m     \u001b[0;31m# Wrap Numpy array again in a suitable tensor when done, to support e.g.\u001b[0m\u001b[0;34m\u001b[0m\u001b[0;34m\u001b[0m\u001b[0m\n",
            "\u001b[0;31mRuntimeError\u001b[0m: Can't call numpy() on Tensor that requires grad. Use tensor.detach().numpy() instead."
          ]
        }
      ],
      "source": [
        "# note:\n",
        "# kernal_size in [1,3] list foramt\n",
        "# and padding in list[list, list] foramt ex: [[1,1],[3,3]] if both dims are unequal, else just single ex: list [3,3]\n",
        "class InceptionV3(ivy.Module):\n",
        "    def __init__(self,\n",
        "        num_classes: int = 1000,\n",
        "        dropout: float = 0.5,) -> None:\n",
        "        self.num_classes = num_classes\n",
        "        self.dropout = dropout\n",
        "        super().__init__()\n",
        "\n",
        "\n",
        "    def _build(self, *args, **kwargs):\n",
        "        # inception_blocks = [BasicConv2d, InceptionA, InceptionB, InceptionC, InceptionD, InceptionE, InceptionAux]\n",
        "        conv_block = BasicConv2d\n",
        "        inception_a = InceptionA\n",
        "        inception_b = InceptionB\n",
        "        inception_c = InceptionC\n",
        "        inception_d = InceptionD\n",
        "        inception_e = InceptionE\n",
        "        inception_aux = InceptionAux\n",
        "\n",
        "        self.Conv2d_1a_3x3 = conv_block(3, 32, kernel_size=[3,3], stride=2)\n",
        "        display(f\"layer 1/22 built\")\n",
        "        self.Conv2d_2a_3x3 = conv_block(32, 32, kernel_size=[3,3])\n",
        "        display(f\"layer 2/22 built\")\n",
        "        self.Conv2d_2b_3x3 = conv_block(32, 64, kernel_size=[3,3], padding=[[1,1],[1,1]])\n",
        "        display(f\"layer 3/22 built\")\n",
        "        self.maxpool1 = ivy.MaxPool2D([3,3], 2, 0)\n",
        "        display(f\"layer 4/22 built\")\n",
        "        self.Conv2d_3b_1x1 = conv_block(64, 80, kernel_size=[1,1])\n",
        "        display(f\"layer 5/22 built\")\n",
        "        self.Conv2d_4a_3x3 = conv_block(80, 192, kernel_size=[3,3])\n",
        "        display(f\"layer 6/22 built\")\n",
        "        self.maxpool2 = ivy.MaxPool2D([3,3], 2, 0)\n",
        "        display(f\"layer 7/22 built\")\n",
        "        self.Mixed_5b = inception_a(192, pool_features=32)\n",
        "        display(f\"layer 8/22 built\")\n",
        "        self.Mixed_5c = inception_a(256, pool_features=64)\n",
        "        display(f\"layer 9/22 built\")\n",
        "        self.Mixed_5d = inception_a(288, pool_features=64)\n",
        "        display(f\"layer 10/22 built\")\n",
        "        self.Mixed_6a = inception_b(288)\n",
        "        display(f\"layer 11/22 built\")\n",
        "        self.Mixed_6b = inception_c(768, channels_7x7=128)\n",
        "        display(f\"layer 12/22 built\")\n",
        "        self.Mixed_6c = inception_c(768, channels_7x7=160)\n",
        "        display(f\"layer 13/22 built\")\n",
        "        self.Mixed_6d = inception_c(768, channels_7x7=160)\n",
        "        display(f\"layer 14/22 built\")\n",
        "        self.Mixed_6e = inception_c(768, channels_7x7=192)\n",
        "        display(f\"layer 15/22 built\")\n",
        "\n",
        "        # if is used only when the model is in training mode\n",
        "#         self.AuxLogits = inception_aux(768, num_classes)\n",
        "#         display(f\"layer 16/22 built\")\n",
        "\n",
        "        self.Mixed_7a = inception_d(768)\n",
        "        display(f\"layer 17/22 built\")\n",
        "        self.Mixed_7b = inception_e(1280)\n",
        "        display(f\"layer 18/22 built\")\n",
        "        self.Mixed_7c = inception_e(2048)\n",
        "        display(f\"layer 19/22 built\")\n",
        "        self.avgpool = ivy.AdaptiveAvgPool2d((1, 1))\n",
        "        display(f\"layer 20/22 built\")\n",
        "        self.dropout = ivy.Dropout(prob=self.dropout)\n",
        "        display(f\"layer 21/22 built\")\n",
        "        self.fc = ivy.Linear(2048, self.num_classes)\n",
        "        display(f\"layer 22/22 built\")\n",
        "\n",
        "\n",
        "    def _forward(self, x: ivy.Array) -> List[ivy.Array]:\n",
        "        display(f\"input shape is:{x.shape}\")\n",
        "\n",
        "        # N x 3 x 299 x 299\n",
        "        x = self.Conv2d_1a_3x3(x)\n",
        "        # N x 32 x 149 x 149\n",
        "        display(f\"v3 1/23, output shape is:{x.shape}\")\n",
        "\n",
        "        x = self.Conv2d_2a_3x3(x)\n",
        "        # N x 32 x 147 x 147\n",
        "        display(f\"v3 2/23, output shape is:{x.shape}\")\n",
        "\n",
        "        x = self.Conv2d_2b_3x3(x)\n",
        "        # N x 64 x 147 x 147\n",
        "        display(f\"v3 3/23, output shape is:{x.shape}\")\n",
        "\n",
        "        x = self.maxpool1(x)\n",
        "        # N x 64 x 73 x 73\n",
        "        display(f\"v3 4/23, output shape is:{x.shape}\")\n",
        "\n",
        "        x = self.Conv2d_3b_1x1(x)\n",
        "        # N x 80 x 73 x 73\n",
        "        display(f\"v3 5/23, output shape is:{x.shape}\")\n",
        "\n",
        "        x = self.Conv2d_4a_3x3(x)\n",
        "        # N x 192 x 71 x 71\n",
        "        display(f\"v3 6/23, output shape is:{x.shape}\")\n",
        "\n",
        "        x = self.maxpool2(x)\n",
        "        # N x 192 x 35 x 35\n",
        "        display(f\"v3 7/23, output shape is:{x.shape}\")\n",
        "\n",
        "        x = self.Mixed_5b(x)\n",
        "        # N x 256 x 35 x 35\n",
        "#         display(f\"v3 8/23, output type is:{type(x)}\")\n",
        "#         display(f\"v3 8/23, output len is:{len(x)}\")\n",
        "        display(f\"v3 8/23, output is:{x.shape}\")\n",
        "\n",
        "\n",
        "        x = self.Mixed_5c(x)\n",
        "        # N x 288 x 35 x 35\n",
        "        display(f\"v3 9/23, output shape is:{x.shape}\")\n",
        "\n",
        "        x = self.Mixed_5d(x)\n",
        "        # N x 288 x 35 x 35\n",
        "        display(f\"v3 10/23, output shape is:{x.shape}\")\n",
        "\n",
        "        x = self.Mixed_6a(x)\n",
        "        # N x 768 x 17 x 17\n",
        "        display(f\"v3 11/23, output shape is:{x.shape}\")\n",
        "\n",
        "        x = self.Mixed_6b(x)\n",
        "        # N x 768 x 17 x 17\n",
        "        display(f\"v3 12/23, output shape is:{x.shape}\")\n",
        "\n",
        "        x = self.Mixed_6c(x)\n",
        "        # N x 768 x 17 x 17\n",
        "        display(f\"v3 13/23, output shape is:{x.shape}\")\n",
        "\n",
        "        x = self.Mixed_6d(x)\n",
        "        # N x 768 x 17 x 17\n",
        "        display(f\"v3 14/23, output shape is:{x.shape}\")\n",
        "\n",
        "        x = self.Mixed_6e(x)\n",
        "        # N x 768 x 17 x 17\n",
        "        display(f\"v3 15/23, output shape is:{x.shape}\")\n",
        "\n",
        "#         aux = self.AuxLogits(x)\n",
        "#         # N x 768 x 17 x 17\n",
        "#         display(f\"v3 16/23, output shape is:{x.shape}\")\n",
        "\n",
        "        x = self.Mixed_7a(x)\n",
        "        # N x 1280 x 8 x 8\n",
        "        display(f\"v3 17/23, output shape is:{x.shape}\")\n",
        "\n",
        "        x = self.Mixed_7b(x)\n",
        "        # N x 2048 x 8 x 8\n",
        "        display(f\"v3 18/23, output shape is:{x.shape}\")\n",
        "\n",
        "        x = self.Mixed_7c(x)\n",
        "        # N x 2048 x 8 x 8\n",
        "        display(f\"v3 19/23, output shape is:{x.shape}\")\n",
        "\n",
        "        # Adaptive average pooling\n",
        "        display(f\"Inception3 | input shape to adaptive_avg_pool2d is:{x.shape}\")\n",
        "        x = ivy.permute_dims(x, (0, 3, 1, 2))\n",
        "        display(f\"Inception3 | permuted input shape to adaptive_avg_pool2d is:{x.shape}\")\n",
        "        x = self.avgpool(x)\n",
        "        display(f\"Inception3 | output shape from adaptive_avg_pool2d is:{x.shape}\")\n",
        "        x = ivy.permute_dims(x, (0, 2, 3, 1))\n",
        "        display(f\"Inception3 | permuted output shape from adaptive_avg_pool2d is:{x.shape}\")\n",
        "\n",
        "        # N x 2048 x 1 x 1\n",
        "        display(f\"v3 20/23, avgpool output shape is:{x.shape}\")\n",
        "\n",
        "        x = self.dropout(x)\n",
        "        # N x 2048 x 1 x 1\n",
        "        display(f\"v3 21/23, dropout output shape is:{x.shape}\")\n",
        "\n",
        "        x = ivy.flatten(x, start_dim=1)\n",
        "        # N x 2048\n",
        "        display(f\"v3 22/23, flatten output shape is:{x.shape}\")\n",
        "\n",
        "        x = self.fc(x)\n",
        "        # N x 1000 (num_classes)\n",
        "        display(f\"fc done 23/23\")\n",
        "\n",
        "#         return x, aux\n",
        "        return x\n",
        "\n",
        "def test_InceptionV3():\n",
        "    ivy.set_backend('torch')\n",
        "    random_test_tensor = ivy.random_normal(shape=(1, 256, 256, 3))\n",
        "    display(f\"random_test_tensor shape is: {random_test_tensor.shape}\")\n",
        "\n",
        "    block = InceptionV3()\n",
        "    block(random_test_tensor)\n",
        "    display(\"Test Successfull!\")\n",
        "\n",
        "test_InceptionV3()"
      ]
    },
    {
      "cell_type": "code",
      "execution_count": null,
      "metadata": {
        "id": "Xk52xw7t7mMZ"
      },
      "outputs": [],
      "source": []
    }
  ],
  "metadata": {
    "colab": {
      "collapsed_sections": [
        "VB4oxg5q04ys",
        "2do0M-_Y04yz"
      ],
      "provenance": [],
      "toc_visible": true
    },
    "kernelspec": {
      "display_name": "Python 3",
      "language": "python",
      "name": "python3"
    },
    "language_info": {
      "codemirror_mode": {
        "name": "ipython",
        "version": 3
      },
      "file_extension": ".py",
      "mimetype": "text/x-python",
      "name": "python",
      "nbconvert_exporter": "python",
      "pygments_lexer": "ipython3",
      "version": "3.8.17"
    }
  },
  "nbformat": 4,
  "nbformat_minor": 0
}
