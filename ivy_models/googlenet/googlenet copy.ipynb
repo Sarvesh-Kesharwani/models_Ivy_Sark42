{
 "cells": [
  {
   "cell_type": "code",
   "execution_count": 1,
   "metadata": {},
   "outputs": [],
   "source": [
    "# import warnings\n",
    "# warnings.filterwarnings('ignore')\n",
    "\n",
    "# # %%script python -- arg1 arg2 arg3\n",
    "\n",
    "# import ivy\n",
    "# ivy.set_backend(\"torch\")\n",
    "# from googlenet import inceptionNet_v1\n",
    "# from ivy_models_tests import helpers\n",
    "# import torch\n",
    "\n",
    "# def test():\n",
    "#     model = inceptionNet_v1(pretrained=False)\n",
    "#     output = model(torch.randn(1, 3, 224, 224))\n",
    "#     print(output.size())\n",
    "\n",
    "# test()"
   ]
  },
  {
   "cell_type": "markdown",
   "metadata": {},
   "source": [
    "# Start"
   ]
  },
  {
   "cell_type": "code",
   "execution_count": 2,
   "metadata": {},
   "outputs": [],
   "source": [
    "import warnings\n",
    "warnings.filterwarnings('ignore')"
   ]
  },
  {
   "cell_type": "code",
   "execution_count": 3,
   "metadata": {},
   "outputs": [],
   "source": [
    "# global\n",
    "import builtins\n",
    "import ivy\n",
    "import ivy_models\n",
    "import numpy as np"
   ]
  },
  {
   "cell_type": "code",
   "execution_count": 4,
   "metadata": {},
   "outputs": [],
   "source": [
    "\n",
    "# Building the initial Convolutional Block\n",
    "class ConvBlock(ivy.Module):\n",
    "    def __init__(self, in_channels, out_channels, kernel_size, stride, padding):\n",
    "        self.in_channels = in_channels\n",
    "        self.out_channels = out_channels\n",
    "        self.kernel_size = kernel_size\n",
    "        self.stride = stride\n",
    "        self.padding = padding\n",
    "        super(ConvBlock, self).__init__()\n",
    "\n",
    "    def _build(self, *args, **kwargs):\n",
    "        self.conv = ivy.Conv2D(self.in_channels, self.out_channels, self.kernel_size, self.stride, self.padding, with_bias=False)\n",
    "        self.bn = ivy.BatchNorm2D(self.out_channels)\n",
    "        self.activation = ivy.ReLU()\n",
    "\n",
    "    def _forward(self, x):\n",
    "        x = self.conv(x)\n",
    "        x = self.bn(x)\n",
    "        x = self.activation(x)\n",
    "        return x"
   ]
  },
  {
   "cell_type": "code",
   "execution_count": 5,
   "metadata": {},
   "outputs": [],
   "source": [
    "\n",
    "class Inception(ivy.Module):\n",
    "    def __init__(\n",
    "        self,\n",
    "        in_channels,\n",
    "        num1x1,\n",
    "        num3x3_reduce,\n",
    "        num3x3,\n",
    "        num5x5_reduce,\n",
    "        num5x5,\n",
    "        pool_proj,\n",
    "    ):\n",
    "        self.in_channels = in_channels\n",
    "        self.num1x1 = num1x1\n",
    "        self.num3x3_reduce = num3x3_reduce\n",
    "        self.num3x3 = num3x3\n",
    "        self.num5x5_reduce = num5x5_reduce\n",
    "        self.num5x5 = num5x5\n",
    "        self.pool_proj = pool_proj\n",
    "        super(Inception, self).__init__()\n",
    "    \n",
    "    def _build(self, *args, **kwargs):\n",
    "        self.block1 = ivy.Sequential(ConvBlock(self.in_channels, self.num1x1, kernel_size=[1, 1])\n",
    "                                     )\n",
    "        self.block2 = ivy.Sequential(ConvBlock(self.in_channels, self.num3x3_reduce, kernel_size=[1, 1]),\n",
    "                                    ConvBlock(self.num3x3_reduce, self.num3x3, kernel_size=[3, 3], padding=1)\n",
    "                                    )\n",
    "        self.block3 = ivy.Sequential(ConvBlock(self.in_channels, self.num5x5_reduce, kernel_size=[1, 1]),\n",
    "                                    ConvBlock(self.num5x5_reduce, self.num5x5, kernel_size=[3, 3], padding=1)\n",
    "                                    )\n",
    "        self.block4 = ivy.Sequential(ivy.MaxPool2D(3, 1, 1),\n",
    "                                    ConvBlock(self.in_channels, self.pool_proj, kernel_size=[1, 1])\n",
    "                                    )\n",
    "        \n",
    "    def _forward(self, x):\n",
    "        block1 = self.block1(x)\n",
    "        block2 = self.block2(x)\n",
    "        block3 = self.block3(x)\n",
    "        block4 = self.block4(x)\n",
    "\n",
    "        return ivy.concat([block1, block2, block3, block4], axis=3)"
   ]
  },
  {
   "cell_type": "code",
   "execution_count": 6,
   "metadata": {},
   "outputs": [],
   "source": [
    "\n",
    "class Auxiliary(ivy.Module):\n",
    "    def __init__(self, in_channels, num_classes):\n",
    "        self.in_channels = in_channels\n",
    "        self.num_classes = num_classes\n",
    "        super(Auxiliary, self).__init__()\n",
    "\n",
    "    def _build(self, *args, **kwargs):\n",
    "        self.pool = ivy.AvgPool2D((5, 5), 3, 0)  # ivy.Shape(1, 4, 4, 512)\n",
    "        self.bn = ivy.BatchNorm2D(128)\n",
    "        self.conv = ivy.Conv2D(self.in_channels, 128, [1,1], 1, 0, with_bias=False)\n",
    "        self.activation = ivy.ReLU()\n",
    "        self.fc1 = ivy.Linear(2048, 1024)\n",
    "        self.dropout = ivy.Dropout(0.7)\n",
    "        self.fc2 = ivy.Linear(1024, self.num_classes)\n",
    "\n",
    "    def _forward(self, x):\n",
    "        out = self.pool(x)\n",
    "        out = self.conv(out) # contains weights\n",
    "        out = self.activation(out)\n",
    "        out = ivy.flatten(out, start_dim=1)\n",
    "        out = self.fc1(out) # contains weights\n",
    "        out = self.activation(out)\n",
    "        out = self.dropout(out)\n",
    "        out = self.fc2(out) # contains weights\n",
    "        return out"
   ]
  },
  {
   "cell_type": "code",
   "execution_count": 7,
   "metadata": {},
   "outputs": [],
   "source": [
    "\n",
    "class GoogLeNet(ivy.Module):\n",
    "    def __init__(self, num_classes=1000, v: ivy.Container = None,):\n",
    "        if v is not None:\n",
    "            self.v = v\n",
    "        self.num_classes = num_classes\n",
    "        super(GoogLeNet, self).__init__(v=v)\n",
    "\n",
    "    def _build(self, *args, **kwargs):\n",
    "        self.conv1 = ConvBlock(3, 64, [7,7], 2, 3)\n",
    "        self.pool1 = ivy.MaxPool2D([3,3], 2, 1)\n",
    "        self.conv2 = ConvBlock(64, 64, [1,1], 1, 0,)\n",
    "        self.conv3 = ConvBlock(64, 192, [3,3], 1, 1)\n",
    "        self.pool3 = ivy.MaxPool2D(3, 2, 1)\n",
    "        self.inception3A = Inception(192, 64, 96, 128, 16, 32, 32)\n",
    "        self.inception3B = Inception(256, 128, 128, 192, 32, 96, 64)\n",
    "        self.pool4 = ivy.MaxPool2D(3, 2, 1)\n",
    "\n",
    "        self.inception4A = Inception(480, 192, 96, 208, 16, 48, 64)\n",
    "\n",
    "        # ivy.flatten()\n",
    "        self.aux4A = Auxiliary(512, self.num_classes)\n",
    "\n",
    "        self.inception4B = Inception(512, 160, 112, 224, 24, 64, 64)\n",
    "        self.inception4C = Inception(512, 128, 128, 256, 24, 64, 64)\n",
    "        self.inception4D = Inception(512, 112, 144, 288, 32, 64, 64)\n",
    "\n",
    "        self.aux4D = Auxiliary(528, self.num_classes)\n",
    "\n",
    "        self.inception4E = Inception(528, 256, 160, 320, 32, 128, 128)\n",
    "        self.pool5 = ivy.MaxPool2D(3, 2, 1)\n",
    "\n",
    "        self.inception5A = Inception(832, 256, 160, 320, 32, 128, 128)\n",
    "        self.inception5B = Inception(832, 384, 192, 384, 48, 128,128)\n",
    "        self.pool6 = ivy.AvgPool2D((7,7), 1, 0) # ((1, 1))\n",
    "\n",
    "        # ivy.flatten()\n",
    "        self.dropout = ivy.Dropout(0.4)\n",
    "        self.fc = ivy.Linear(1024, self.num_classes)\n",
    "\n",
    "\n",
    "    def _forward(self, x):\n",
    "        out = self.conv1(x)\n",
    "        out = self.pool1(out)\n",
    "        out = self.conv2(out)\n",
    "        out = self.conv3(out)\n",
    "        out = self.pool3(out)\n",
    "        out = self.inception3A(out)\n",
    "        out = self.inception3B(out)\n",
    "        out = self.pool4(out)\n",
    "        out = self.inception4A(out)\n",
    "\n",
    "        aux1 = self.aux4A(out)\n",
    "\n",
    "        out = self.inception4B(out)\n",
    "        out = self.inception4C(out)\n",
    "        out = self.inception4D(out)\n",
    "\n",
    "        aux2 = self.aux4D(out)\n",
    "\n",
    "        out = self.inception4E(out)\n",
    "        out = self.pool5(out)\n",
    "        out = self.inception5A(out)\n",
    "        out = self.inception5B(out)\n",
    "        out = self.pool6(out)\n",
    "        out = ivy.flatten(out, start_dim=1)\n",
    "        out = self.dropout(out)\n",
    "        out = self.fc(out)\n",
    "\n",
    "        return out, aux1, aux2\n"
   ]
  },
  {
   "cell_type": "code",
   "execution_count": 9,
   "metadata": {},
   "outputs": [],
   "source": [
    "# model = GoogLeNet()\n",
    "# model.v"
   ]
  },
  {
   "cell_type": "code",
   "execution_count": null,
   "metadata": {},
   "outputs": [],
   "source": []
  },
  {
   "cell_type": "code",
   "execution_count": 11,
   "metadata": {},
   "outputs": [],
   "source": [
    "\n",
    "def _inceptionNet_torch_weights_mapping(old_key, new_key):\n",
    "    W_KEY = [\"conv/weight\"]\n",
    "    new_mapping = new_key\n",
    "    if any([kc in old_key for kc in W_KEY]):\n",
    "        new_mapping = {\"key_chain\": new_key, \"pattern\": \"b c h w -> h w c b\"}\n",
    "    return new_mapping\n"
   ]
  },
  {
   "cell_type": "code",
   "execution_count": 12,
   "metadata": {},
   "outputs": [],
   "source": [
    "import torch\n",
    "\n",
    "def inceptionNet_v1(pretrained=True):\n",
    "    \"\"\"InceptionNet-V1 model\"\"\"\n",
    "    if not pretrained:\n",
    "        return GoogLeNet()\n",
    "\n",
    "    reference_model = GoogLeNet()\n",
    "    url = \"https://download.pytorch.org/models/googlenet-1378be20.pth\"\n",
    "    w_clean = ivy_models.helpers.load_torch_weights(\n",
    "        url,\n",
    "        reference_model,\n",
    "        raw_keys_to_prune=[\"num_batches_tracked\"],\n",
    "        custom_mapping=_inceptionNet_torch_weights_mapping,\n",
    "        )\n",
    "    display(\"calling model with weights!\")\n",
    "    return GoogLeNet(v=w_clean)\n",
    "\n"
   ]
  },
  {
   "cell_type": "code",
   "execution_count": 13,
   "metadata": {},
   "outputs": [],
   "source": [
    "# reference_model = GoogLeNet()\n",
    "# url = \"https://download.pytorch.org/models/googlenet-1378be20.pth\"\n",
    "# w_clean = ivy_models.helpers.load_torch_weights(\n",
    "#     url,\n",
    "#     reference_model,\n",
    "#     raw_keys_to_prune=[\"num_batches_tracked\"],\n",
    "#     custom_mapping=_inceptionNet_torch_weights_mapping,\n",
    "#     )\n",
    "# display(w_clean)"
   ]
  },
  {
   "cell_type": "code",
   "execution_count": 14,
   "metadata": {},
   "outputs": [],
   "source": [
    "from torchvision import transforms\n",
    "from PIL import Image \n",
    "\n",
    "def load_and_preprocess_img(\n",
    "    path, new_size, crop, mean=[0.485, 0.456, 0.406], std=[0.229, 0.224, 0.225]\n",
    "):\n",
    "    img = Image.open(path)\n",
    "    compose = transforms.Compose(\n",
    "        [\n",
    "            transforms.Resize(new_size),\n",
    "            transforms.CenterCrop(crop),\n",
    "            transforms.ToTensor(),\n",
    "            transforms.Normalize(mean=mean, std=std),\n",
    "        ]\n",
    "    )\n",
    "    img = compose(img)\n",
    "    img = img.unsqueeze(0).permute((0, 2, 3, 1))\n",
    "    return img.numpy()"
   ]
  },
  {
   "cell_type": "code",
   "execution_count": 16,
   "metadata": {},
   "outputs": [
    {
     "data": {
      "text/plain": [
       "ivy.Shape(1, 224, 224, 3)"
      ]
     },
     "metadata": {},
     "output_type": "display_data"
    }
   ],
   "source": [
    "import ivy\n",
    "ivy.set_backend(\"torch\")\n",
    "\n",
    "# Load image\n",
    "this_dir = \"/models/images/cat.jpg\"\n",
    "img = ivy.asarray(load_and_preprocess_img(this_dir, 256, 224))\n",
    "display(img.shape)"
   ]
  },
  {
   "cell_type": "code",
   "execution_count": 17,
   "metadata": {},
   "outputs": [
    {
     "data": {
      "text/plain": [
       "torch.Size([1, 1000])"
      ]
     },
     "execution_count": 17,
     "metadata": {},
     "output_type": "execute_result"
    }
   ],
   "source": [
    "import torch\n",
    "from torchvision.models import googlenet\n",
    "\n",
    "input_tensor = ivy.reshape(img, (1, 3, 224, 224))\n",
    "gt_model = googlenet()\n",
    "gt_model.eval()\n",
    "with torch.no_grad():\n",
    "    output_gt = gt_model(input_tensor)\n",
    "\n",
    "output_gt.shape"
   ]
  },
  {
   "cell_type": "code",
   "execution_count": 18,
   "metadata": {},
   "outputs": [
    {
     "ename": "TypeError",
     "evalue": "ConvBlock.__init__() missing 2 required positional arguments: 'stride' and 'padding'",
     "output_type": "error",
     "traceback": [
      "\u001b[0;31m---------------------------------------------------------------------------\u001b[0m",
      "\u001b[0;31mTypeError\u001b[0m                                 Traceback (most recent call last)",
      "Cell \u001b[0;32mIn[18], line 1\u001b[0m\n\u001b[0;32m----> 1\u001b[0m model \u001b[39m=\u001b[39m inceptionNet_v1(pretrained\u001b[39m=\u001b[39;49m\u001b[39mTrue\u001b[39;49;00m)\n",
      "Cell \u001b[0;32mIn[12], line 8\u001b[0m, in \u001b[0;36minceptionNet_v1\u001b[0;34m(pretrained)\u001b[0m\n\u001b[1;32m      5\u001b[0m \u001b[39mif\u001b[39;00m \u001b[39mnot\u001b[39;00m pretrained:\n\u001b[1;32m      6\u001b[0m     \u001b[39mreturn\u001b[39;00m GoogLeNet()\n\u001b[0;32m----> 8\u001b[0m reference_model \u001b[39m=\u001b[39m GoogLeNet()\n\u001b[1;32m      9\u001b[0m url \u001b[39m=\u001b[39m \u001b[39m\"\u001b[39m\u001b[39mhttps://download.pytorch.org/models/googlenet-1378be20.pth\u001b[39m\u001b[39m\"\u001b[39m\n\u001b[1;32m     10\u001b[0m w_clean \u001b[39m=\u001b[39m ivy_models\u001b[39m.\u001b[39mhelpers\u001b[39m.\u001b[39mload_torch_weights(\n\u001b[1;32m     11\u001b[0m     url,\n\u001b[1;32m     12\u001b[0m     reference_model,\n\u001b[1;32m     13\u001b[0m     raw_keys_to_prune\u001b[39m=\u001b[39m[\u001b[39m\"\u001b[39m\u001b[39mnum_batches_tracked\u001b[39m\u001b[39m\"\u001b[39m],\n\u001b[1;32m     14\u001b[0m     custom_mapping\u001b[39m=\u001b[39m_inceptionNet_torch_weights_mapping,\n\u001b[1;32m     15\u001b[0m     )\n",
      "Cell \u001b[0;32mIn[7], line 6\u001b[0m, in \u001b[0;36mGoogLeNet.__init__\u001b[0;34m(self, num_classes, v)\u001b[0m\n\u001b[1;32m      4\u001b[0m     \u001b[39mself\u001b[39m\u001b[39m.\u001b[39mv \u001b[39m=\u001b[39m v\n\u001b[1;32m      5\u001b[0m \u001b[39mself\u001b[39m\u001b[39m.\u001b[39mnum_classes \u001b[39m=\u001b[39m num_classes\n\u001b[0;32m----> 6\u001b[0m \u001b[39msuper\u001b[39;49m(GoogLeNet, \u001b[39mself\u001b[39;49m)\u001b[39m.\u001b[39;49m\u001b[39m__init__\u001b[39;49m(v\u001b[39m=\u001b[39;49mv)\n",
      "File \u001b[0;32m/ivy/ivy/ivy/stateful/module.py:124\u001b[0m, in \u001b[0;36mModule.__init__\u001b[0;34m(self, device, v, build_mode, compile_on_next_step, store_vars, stateful, arg_stateful_idxs, kwarg_stateful_idxs, fallback_to_non_compiled, with_partial_v, devices, dtype, dynamic_backend, *args, **kwargs)\u001b[0m\n\u001b[1;32m    122\u001b[0m \u001b[39mif\u001b[39;00m build_mode \u001b[39m!=\u001b[39m \u001b[39m\"\u001b[39m\u001b[39mon_init\u001b[39m\u001b[39m\"\u001b[39m:\n\u001b[1;32m    123\u001b[0m     \u001b[39mreturn\u001b[39;00m\n\u001b[0;32m--> 124\u001b[0m \u001b[39mself\u001b[39;49m\u001b[39m.\u001b[39;49mbuild(\u001b[39m*\u001b[39;49margs, dynamic_backend\u001b[39m=\u001b[39;49mdynamic_backend, \u001b[39m*\u001b[39;49m\u001b[39m*\u001b[39;49mkwargs)\n",
      "File \u001b[0;32m/ivy/ivy/ivy/stateful/module.py:571\u001b[0m, in \u001b[0;36mModule.build\u001b[0;34m(self, from_call, device, dtype, dynamic_backend, *args, **kwargs)\u001b[0m\n\u001b[1;32m    563\u001b[0m     dtype \u001b[39m=\u001b[39m ivy\u001b[39m.\u001b[39mdefault_dtype(dtype\u001b[39m=\u001b[39m\u001b[39mself\u001b[39m\u001b[39m.\u001b[39m_dtype, as_native\u001b[39m=\u001b[39m\u001b[39mTrue\u001b[39;00m)\n\u001b[1;32m    565\u001b[0m \u001b[39m# why are we adding this kwarg in user-defined build ?\u001b[39;00m\n\u001b[1;32m    566\u001b[0m \u001b[39m# it results in the error while doing `from_haiku_module` if haiku's forward\u001b[39;00m\n\u001b[1;32m    567\u001b[0m \u001b[39m# therefore leaving it commented out\u001b[39;00m\n\u001b[1;32m    568\u001b[0m \u001b[39m# kwargs[\"dtype\"] = dtype\u001b[39;00m\n\u001b[1;32m    569\u001b[0m \n\u001b[1;32m    570\u001b[0m \u001b[39m# build local Module, and any child modules flagged with \"explicit\" build mode\u001b[39;00m\n\u001b[0;32m--> 571\u001b[0m built \u001b[39m=\u001b[39m ivy\u001b[39m.\u001b[39mdefault(\u001b[39mself\u001b[39;49m\u001b[39m.\u001b[39;49m_build(\u001b[39m*\u001b[39;49margs, \u001b[39m*\u001b[39;49m\u001b[39m*\u001b[39;49mkwargs), \u001b[39mTrue\u001b[39;00m)\n\u001b[1;32m    573\u001b[0m \u001b[39m# build variables based on locally built layers, if v not passed in constructor\u001b[39;00m\n\u001b[1;32m    574\u001b[0m v_from_constructor \u001b[39m=\u001b[39m \u001b[39mself\u001b[39m\u001b[39m.\u001b[39m_v_in\n",
      "Cell \u001b[0;32mIn[7], line 14\u001b[0m, in \u001b[0;36mGoogLeNet._build\u001b[0;34m(self, *args, **kwargs)\u001b[0m\n\u001b[1;32m     12\u001b[0m \u001b[39mself\u001b[39m\u001b[39m.\u001b[39mconv3 \u001b[39m=\u001b[39m ConvBlock(\u001b[39m64\u001b[39m, \u001b[39m192\u001b[39m, [\u001b[39m3\u001b[39m,\u001b[39m3\u001b[39m], \u001b[39m1\u001b[39m, \u001b[39m1\u001b[39m)\n\u001b[1;32m     13\u001b[0m \u001b[39mself\u001b[39m\u001b[39m.\u001b[39mpool3 \u001b[39m=\u001b[39m ivy\u001b[39m.\u001b[39mMaxPool2D(\u001b[39m3\u001b[39m, \u001b[39m2\u001b[39m, \u001b[39m1\u001b[39m)\n\u001b[0;32m---> 14\u001b[0m \u001b[39mself\u001b[39m\u001b[39m.\u001b[39minception3A \u001b[39m=\u001b[39m Inception(\u001b[39m192\u001b[39;49m, \u001b[39m64\u001b[39;49m, \u001b[39m96\u001b[39;49m, \u001b[39m128\u001b[39;49m, \u001b[39m16\u001b[39;49m, \u001b[39m32\u001b[39;49m, \u001b[39m32\u001b[39;49m)\n\u001b[1;32m     15\u001b[0m \u001b[39mself\u001b[39m\u001b[39m.\u001b[39minception3B \u001b[39m=\u001b[39m Inception(\u001b[39m256\u001b[39m, \u001b[39m128\u001b[39m, \u001b[39m128\u001b[39m, \u001b[39m192\u001b[39m, \u001b[39m32\u001b[39m, \u001b[39m96\u001b[39m, \u001b[39m64\u001b[39m)\n\u001b[1;32m     16\u001b[0m \u001b[39mself\u001b[39m\u001b[39m.\u001b[39mpool4 \u001b[39m=\u001b[39m ivy\u001b[39m.\u001b[39mMaxPool2D(\u001b[39m3\u001b[39m, \u001b[39m2\u001b[39m, \u001b[39m1\u001b[39m)\n",
      "Cell \u001b[0;32mIn[5], line 19\u001b[0m, in \u001b[0;36mInception.__init__\u001b[0;34m(self, in_channels, num1x1, num3x3_reduce, num3x3, num5x5_reduce, num5x5, pool_proj)\u001b[0m\n\u001b[1;32m     17\u001b[0m \u001b[39mself\u001b[39m\u001b[39m.\u001b[39mnum5x5 \u001b[39m=\u001b[39m num5x5\n\u001b[1;32m     18\u001b[0m \u001b[39mself\u001b[39m\u001b[39m.\u001b[39mpool_proj \u001b[39m=\u001b[39m pool_proj\n\u001b[0;32m---> 19\u001b[0m \u001b[39msuper\u001b[39;49m(Inception, \u001b[39mself\u001b[39;49m)\u001b[39m.\u001b[39;49m\u001b[39m__init__\u001b[39;49m()\n",
      "File \u001b[0;32m/ivy/ivy/ivy/stateful/module.py:124\u001b[0m, in \u001b[0;36mModule.__init__\u001b[0;34m(self, device, v, build_mode, compile_on_next_step, store_vars, stateful, arg_stateful_idxs, kwarg_stateful_idxs, fallback_to_non_compiled, with_partial_v, devices, dtype, dynamic_backend, *args, **kwargs)\u001b[0m\n\u001b[1;32m    122\u001b[0m \u001b[39mif\u001b[39;00m build_mode \u001b[39m!=\u001b[39m \u001b[39m\"\u001b[39m\u001b[39mon_init\u001b[39m\u001b[39m\"\u001b[39m:\n\u001b[1;32m    123\u001b[0m     \u001b[39mreturn\u001b[39;00m\n\u001b[0;32m--> 124\u001b[0m \u001b[39mself\u001b[39;49m\u001b[39m.\u001b[39;49mbuild(\u001b[39m*\u001b[39;49margs, dynamic_backend\u001b[39m=\u001b[39;49mdynamic_backend, \u001b[39m*\u001b[39;49m\u001b[39m*\u001b[39;49mkwargs)\n",
      "File \u001b[0;32m/ivy/ivy/ivy/stateful/module.py:571\u001b[0m, in \u001b[0;36mModule.build\u001b[0;34m(self, from_call, device, dtype, dynamic_backend, *args, **kwargs)\u001b[0m\n\u001b[1;32m    563\u001b[0m     dtype \u001b[39m=\u001b[39m ivy\u001b[39m.\u001b[39mdefault_dtype(dtype\u001b[39m=\u001b[39m\u001b[39mself\u001b[39m\u001b[39m.\u001b[39m_dtype, as_native\u001b[39m=\u001b[39m\u001b[39mTrue\u001b[39;00m)\n\u001b[1;32m    565\u001b[0m \u001b[39m# why are we adding this kwarg in user-defined build ?\u001b[39;00m\n\u001b[1;32m    566\u001b[0m \u001b[39m# it results in the error while doing `from_haiku_module` if haiku's forward\u001b[39;00m\n\u001b[1;32m    567\u001b[0m \u001b[39m# therefore leaving it commented out\u001b[39;00m\n\u001b[1;32m    568\u001b[0m \u001b[39m# kwargs[\"dtype\"] = dtype\u001b[39;00m\n\u001b[1;32m    569\u001b[0m \n\u001b[1;32m    570\u001b[0m \u001b[39m# build local Module, and any child modules flagged with \"explicit\" build mode\u001b[39;00m\n\u001b[0;32m--> 571\u001b[0m built \u001b[39m=\u001b[39m ivy\u001b[39m.\u001b[39mdefault(\u001b[39mself\u001b[39;49m\u001b[39m.\u001b[39;49m_build(\u001b[39m*\u001b[39;49margs, \u001b[39m*\u001b[39;49m\u001b[39m*\u001b[39;49mkwargs), \u001b[39mTrue\u001b[39;00m)\n\u001b[1;32m    573\u001b[0m \u001b[39m# build variables based on locally built layers, if v not passed in constructor\u001b[39;00m\n\u001b[1;32m    574\u001b[0m v_from_constructor \u001b[39m=\u001b[39m \u001b[39mself\u001b[39m\u001b[39m.\u001b[39m_v_in\n",
      "Cell \u001b[0;32mIn[5], line 22\u001b[0m, in \u001b[0;36mInception._build\u001b[0;34m(self, *args, **kwargs)\u001b[0m\n\u001b[1;32m     21\u001b[0m \u001b[39mdef\u001b[39;00m \u001b[39m_build\u001b[39m(\u001b[39mself\u001b[39m, \u001b[39m*\u001b[39margs, \u001b[39m*\u001b[39m\u001b[39m*\u001b[39mkwargs):\n\u001b[0;32m---> 22\u001b[0m     \u001b[39mself\u001b[39m\u001b[39m.\u001b[39mblock1 \u001b[39m=\u001b[39m ivy\u001b[39m.\u001b[39mSequential(ConvBlock(\u001b[39mself\u001b[39;49m\u001b[39m.\u001b[39;49min_channels, \u001b[39mself\u001b[39;49m\u001b[39m.\u001b[39;49mnum1x1, kernel_size\u001b[39m=\u001b[39;49m[\u001b[39m1\u001b[39;49m, \u001b[39m1\u001b[39;49m])\n\u001b[1;32m     23\u001b[0m                                  )\n\u001b[1;32m     24\u001b[0m     \u001b[39mself\u001b[39m\u001b[39m.\u001b[39mblock2 \u001b[39m=\u001b[39m ivy\u001b[39m.\u001b[39mSequential(ConvBlock(\u001b[39mself\u001b[39m\u001b[39m.\u001b[39min_channels, \u001b[39mself\u001b[39m\u001b[39m.\u001b[39mnum3x3_reduce, kernel_size\u001b[39m=\u001b[39m[\u001b[39m1\u001b[39m, \u001b[39m1\u001b[39m]),\n\u001b[1;32m     25\u001b[0m                                 ConvBlock(\u001b[39mself\u001b[39m\u001b[39m.\u001b[39mnum3x3_reduce, \u001b[39mself\u001b[39m\u001b[39m.\u001b[39mnum3x3, kernel_size\u001b[39m=\u001b[39m[\u001b[39m3\u001b[39m, \u001b[39m3\u001b[39m], padding\u001b[39m=\u001b[39m\u001b[39m1\u001b[39m)\n\u001b[1;32m     26\u001b[0m                                 )\n\u001b[1;32m     27\u001b[0m     \u001b[39mself\u001b[39m\u001b[39m.\u001b[39mblock3 \u001b[39m=\u001b[39m ivy\u001b[39m.\u001b[39mSequential(ConvBlock(\u001b[39mself\u001b[39m\u001b[39m.\u001b[39min_channels, \u001b[39mself\u001b[39m\u001b[39m.\u001b[39mnum5x5_reduce, kernel_size\u001b[39m=\u001b[39m[\u001b[39m1\u001b[39m, \u001b[39m1\u001b[39m]),\n\u001b[1;32m     28\u001b[0m                                 ConvBlock(\u001b[39mself\u001b[39m\u001b[39m.\u001b[39mnum5x5_reduce, \u001b[39mself\u001b[39m\u001b[39m.\u001b[39mnum5x5, kernel_size\u001b[39m=\u001b[39m[\u001b[39m3\u001b[39m, \u001b[39m3\u001b[39m], padding\u001b[39m=\u001b[39m\u001b[39m1\u001b[39m)\n\u001b[1;32m     29\u001b[0m                                 )\n",
      "\u001b[0;31mTypeError\u001b[0m: ConvBlock.__init__() missing 2 required positional arguments: 'stride' and 'padding'"
     ]
    }
   ],
   "source": [
    "model = inceptionNet_v1(pretrained=True)"
   ]
  },
  {
   "cell_type": "code",
   "execution_count": null,
   "metadata": {},
   "outputs": [
    {
     "ename": "IvyBackendException",
     "evalue": "torch: concat:   File \"/ivy/ivy/ivy/utils/exceptions.py\", line 210, in _handle_exceptions\n    return fn(*args, **kwargs)\n  File \"/ivy/ivy/ivy/func_wrapper.py\", line 972, in _handle_nestable\n    return fn(*args, **kwargs)\n  File \"/ivy/ivy/ivy/func_wrapper.py\", line 864, in _handle_out_argument\n    return fn(*args, out=out, **kwargs)\n  File \"/ivy/ivy/ivy/func_wrapper.py\", line 440, in _inputs_to_native_arrays\n    return fn(*new_args, **new_kwargs)\n  File \"/ivy/ivy/ivy/func_wrapper.py\", line 546, in _outputs_to_ivy_arrays\n    ret = fn(*args, **kwargs)\n  File \"/ivy/ivy/ivy/func_wrapper.py\", line 357, in _handle_array_function\n    return fn(*args, **kwargs)\n  File \"/ivy/ivy/ivy/functional/backends/torch/manipulation.py\", line 43, in concat\n    return torch.cat(xs, dim=axis, out=out)\nDuring the handling of the above exception, another exception occurred:\n Sizes of tensors must match except in dimension 3. Expected size 28 but got size 30 for tensor number 2 in the list.",
     "output_type": "error",
     "traceback": [
      "\u001b[0;31m---------------------------------------------------------------------------\u001b[0m",
      "\u001b[0;31mRuntimeError\u001b[0m                              Traceback (most recent call last)",
      "File \u001b[0;32m/ivy/ivy/ivy/utils/exceptions.py:210\u001b[0m, in \u001b[0;36mhandle_exceptions.<locals>._handle_exceptions\u001b[0;34m(*args, **kwargs)\u001b[0m\n\u001b[1;32m    209\u001b[0m \u001b[39mtry\u001b[39;00m:\n\u001b[0;32m--> 210\u001b[0m     \u001b[39mreturn\u001b[39;00m fn(\u001b[39m*\u001b[39;49margs, \u001b[39m*\u001b[39;49m\u001b[39m*\u001b[39;49mkwargs)\n\u001b[1;32m    211\u001b[0m \u001b[39m# Not to rethrow as IvyBackendException\u001b[39;00m\n",
      "File \u001b[0;32m/ivy/ivy/ivy/func_wrapper.py:972\u001b[0m, in \u001b[0;36mhandle_nestable.<locals>._handle_nestable\u001b[0;34m(*args, **kwargs)\u001b[0m\n\u001b[1;32m    970\u001b[0m \u001b[39m# if the passed arguments does not contain a container, the function using\u001b[39;00m\n\u001b[1;32m    971\u001b[0m \u001b[39m# the passed arguments, returning an ivy or a native array.\u001b[39;00m\n\u001b[0;32m--> 972\u001b[0m \u001b[39mreturn\u001b[39;00m fn(\u001b[39m*\u001b[39;49margs, \u001b[39m*\u001b[39;49m\u001b[39m*\u001b[39;49mkwargs)\n",
      "File \u001b[0;32m/ivy/ivy/ivy/func_wrapper.py:864\u001b[0m, in \u001b[0;36mhandle_out_argument.<locals>._handle_out_argument\u001b[0;34m(out, *args, **kwargs)\u001b[0m\n\u001b[1;32m    863\u001b[0m \u001b[39mif\u001b[39;00m out \u001b[39mis\u001b[39;00m \u001b[39mNone\u001b[39;00m:\n\u001b[0;32m--> 864\u001b[0m     \u001b[39mreturn\u001b[39;00m fn(\u001b[39m*\u001b[39;49margs, out\u001b[39m=\u001b[39;49mout, \u001b[39m*\u001b[39;49m\u001b[39m*\u001b[39;49mkwargs)\n\u001b[1;32m    865\u001b[0m \u001b[39mif\u001b[39;00m ivy\u001b[39m.\u001b[39mgradients\u001b[39m.\u001b[39m_is_variable(out):\n",
      "File \u001b[0;32m/ivy/ivy/ivy/func_wrapper.py:440\u001b[0m, in \u001b[0;36minputs_to_native_arrays.<locals>._inputs_to_native_arrays\u001b[0;34m(*args, **kwargs)\u001b[0m\n\u001b[1;32m    439\u001b[0m     new_kwargs[\u001b[39m\"\u001b[39m\u001b[39mout\u001b[39m\u001b[39m\"\u001b[39m] \u001b[39m=\u001b[39m out\n\u001b[0;32m--> 440\u001b[0m \u001b[39mreturn\u001b[39;00m fn(\u001b[39m*\u001b[39;49mnew_args, \u001b[39m*\u001b[39;49m\u001b[39m*\u001b[39;49mnew_kwargs)\n",
      "File \u001b[0;32m/ivy/ivy/ivy/func_wrapper.py:546\u001b[0m, in \u001b[0;36moutputs_to_ivy_arrays.<locals>._outputs_to_ivy_arrays\u001b[0;34m(*args, **kwargs)\u001b[0m\n\u001b[1;32m    545\u001b[0m \u001b[39m# call unmodified function\u001b[39;00m\n\u001b[0;32m--> 546\u001b[0m ret \u001b[39m=\u001b[39m fn(\u001b[39m*\u001b[39;49margs, \u001b[39m*\u001b[39;49m\u001b[39m*\u001b[39;49mkwargs)\n\u001b[1;32m    547\u001b[0m \u001b[39m# convert all arrays in the return to `ivy.Array` instances\u001b[39;00m\n",
      "File \u001b[0;32m/ivy/ivy/ivy/func_wrapper.py:357\u001b[0m, in \u001b[0;36mhandle_array_function.<locals>._handle_array_function\u001b[0;34m(*args, **kwargs)\u001b[0m\n\u001b[1;32m    356\u001b[0m     \u001b[39mreturn\u001b[39;00m value\n\u001b[0;32m--> 357\u001b[0m \u001b[39mreturn\u001b[39;00m fn(\u001b[39m*\u001b[39;49margs, \u001b[39m*\u001b[39;49m\u001b[39m*\u001b[39;49mkwargs)\n",
      "File \u001b[0;32m/ivy/ivy/ivy/functional/backends/torch/manipulation.py:43\u001b[0m, in \u001b[0;36mconcat\u001b[0;34m(xs, axis, out)\u001b[0m\n\u001b[1;32m     42\u001b[0m     axis \u001b[39m=\u001b[39m \u001b[39m0\u001b[39m\n\u001b[0;32m---> 43\u001b[0m \u001b[39mreturn\u001b[39;00m torch\u001b[39m.\u001b[39;49mcat(xs, dim\u001b[39m=\u001b[39;49maxis, out\u001b[39m=\u001b[39;49mout)\n",
      "\u001b[0;31mRuntimeError\u001b[0m: Sizes of tensors must match except in dimension 3. Expected size 28 but got size 30 for tensor number 2 in the list.",
      "\nDuring handling of the above exception, another exception occurred:\n",
      "\u001b[0;31mIvyBackendException\u001b[0m                       Traceback (most recent call last)",
      "Cell \u001b[0;32mIn[16], line 2\u001b[0m\n\u001b[1;32m      1\u001b[0m \u001b[39m# input_tensor = ivy.reshape(input_tensor, (1, 224, 224, 3))\u001b[39;00m\n\u001b[0;32m----> 2\u001b[0m output, _, _ \u001b[39m=\u001b[39m model(img)\n\u001b[1;32m      4\u001b[0m display(output_gt\u001b[39m.\u001b[39mshape)\n\u001b[1;32m      5\u001b[0m display(output\u001b[39m.\u001b[39mshape)\n",
      "File \u001b[0;32m/ivy/ivy/ivy/stateful/module.py:507\u001b[0m, in \u001b[0;36mModule.__call__\u001b[0;34m(self, v, stateful, arg_stateful_idxs, kwarg_stateful_idxs, track_submod_rets, submod_depth, submods_to_track, track_submod_call_order, expected_submod_rets, *args, **kwargs)\u001b[0m\n\u001b[1;32m    505\u001b[0m \u001b[39m# convert variables to native arrays so that they can be tracked\u001b[39;00m\n\u001b[1;32m    506\u001b[0m v \u001b[39m=\u001b[39m ivy\u001b[39m.\u001b[39mto_native(v)\n\u001b[0;32m--> 507\u001b[0m ret \u001b[39m=\u001b[39m \u001b[39mself\u001b[39;49m\u001b[39m.\u001b[39;49m_call(\u001b[39m*\u001b[39;49margs, v\u001b[39m=\u001b[39;49mv, \u001b[39m*\u001b[39;49m\u001b[39m*\u001b[39;49mkwargs)\n\u001b[1;32m    508\u001b[0m \u001b[39mself\u001b[39m\u001b[39m.\u001b[39m_unset_submod_flags()\n\u001b[1;32m    509\u001b[0m \u001b[39mreturn\u001b[39;00m ret\n",
      "File \u001b[0;32m/ivy/ivy/ivy/stateful/module.py:438\u001b[0m, in \u001b[0;36mModule._call\u001b[0;34m(self, v, *args, **kwargs)\u001b[0m\n\u001b[1;32m    436\u001b[0m \u001b[39melif\u001b[39;00m \u001b[39mhasattr\u001b[39m(\u001b[39mself\u001b[39m\u001b[39m.\u001b[39m\u001b[39m__call__\u001b[39m, \u001b[39m\"\u001b[39m\u001b[39mwrapped\u001b[39m\u001b[39m\"\u001b[39m):\n\u001b[1;32m    437\u001b[0m     \u001b[39mreturn\u001b[39;00m \u001b[39mself\u001b[39m\u001b[39m.\u001b[39m\u001b[39m__call__\u001b[39m(\u001b[39m*\u001b[39margs, \u001b[39m*\u001b[39m\u001b[39m*\u001b[39mkwargs)\n\u001b[0;32m--> 438\u001b[0m \u001b[39mreturn\u001b[39;00m \u001b[39mself\u001b[39;49m\u001b[39m.\u001b[39;49m_forward_with_tracking(\u001b[39m*\u001b[39;49margs, \u001b[39m*\u001b[39;49m\u001b[39m*\u001b[39;49mkwargs)\n",
      "File \u001b[0;32m/ivy/ivy/ivy/stateful/module.py:395\u001b[0m, in \u001b[0;36mModule._forward_with_tracking\u001b[0;34m(self, *args, **kwargs)\u001b[0m\n\u001b[1;32m    393\u001b[0m \u001b[39mif\u001b[39;00m \u001b[39mself\u001b[39m\u001b[39m.\u001b[39mtrack_submod_call_order():\n\u001b[1;32m    394\u001b[0m     \u001b[39mself\u001b[39m\u001b[39m.\u001b[39m_add_submod_enter()\n\u001b[0;32m--> 395\u001b[0m ret \u001b[39m=\u001b[39m \u001b[39mself\u001b[39;49m\u001b[39m.\u001b[39;49m_forward(\u001b[39m*\u001b[39;49margs, \u001b[39m*\u001b[39;49m\u001b[39m*\u001b[39;49mkwargs)\n\u001b[1;32m    396\u001b[0m track_submod_rets \u001b[39m=\u001b[39m \u001b[39mself\u001b[39m\u001b[39m.\u001b[39mtrack_submod_rets()\n\u001b[1;32m    397\u001b[0m check_submod_rets \u001b[39m=\u001b[39m \u001b[39mself\u001b[39m\u001b[39m.\u001b[39mcheck_submod_rets()\n",
      "Cell \u001b[0;32mIn[7], line 47\u001b[0m, in \u001b[0;36mGoogLeNet._forward\u001b[0;34m(self, x)\u001b[0m\n\u001b[1;32m     45\u001b[0m out \u001b[39m=\u001b[39m \u001b[39mself\u001b[39m\u001b[39m.\u001b[39mconv3(out)\n\u001b[1;32m     46\u001b[0m out \u001b[39m=\u001b[39m \u001b[39mself\u001b[39m\u001b[39m.\u001b[39mpool3(out)\n\u001b[0;32m---> 47\u001b[0m out \u001b[39m=\u001b[39m \u001b[39mself\u001b[39;49m\u001b[39m.\u001b[39;49minception3A(out)\n\u001b[1;32m     48\u001b[0m out \u001b[39m=\u001b[39m \u001b[39mself\u001b[39m\u001b[39m.\u001b[39minception3B(out)\n\u001b[1;32m     49\u001b[0m out \u001b[39m=\u001b[39m \u001b[39mself\u001b[39m\u001b[39m.\u001b[39mpool4(out)\n",
      "File \u001b[0;32m/ivy/ivy/ivy/stateful/module.py:507\u001b[0m, in \u001b[0;36mModule.__call__\u001b[0;34m(self, v, stateful, arg_stateful_idxs, kwarg_stateful_idxs, track_submod_rets, submod_depth, submods_to_track, track_submod_call_order, expected_submod_rets, *args, **kwargs)\u001b[0m\n\u001b[1;32m    505\u001b[0m \u001b[39m# convert variables to native arrays so that they can be tracked\u001b[39;00m\n\u001b[1;32m    506\u001b[0m v \u001b[39m=\u001b[39m ivy\u001b[39m.\u001b[39mto_native(v)\n\u001b[0;32m--> 507\u001b[0m ret \u001b[39m=\u001b[39m \u001b[39mself\u001b[39;49m\u001b[39m.\u001b[39;49m_call(\u001b[39m*\u001b[39;49margs, v\u001b[39m=\u001b[39;49mv, \u001b[39m*\u001b[39;49m\u001b[39m*\u001b[39;49mkwargs)\n\u001b[1;32m    508\u001b[0m \u001b[39mself\u001b[39m\u001b[39m.\u001b[39m_unset_submod_flags()\n\u001b[1;32m    509\u001b[0m \u001b[39mreturn\u001b[39;00m ret\n",
      "File \u001b[0;32m/ivy/ivy/ivy/stateful/module.py:437\u001b[0m, in \u001b[0;36mModule._call\u001b[0;34m(self, v, *args, **kwargs)\u001b[0m\n\u001b[1;32m    435\u001b[0m     \u001b[39mreturn\u001b[39;00m ret\n\u001b[1;32m    436\u001b[0m \u001b[39melif\u001b[39;00m \u001b[39mhasattr\u001b[39m(\u001b[39mself\u001b[39m\u001b[39m.\u001b[39m\u001b[39m__call__\u001b[39m, \u001b[39m\"\u001b[39m\u001b[39mwrapped\u001b[39m\u001b[39m\"\u001b[39m):\n\u001b[0;32m--> 437\u001b[0m     \u001b[39mreturn\u001b[39;00m \u001b[39mself\u001b[39;49m\u001b[39m.\u001b[39;49m\u001b[39m__call__\u001b[39;49m(\u001b[39m*\u001b[39;49margs, \u001b[39m*\u001b[39;49m\u001b[39m*\u001b[39;49mkwargs)\n\u001b[1;32m    438\u001b[0m \u001b[39mreturn\u001b[39;00m \u001b[39mself\u001b[39m\u001b[39m.\u001b[39m_forward_with_tracking(\u001b[39m*\u001b[39margs, \u001b[39m*\u001b[39m\u001b[39m*\u001b[39mkwargs)\n",
      "File \u001b[0;32m/ivy/ivy/ivy/stateful/module.py:141\u001b[0m, in \u001b[0;36mModule._fn_with_var_arg.<locals>._fn_with_var_arg_wrapper\u001b[0;34m(*a, **kw)\u001b[0m\n\u001b[1;32m    139\u001b[0m     \u001b[39mdel\u001b[39;00m kw[\u001b[39m\"\u001b[39m\u001b[39mv\u001b[39m\u001b[39m\"\u001b[39m]\n\u001b[1;32m    140\u001b[0m v \u001b[39m=\u001b[39m v_fn(\u001b[39mself\u001b[39m\u001b[39m.\u001b[39mv)\n\u001b[0;32m--> 141\u001b[0m \u001b[39mreturn\u001b[39;00m fn(\u001b[39m*\u001b[39;49ma, \u001b[39m*\u001b[39;49m\u001b[39m*\u001b[39;49mkw, v\u001b[39m=\u001b[39;49mv)\n",
      "File \u001b[0;32m/ivy/ivy/ivy/stateful/module.py:507\u001b[0m, in \u001b[0;36mModule.__call__\u001b[0;34m(self, v, stateful, arg_stateful_idxs, kwarg_stateful_idxs, track_submod_rets, submod_depth, submods_to_track, track_submod_call_order, expected_submod_rets, *args, **kwargs)\u001b[0m\n\u001b[1;32m    505\u001b[0m \u001b[39m# convert variables to native arrays so that they can be tracked\u001b[39;00m\n\u001b[1;32m    506\u001b[0m v \u001b[39m=\u001b[39m ivy\u001b[39m.\u001b[39mto_native(v)\n\u001b[0;32m--> 507\u001b[0m ret \u001b[39m=\u001b[39m \u001b[39mself\u001b[39;49m\u001b[39m.\u001b[39;49m_call(\u001b[39m*\u001b[39;49margs, v\u001b[39m=\u001b[39;49mv, \u001b[39m*\u001b[39;49m\u001b[39m*\u001b[39;49mkwargs)\n\u001b[1;32m    508\u001b[0m \u001b[39mself\u001b[39m\u001b[39m.\u001b[39m_unset_submod_flags()\n\u001b[1;32m    509\u001b[0m \u001b[39mreturn\u001b[39;00m ret\n",
      "File \u001b[0;32m/ivy/ivy/ivy/stateful/module.py:433\u001b[0m, in \u001b[0;36mModule._call\u001b[0;34m(self, v, *args, **kwargs)\u001b[0m\n\u001b[1;32m    427\u001b[0m v_orig \u001b[39m=\u001b[39m \u001b[39mself\u001b[39m\u001b[39m.\u001b[39mv\n\u001b[1;32m    428\u001b[0m \u001b[39mself\u001b[39m\u001b[39m.\u001b[39mv \u001b[39m=\u001b[39m (\n\u001b[1;32m    429\u001b[0m     Container(v, \u001b[39m*\u001b[39m\u001b[39m*\u001b[39mv\u001b[39m.\u001b[39mcont_config)\n\u001b[1;32m    430\u001b[0m     \u001b[39mif\u001b[39;00m \u001b[39misinstance\u001b[39m(v, Container)\n\u001b[1;32m    431\u001b[0m     \u001b[39melse\u001b[39;00m Container(v)\n\u001b[1;32m    432\u001b[0m )\n\u001b[0;32m--> 433\u001b[0m ret \u001b[39m=\u001b[39m \u001b[39mself\u001b[39;49m\u001b[39m.\u001b[39;49m_forward_with_tracking(\u001b[39m*\u001b[39;49margs, \u001b[39m*\u001b[39;49m\u001b[39m*\u001b[39;49mkwargs)\n\u001b[1;32m    434\u001b[0m \u001b[39mself\u001b[39m\u001b[39m.\u001b[39mv \u001b[39m=\u001b[39m v_orig\n\u001b[1;32m    435\u001b[0m \u001b[39mreturn\u001b[39;00m ret\n",
      "File \u001b[0;32m/ivy/ivy/ivy/stateful/module.py:395\u001b[0m, in \u001b[0;36mModule._forward_with_tracking\u001b[0;34m(self, *args, **kwargs)\u001b[0m\n\u001b[1;32m    393\u001b[0m \u001b[39mif\u001b[39;00m \u001b[39mself\u001b[39m\u001b[39m.\u001b[39mtrack_submod_call_order():\n\u001b[1;32m    394\u001b[0m     \u001b[39mself\u001b[39m\u001b[39m.\u001b[39m_add_submod_enter()\n\u001b[0;32m--> 395\u001b[0m ret \u001b[39m=\u001b[39m \u001b[39mself\u001b[39;49m\u001b[39m.\u001b[39;49m_forward(\u001b[39m*\u001b[39;49margs, \u001b[39m*\u001b[39;49m\u001b[39m*\u001b[39;49mkwargs)\n\u001b[1;32m    396\u001b[0m track_submod_rets \u001b[39m=\u001b[39m \u001b[39mself\u001b[39m\u001b[39m.\u001b[39mtrack_submod_rets()\n\u001b[1;32m    397\u001b[0m check_submod_rets \u001b[39m=\u001b[39m \u001b[39mself\u001b[39m\u001b[39m.\u001b[39mcheck_submod_rets()\n",
      "Cell \u001b[0;32mIn[5], line 40\u001b[0m, in \u001b[0;36mInception._forward\u001b[0;34m(self, x)\u001b[0m\n\u001b[1;32m     37\u001b[0m block3 \u001b[39m=\u001b[39m \u001b[39mself\u001b[39m\u001b[39m.\u001b[39mblock3(x)\n\u001b[1;32m     38\u001b[0m block4 \u001b[39m=\u001b[39m \u001b[39mself\u001b[39m\u001b[39m.\u001b[39mblock4(x)\n\u001b[0;32m---> 40\u001b[0m \u001b[39mreturn\u001b[39;00m ivy\u001b[39m.\u001b[39;49mconcat([block1, block2, block3, block4], axis\u001b[39m=\u001b[39;49m\u001b[39m3\u001b[39;49m)\n",
      "File \u001b[0;32m/ivy/ivy/ivy/utils/exceptions.py:246\u001b[0m, in \u001b[0;36mhandle_exceptions.<locals>._handle_exceptions\u001b[0;34m(*args, **kwargs)\u001b[0m\n\u001b[1;32m    244\u001b[0m \u001b[39mexcept\u001b[39;00m (\u001b[39mException\u001b[39;00m, IvyBackendException) \u001b[39mas\u001b[39;00m e:\n\u001b[1;32m    245\u001b[0m     _write_traceback_history(buffer)\n\u001b[0;32m--> 246\u001b[0m     \u001b[39mraise\u001b[39;00m ivy\u001b[39m.\u001b[39mutils\u001b[39m.\u001b[39mexceptions\u001b[39m.\u001b[39mIvyBackendException(\n\u001b[1;32m    247\u001b[0m         fn\u001b[39m.\u001b[39m\u001b[39m__name__\u001b[39m, buffer\u001b[39m.\u001b[39mgetvalue() \u001b[39m+\u001b[39m \u001b[39m\"\u001b[39m\u001b[39m \u001b[39m\u001b[39m\"\u001b[39m \u001b[39m+\u001b[39m \u001b[39mstr\u001b[39m(e), include_backend\u001b[39m=\u001b[39m\u001b[39mTrue\u001b[39;00m\n\u001b[1;32m    248\u001b[0m     )\n",
      "\u001b[0;31mIvyBackendException\u001b[0m: torch: concat:   File \"/ivy/ivy/ivy/utils/exceptions.py\", line 210, in _handle_exceptions\n    return fn(*args, **kwargs)\n  File \"/ivy/ivy/ivy/func_wrapper.py\", line 972, in _handle_nestable\n    return fn(*args, **kwargs)\n  File \"/ivy/ivy/ivy/func_wrapper.py\", line 864, in _handle_out_argument\n    return fn(*args, out=out, **kwargs)\n  File \"/ivy/ivy/ivy/func_wrapper.py\", line 440, in _inputs_to_native_arrays\n    return fn(*new_args, **new_kwargs)\n  File \"/ivy/ivy/ivy/func_wrapper.py\", line 546, in _outputs_to_ivy_arrays\n    ret = fn(*args, **kwargs)\n  File \"/ivy/ivy/ivy/func_wrapper.py\", line 357, in _handle_array_function\n    return fn(*args, **kwargs)\n  File \"/ivy/ivy/ivy/functional/backends/torch/manipulation.py\", line 43, in concat\n    return torch.cat(xs, dim=axis, out=out)\nDuring the handling of the above exception, another exception occurred:\n Sizes of tensors must match except in dimension 3. Expected size 28 but got size 30 for tensor number 2 in the list."
     ]
    }
   ],
   "source": [
    "# input_tensor = ivy.reshape(input_tensor, (1, 224, 224, 3))\n",
    "output, _, _ = model(img)\n",
    "\n",
    "display(output_gt.shape)\n",
    "display(output.shape)\n",
    "# display(model.v)"
   ]
  },
  {
   "cell_type": "markdown",
   "metadata": {},
   "source": [
    "Shape test"
   ]
  },
  {
   "cell_type": "code",
   "execution_count": null,
   "metadata": {},
   "outputs": [
    {
     "ename": "NameError",
     "evalue": "name 'output' is not defined",
     "output_type": "error",
     "traceback": [
      "\u001b[0;31m---------------------------------------------------------------------------\u001b[0m",
      "\u001b[0;31mNameError\u001b[0m                                 Traceback (most recent call last)",
      "Cell \u001b[0;32mIn[15], line 1\u001b[0m\n\u001b[0;32m----> 1\u001b[0m \u001b[39massert\u001b[39;00m output\u001b[39m.\u001b[39mshape \u001b[39m==\u001b[39m \u001b[39mtuple\u001b[39m([\u001b[39m1\u001b[39m, \u001b[39m1000\u001b[39m])\n",
      "\u001b[0;31mNameError\u001b[0m: name 'output' is not defined"
     ]
    }
   ],
   "source": [
    "assert output.shape == tuple([1, 1000])"
   ]
  },
  {
   "cell_type": "markdown",
   "metadata": {},
   "source": [
    "Value test"
   ]
  },
  {
   "cell_type": "code",
   "execution_count": null,
   "metadata": {},
   "outputs": [
    {
     "data": {
      "text/plain": [
       "ivy.array([ 69, 452, 575])"
      ]
     },
     "metadata": {},
     "output_type": "display_data"
    },
    {
     "data": {
      "text/plain": [
       "ivy.array([761, 803, 601])"
      ]
     },
     "metadata": {},
     "output_type": "display_data"
    }
   ],
   "source": [
    "# indices of logits in decending order from both outputs\n",
    "calc_indices = ivy.argsort(output[0], descending=True)[:3]\n",
    "true_indices = ivy.argsort(output_gt[0], descending=True)[:3]\n",
    "display(calc_indices)\n",
    "display(true_indices)"
   ]
  },
  {
   "cell_type": "code",
   "execution_count": null,
   "metadata": {},
   "outputs": [
    {
     "ename": "NameError",
     "evalue": "name 'np' is not defined",
     "output_type": "error",
     "traceback": [
      "\u001b[0;31m---------------------------------------------------------------------------\u001b[0m",
      "\u001b[0;31mNameError\u001b[0m                                 Traceback (most recent call last)",
      "Cell \u001b[0;32mIn[1], line 1\u001b[0m\n\u001b[0;32m----> 1\u001b[0m \u001b[39massert\u001b[39;00m np\u001b[39m.\u001b[39marray_equal(true_indices, calc_indices)\n",
      "\u001b[0;31mNameError\u001b[0m: name 'np' is not defined"
     ]
    }
   ],
   "source": [
    "assert np.array_equal(true_indices, calc_indices)"
   ]
  },
  {
   "cell_type": "code",
   "execution_count": null,
   "metadata": {},
   "outputs": [
    {
     "data": {
      "text/plain": [
       "ivy.array([569.6154785, 747.3538818, 659.2441406])"
      ]
     },
     "metadata": {},
     "output_type": "display_data"
    },
    {
     "data": {
      "text/plain": [
       "[8.073171615600586, 8.19470500946045, 6.8008599281311035]"
      ]
     },
     "metadata": {},
     "output_type": "display_data"
    }
   ],
   "source": [
    "calc_logits = ivy.take_along_axis(output[0], calc_indices, 0)\n",
    "true_logits = output_gt[0, true_indices[0]].tolist()\n",
    "display(calc_logits)\n",
    "display(true_logits)"
   ]
  },
  {
   "cell_type": "code",
   "execution_count": null,
   "metadata": {},
   "outputs": [],
   "source": [
    "assert np.allclose(true_logits, calc_logits, rtol=0.5)"
   ]
  },
  {
   "cell_type": "code",
   "execution_count": null,
   "metadata": {},
   "outputs": [],
   "source": []
  },
  {
   "cell_type": "code",
   "execution_count": null,
   "metadata": {},
   "outputs": [],
   "source": []
  },
  {
   "cell_type": "code",
   "execution_count": null,
   "metadata": {},
   "outputs": [],
   "source": []
  },
  {
   "cell_type": "code",
   "execution_count": null,
   "metadata": {},
   "outputs": [],
   "source": []
  },
  {
   "cell_type": "code",
   "execution_count": null,
   "metadata": {},
   "outputs": [],
   "source": []
  }
 ],
 "metadata": {
  "kernelspec": {
   "display_name": "base",
   "language": "python",
   "name": "python3"
  },
  "language_info": {
   "codemirror_mode": {
    "name": "ipython",
    "version": 3
   },
   "file_extension": ".py",
   "mimetype": "text/x-python",
   "name": "python",
   "nbconvert_exporter": "python",
   "pygments_lexer": "ipython3",
   "version": "3.10.0"
  },
  "orig_nbformat": 4
 },
 "nbformat": 4,
 "nbformat_minor": 2
}
