{
 "cells": [
  {
   "cell_type": "code",
   "execution_count": 17,
   "metadata": {},
   "outputs": [],
   "source": [
    "import warnings\n",
    "warnings.filterwarnings('ignore')"
   ]
  },
  {
   "cell_type": "code",
   "execution_count": 18,
   "metadata": {},
   "outputs": [],
   "source": [
    "from torchvision import transforms\n",
    "from PIL import Image \n",
    "\n",
    "def load_and_preprocess_img(\n",
    "    path, new_size, crop, mean=[0.485, 0.456, 0.406], std=[0.229, 0.224, 0.225]\n",
    "):\n",
    "    img = Image.open(path)\n",
    "    compose = transforms.Compose(\n",
    "        [\n",
    "            transforms.Resize(new_size),\n",
    "            transforms.CenterCrop(crop),\n",
    "            transforms.ToTensor(),\n",
    "            transforms.Normalize(mean=mean, std=std),\n",
    "        ]\n",
    "    )\n",
    "    img = compose(img)\n",
    "    img = img.unsqueeze(0).permute((0, 2, 3, 1))\n",
    "    return img.numpy()"
   ]
  },
  {
   "cell_type": "code",
   "execution_count": 19,
   "metadata": {},
   "outputs": [],
   "source": [
    "import ivy\n",
    "ivy.set_backend(\"torch\")\n",
    "\n",
    "# Load image\n",
    "this_dir = \"/models/images/cat.jpg\" \n",
    "img = ivy.asarray(load_and_preprocess_img(this_dir, 256, 224))"
   ]
  },
  {
   "cell_type": "markdown",
   "metadata": {},
   "source": [
    "test"
   ]
  },
  {
   "cell_type": "code",
   "execution_count": 20,
   "metadata": {},
   "outputs": [],
   "source": [
    "# conv = ivy.Conv2D(3, 128, [1,1], 5, 4)\n",
    "# display(img.shape)\n",
    "\n",
    "# output = conv(img)\n",
    "# display(output.shape)\n",
    "\n",
    "# conv = ivy.Conv2D(128 , 256, [1,1], 5, 4)\n",
    "# output = conv(output)\n",
    "# display(output.shape)"
   ]
  },
  {
   "cell_type": "markdown",
   "metadata": {},
   "source": [
    "procedural model execution for debugging start"
   ]
  },
  {
   "cell_type": "code",
   "execution_count": 21,
   "metadata": {},
   "outputs": [],
   "source": [
    "# ConvBlock\n",
    "\n",
    "def ConvBlock(in_chaivyels, out_chaivyels, kernel_size, stride, padding, x):\n",
    "    conv = ivy.Conv2D(in_chaivyels, out_chaivyels, kernel_size, stride, padding)\n",
    "    bn = ivy.BatchNorm2D(out_chaivyels)\n",
    "    activation = ivy.ReLU()\n",
    "\n",
    "    x = conv(x)\n",
    "    x = bn(x)\n",
    "    x = activation(x)\n",
    "    return x"
   ]
  },
  {
   "cell_type": "code",
   "execution_count": 22,
   "metadata": {},
   "outputs": [],
   "source": [
    "# _ConvBlock\n",
    "\n",
    "class _ConvBlock(ivy.Module):\n",
    "    def __init__(self, in_channels, out_channels, kernel_size, stride, padding):\n",
    "        super(_ConvBlock, self).__init__()\n",
    "\n",
    "        self.conv = ivy.Conv2D(in_channels, out_channels, kernel_size, stride, padding)\n",
    "        self.bn = ivy.BatchNorm2D(out_channels)\n",
    "        self.activation = ivy.ReLU()\n",
    "\n",
    "    def _forward(self, x):\n",
    "        x = self.conv(x)\n",
    "        x = self.bn(x)\n",
    "        x = self.activation(x)\n",
    "        return x"
   ]
  },
  {
   "cell_type": "code",
   "execution_count": 23,
   "metadata": {},
   "outputs": [],
   "source": [
    "# Inception Block\n",
    "\n",
    "def InceptionBlock(in_channels, num1x1, num3x3_reduce, num3x3, num5x5_reduce, num5x5, pool_proj, x):\n",
    "    block1 = ivy.Sequential(_ConvBlock(in_channels, num1x1, kernel_size=[1, 1], stride=1, padding=0))\n",
    "\n",
    "    block2 = ivy.Sequential(_ConvBlock(in_channels, num3x3_reduce, kernel_size=[1, 1], stride=1, padding=0),\n",
    "                            _ConvBlock(num3x3_reduce, num3x3, kernel_size=[3, 3], stride=1, padding=1))\n",
    "    \n",
    "    block3 = ivy.Sequential(_ConvBlock(in_channels, num5x5_reduce, kernel_size=[1, 1], stride=1, padding=0),\n",
    "                            _ConvBlock(num5x5_reduce, num5x5, kernel_size=[3, 3], stride=1, padding=1))\n",
    "    \n",
    "    block4 = ivy.Sequential(ivy.MaxPool2D(3, 1, 1),\n",
    "                            _ConvBlock(in_channels, pool_proj, kernel_size=[1, 1], stride=1, padding=0))\n",
    "\n",
    "    block1 = block1(x)\n",
    "    block2 = block2(x)\n",
    "    block3 = block3(x)\n",
    "    block4 = block4(x)\n",
    "    \n",
    "    return ivy.concat([block1, block2, block3, block4], axis=3)"
   ]
  },
  {
   "cell_type": "code",
   "execution_count": 24,
   "metadata": {},
   "outputs": [],
   "source": [
    "# Auxiliary Block\n",
    "\n",
    "def AuxiliaryBlock(in_channels, num_classes, x):\n",
    "    pool = ivy.AdaptiveAvgPool2d((4, 4))\n",
    "    conv = ivy.Conv2D(in_channels, 128, [1,1], 1, 0)\n",
    "    activation = ivy.ReLU()\n",
    "    fc1 = ivy.Linear(2048, 1024)\n",
    "    dropout = ivy.Dropout(0.7)\n",
    "    fc2 = ivy.Linear(1024, num_classes)\n",
    "\n",
    "    \n",
    "    out = pool(x)\n",
    "    display(out.shape)\n",
    "    out = conv(out)\n",
    "    display(out.shape)\n",
    "    out = activation(out)\n",
    "    display(out.shape)\n",
    "    out = ivy.flatten(out, start_dim=1)(out)\n",
    "    display(out.shape)\n",
    "    out = fc1(out)\n",
    "    display(out.shape)\n",
    "    out = activation(out)\n",
    "    display(out.shape)\n",
    "    out = dropout(out)\n",
    "    display(out.shape)\n",
    "    out = fc2(out)\n",
    "    display(out.shape)\n",
    "    return out"
   ]
  },
  {
   "cell_type": "code",
   "execution_count": 25,
   "metadata": {},
   "outputs": [],
   "source": [
    "# MaxPool2D\n",
    "\n",
    "def MaxPool2D(kernel_size, stride, padding, x):\n",
    "    pool = ivy.MaxPool2D(kernel_size, stride, padding)\n",
    "    x = pool(x)\n",
    "    return x"
   ]
  },
  {
   "cell_type": "code",
   "execution_count": 26,
   "metadata": {},
   "outputs": [],
   "source": [
    "# AdaptiveAvgPool2D\n",
    "\n",
    "def AdaptiveAvgPool2D(output_size, x):\n",
    "    avg_pool = ivy.AdaptiveAvgPool2d(output_size)\n",
    "    x = avg_pool(x)\n",
    "    return x"
   ]
  },
  {
   "cell_type": "code",
   "execution_count": 27,
   "metadata": {},
   "outputs": [],
   "source": [
    "# Dropout\n",
    "\n",
    "def Dropout(prob, x):\n",
    "    # prob: The probability of zeroing out each array element.\n",
    "    dropout = ivy.Dropout(prob)\n",
    "    x = dropout(x)\n",
    "    return x"
   ]
  },
  {
   "cell_type": "code",
   "execution_count": 28,
   "metadata": {},
   "outputs": [],
   "source": [
    "# FC\n",
    "\n",
    "def FC(input_channels, output_channels, x):\n",
    "    linear = ivy.Linear(input_channels, output_channels)\n",
    "    x = linear(x)\n",
    "    return x"
   ]
  },
  {
   "cell_type": "code",
   "execution_count": 29,
   "metadata": {},
   "outputs": [],
   "source": [
    "# # ivy.flatten(out, start_dim=1)\n",
    "\n",
    "# def ivy.flatten(out, start_dim=1)(x):\n",
    "#     x = ivy.flatten(out, start_dim=1)(x)\n",
    "#     return x"
   ]
  },
  {
   "cell_type": "code",
   "execution_count": 30,
   "metadata": {},
   "outputs": [
    {
     "data": {
      "text/plain": [
       "ivy.Shape(1, 224, 224, 3)"
      ]
     },
     "metadata": {},
     "output_type": "display_data"
    },
    {
     "data": {
      "text/plain": [
       "ivy.Shape(1, 112, 112, 64)"
      ]
     },
     "metadata": {},
     "output_type": "display_data"
    }
   ],
   "source": [
    "# GoogleNet V1\n",
    "\n",
    "num_classes = 1000\n",
    "display(img.shape)\n",
    "out = ConvBlock(3, 64, [7,7], 2, 3, img)\n",
    "display(out.shape)"
   ]
  },
  {
   "cell_type": "code",
   "execution_count": 31,
   "metadata": {},
   "outputs": [
    {
     "data": {
      "text/plain": [
       "ivy.Shape(1, 56, 56, 64)"
      ]
     },
     "metadata": {},
     "output_type": "display_data"
    }
   ],
   "source": [
    "out = MaxPool2D([3,3], 2, 1, out)\n",
    "display(out.shape)\n"
   ]
  },
  {
   "cell_type": "code",
   "execution_count": 32,
   "metadata": {},
   "outputs": [
    {
     "data": {
      "text/plain": [
       "ivy.Shape(1, 56, 56, 64)"
      ]
     },
     "metadata": {},
     "output_type": "display_data"
    }
   ],
   "source": [
    "out = ConvBlock(64, 64, [1,1], 1, 0, out)\n",
    "display(out.shape)\n"
   ]
  },
  {
   "cell_type": "code",
   "execution_count": 33,
   "metadata": {},
   "outputs": [
    {
     "data": {
      "text/plain": [
       "ivy.Shape(1, 56, 56, 192)"
      ]
     },
     "metadata": {},
     "output_type": "display_data"
    }
   ],
   "source": [
    "out = ConvBlock(64, 192, [3,3], 1, 1, out)\n",
    "display(out.shape)\n"
   ]
  },
  {
   "cell_type": "code",
   "execution_count": 34,
   "metadata": {},
   "outputs": [
    {
     "data": {
      "text/plain": [
       "ivy.Shape(1, 28, 28, 192)"
      ]
     },
     "metadata": {},
     "output_type": "display_data"
    }
   ],
   "source": [
    "out = MaxPool2D(3, 2, 1, out)\n",
    "display(out.shape)\n"
   ]
  },
  {
   "cell_type": "code",
   "execution_count": 35,
   "metadata": {},
   "outputs": [
    {
     "data": {
      "text/plain": [
       "ivy.Shape(1, 28, 28, 256)"
      ]
     },
     "metadata": {},
     "output_type": "display_data"
    }
   ],
   "source": [
    "out = InceptionBlock(192, 64, 96, 128, 16, 32, 32, out)\n",
    "display(out.shape)\n"
   ]
  },
  {
   "cell_type": "code",
   "execution_count": 36,
   "metadata": {},
   "outputs": [
    {
     "data": {
      "text/plain": [
       "ivy.Shape(1, 28, 28, 480)"
      ]
     },
     "metadata": {},
     "output_type": "display_data"
    }
   ],
   "source": [
    "out = InceptionBlock(256, 128, 128, 192, 32, 96, 64, out)\n",
    "display(out.shape)\n"
   ]
  },
  {
   "cell_type": "code",
   "execution_count": 37,
   "metadata": {},
   "outputs": [
    {
     "data": {
      "text/plain": [
       "ivy.Shape(1, 14, 14, 480)"
      ]
     },
     "metadata": {},
     "output_type": "display_data"
    }
   ],
   "source": [
    "out = MaxPool2D(3, 2, 1, out)\n",
    "display(out.shape)\n"
   ]
  },
  {
   "cell_type": "code",
   "execution_count": 38,
   "metadata": {},
   "outputs": [
    {
     "data": {
      "text/plain": [
       "ivy.Shape(1, 14, 14, 512)"
      ]
     },
     "metadata": {},
     "output_type": "display_data"
    }
   ],
   "source": [
    "out_1 = InceptionBlock(480, 192, 96, 208, 16, 48, 64, out)\n",
    "display(out_1.shape)"
   ]
  },
  {
   "cell_type": "code",
   "execution_count": 39,
   "metadata": {},
   "outputs": [
    {
     "data": {
      "text/plain": [
       "ivy.Shape(1, 14, 14, 512)"
      ]
     },
     "metadata": {},
     "output_type": "display_data"
    },
    {
     "data": {
      "text/plain": [
       "ivy.Shape(1, 4, 4, 512)"
      ]
     },
     "metadata": {},
     "output_type": "display_data"
    },
    {
     "data": {
      "text/plain": [
       "ivy.Shape(1, 2048)"
      ]
     },
     "metadata": {},
     "output_type": "display_data"
    },
    {
     "data": {
      "text/plain": [
       "ivy.Shape(1, 1024)"
      ]
     },
     "metadata": {},
     "output_type": "display_data"
    },
    {
     "data": {
      "text/plain": [
       "ivy.Shape(1, 1024)"
      ]
     },
     "metadata": {},
     "output_type": "display_data"
    },
    {
     "data": {
      "text/plain": [
       "ivy.Shape(1, 1024)"
      ]
     },
     "metadata": {},
     "output_type": "display_data"
    },
    {
     "data": {
      "text/plain": [
       "ivy.Shape(1, 1000)"
      ]
     },
     "metadata": {},
     "output_type": "display_data"
    },
    {
     "data": {
      "text/plain": [
       "ivy.Shape(1, 1000)"
      ]
     },
     "metadata": {},
     "output_type": "display_data"
    }
   ],
   "source": [
    "in_channels1=512\n",
    "num_classes=1000\n",
    "pool = ivy.AvgPool2D((5, 5), 3, 0) # ivy.Shape(1, 4, 4, 512)\n",
    "conv = ivy.Conv2D(in_channels1, 128, [1,1], 1, 0)\n",
    "activation = ivy.ReLU()\n",
    "fc1 = ivy.Linear(2048, 1024)\n",
    "dropout = ivy.Dropout(0.7)\n",
    "fc2 = ivy.Linear(1024, num_classes)\n",
    "\n",
    "display(out_1.shape)\n",
    "out_3 = pool(out_1)\n",
    "display(out_3.shape)\n",
    "out = conv(out_3)\n",
    "out = activation(out)\n",
    "out = ivy.flatten(out, start_dim=1)\n",
    "display(out.shape)\n",
    "out = fc1(out)\n",
    "display(out.shape)\n",
    "out = activation(out)\n",
    "display(out.shape)\n",
    "out = dropout(out)\n",
    "display(out.shape)\n",
    "out = fc2(out)\n",
    "display(out.shape)\n",
    "aux1 = out\n",
    "display(aux1.shape)"
   ]
  },
  {
   "cell_type": "code",
   "execution_count": 40,
   "metadata": {},
   "outputs": [
    {
     "data": {
      "text/plain": [
       "ivy.Shape(1, 14, 14, 512)"
      ]
     },
     "metadata": {},
     "output_type": "display_data"
    }
   ],
   "source": [
    "out = InceptionBlock(512, 160, 112, 224, 24, 64, 64, out_1)\n",
    "display(out.shape)"
   ]
  },
  {
   "cell_type": "code",
   "execution_count": 41,
   "metadata": {},
   "outputs": [
    {
     "data": {
      "text/plain": [
       "ivy.Shape(1, 14, 14, 512)"
      ]
     },
     "metadata": {},
     "output_type": "display_data"
    }
   ],
   "source": [
    "out = InceptionBlock(512, 128, 128, 256, 24, 64, 64, out)\n",
    "display(out.shape)\n",
    "out_5 = InceptionBlock(512, 112, 144, 288, 32, 64, 64, out)\n",
    "display(out_5.shape)"
   ]
  },
  {
   "cell_type": "code",
   "execution_count": null,
   "metadata": {},
   "outputs": [
    {
     "data": {
      "text/plain": [
       "ivy.Shape(1, 14, 14, 528)"
      ]
     },
     "metadata": {},
     "output_type": "display_data"
    },
    {
     "data": {
      "text/plain": [
       "ivy.Shape(1, 4, 4, 528)"
      ]
     },
     "metadata": {},
     "output_type": "display_data"
    },
    {
     "data": {
      "text/plain": [
       "ivy.Shape(1, 2048)"
      ]
     },
     "metadata": {},
     "output_type": "display_data"
    },
    {
     "data": {
      "text/plain": [
       "ivy.Shape(1, 1024)"
      ]
     },
     "metadata": {},
     "output_type": "display_data"
    },
    {
     "data": {
      "text/plain": [
       "ivy.Shape(1, 1024)"
      ]
     },
     "metadata": {},
     "output_type": "display_data"
    },
    {
     "data": {
      "text/plain": [
       "ivy.Shape(1, 1024)"
      ]
     },
     "metadata": {},
     "output_type": "display_data"
    },
    {
     "data": {
      "text/plain": [
       "ivy.Shape(1, 1000)"
      ]
     },
     "metadata": {},
     "output_type": "display_data"
    },
    {
     "data": {
      "text/plain": [
       "ivy.Shape(1, 1000)"
      ]
     },
     "metadata": {},
     "output_type": "display_data"
    }
   ],
   "source": [
    "in_channels1=528\n",
    "num_classes=1000\n",
    "pool = ivy.AvgPool2D((5, 5), 3, 0)\n",
    "conv = ivy.Conv2D(in_channels1, 128, [1,1], 1, 0)\n",
    "activation = ivy.ReLU()\n",
    "fc1 = ivy.Linear(2048, 1024)\n",
    "dropout = ivy.Dropout(0.7)\n",
    "fc2 = ivy.Linear(1024, num_classes)\n",
    "\n",
    "display(out_5.shape)\n",
    "out_3 = pool(out_5)\n",
    "display(out_3.shape)\n",
    "out = conv(out_3)\n",
    "out = activation(out)\n",
    "out = ivy.flatten(out, start_dim=1)\n",
    "display(out.shape)\n",
    "out = fc1(out)\n",
    "display(out.shape)\n",
    "out = activation(out)\n",
    "display(out.shape)\n",
    "out = dropout(out)\n",
    "display(out.shape)\n",
    "out = fc2(out)\n",
    "display(out.shape)\n",
    "aux2 = out\n",
    "display(aux2.shape)"
   ]
  },
  {
   "cell_type": "code",
   "execution_count": null,
   "metadata": {},
   "outputs": [
    {
     "data": {
      "text/plain": [
       "ivy.Shape(1, 14, 14, 832)"
      ]
     },
     "metadata": {},
     "output_type": "display_data"
    },
    {
     "data": {
      "text/plain": [
       "ivy.Shape(1, 7, 7, 832)"
      ]
     },
     "metadata": {},
     "output_type": "display_data"
    }
   ],
   "source": [
    "out = InceptionBlock(528, 256, 160, 320, 32, 128, 128, out_5)\n",
    "display(out.shape)\n",
    "out_6 = MaxPool2D(3, 2, 1, out)\n",
    "display(out_6.shape)"
   ]
  },
  {
   "cell_type": "code",
   "execution_count": null,
   "metadata": {},
   "outputs": [
    {
     "data": {
      "text/plain": [
       "ivy.Shape(1, 7, 7, 832)"
      ]
     },
     "metadata": {},
     "output_type": "display_data"
    },
    {
     "data": {
      "text/plain": [
       "ivy.Shape(1, 7, 7, 1024)"
      ]
     },
     "metadata": {},
     "output_type": "display_data"
    }
   ],
   "source": [
    "out = InceptionBlock(832, 256, 160, 320, 32, 128, 128, out_6)\n",
    "display(out.shape)\n",
    "out_7 = InceptionBlock(832, 384, 192, 384, 48, 128,128, out)\n",
    "display(out_7.shape)\n"
   ]
  },
  {
   "cell_type": "code",
   "execution_count": null,
   "metadata": {},
   "outputs": [
    {
     "data": {
      "text/plain": [
       "ivy.Shape(1, 1, 1, 1024)"
      ]
     },
     "metadata": {},
     "output_type": "display_data"
    },
    {
     "data": {
      "text/plain": [
       "ivy.Shape(1, 1024)"
      ]
     },
     "metadata": {},
     "output_type": "display_data"
    },
    {
     "data": {
      "text/plain": [
       "ivy.array([[4.60735750e+00, 9.01112671e+01, 3.61349317e-03, ...,\n",
       "        1.14853615e+02, 1.26411003e+02, 6.81729126e+01]])"
      ]
     },
     "metadata": {},
     "output_type": "display_data"
    },
    {
     "data": {
      "text/plain": [
       "ivy.array([[7.67892885e+00, 1.50185440e+02, 6.02248870e-03, ...,\n",
       "        0.00000000e+00, 2.10684998e+02, 1.13621521e+02]])"
      ]
     },
     "metadata": {},
     "output_type": "display_data"
    }
   ],
   "source": [
    "pool7 = ivy.AvgPool2D((7,7), 1, 0)\n",
    "out = pool7(out_7)\n",
    "display(out.shape)\n",
    "\n",
    "out = ivy.flatten(out, start_dim=1)\n",
    "display(out.shape)\n",
    "display(out)\n",
    "out_8 = Dropout(0.4, out)\n",
    "display(out_8)"
   ]
  },
  {
   "cell_type": "code",
   "execution_count": null,
   "metadata": {},
   "outputs": [
    {
     "data": {
      "text/plain": [
       "ivy.Shape(1, 1000)"
      ]
     },
     "metadata": {},
     "output_type": "display_data"
    },
    {
     "data": {
      "text/plain": [
       "ivy.Shape(1, 1000)"
      ]
     },
     "metadata": {},
     "output_type": "display_data"
    },
    {
     "data": {
      "text/plain": [
       "ivy.Shape(1, 1000)"
      ]
     },
     "metadata": {},
     "output_type": "display_data"
    }
   ],
   "source": [
    "out = FC(1024, num_classes, out_8)\n",
    "\n",
    "display(out.shape, aux1.shape, aux2.shape)"
   ]
  },
  {
   "cell_type": "code",
   "execution_count": null,
   "metadata": {},
   "outputs": [],
   "source": []
  },
  {
   "cell_type": "code",
   "execution_count": null,
   "metadata": {},
   "outputs": [],
   "source": [
    "import os\n",
    "import ivy\n",
    "import pytest\n",
    "import numpy as np\n",
    "import jax\n",
    "\n",
    "# Enable x64 support in JAX\n",
    "jax.config.update(\"jax_enable_x64\", True)\n",
    "from ivy_models_tests import helpers\n",
    "from ivy_models.resnet import resnet_18, resnet_34, resnet_50, resnet_152, resnet_101\n"
   ]
  },
  {
   "cell_type": "code",
   "execution_count": null,
   "metadata": {},
   "outputs": [],
   "source": [
    "def np_softmax(inputs):\n",
    "    \"\"\"apply the softmax on the output\"\"\"\n",
    "    return np.exp(inputs) / np.sum(np.exp(inputs))\n"
   ]
  },
  {
   "cell_type": "code",
   "execution_count": null,
   "metadata": {},
   "outputs": [
    {
     "name": "stderr",
     "output_type": "stream",
     "text": [
      "WARNING:root:NumPy does not support autograd, declaring a 'variable' is identical to declaring an 'array' when using numpy backend.\n",
      "WARNING:root:NumPy does not support autograd, declaring a 'variable' is identical to declaring an 'array' when using numpy backend.\n",
      "WARNING:root:NumPy does not support autograd, declaring a 'variable' is identical to declaring an 'array' when using numpy backend.\n",
      "WARNING:root:NumPy does not support autograd, declaring a 'variable' is identical to declaring an 'array' when using numpy backend.\n",
      "WARNING:root:NumPy does not support autograd, declaring a 'variable' is identical to declaring an 'array' when using numpy backend.\n",
      "WARNING:root:NumPy does not support autograd, declaring a 'variable' is identical to declaring an 'array' when using numpy backend.\n",
      "WARNING:root:NumPy does not support autograd, declaring a 'variable' is identical to declaring an 'array' when using numpy backend.\n",
      "WARNING:root:NumPy does not support autograd, declaring a 'variable' is identical to declaring an 'array' when using numpy backend.\n",
      "WARNING:root:NumPy does not support autograd, declaring a 'variable' is identical to declaring an 'array' when using numpy backend.\n",
      "WARNING:root:NumPy does not support autograd, declaring a 'variable' is identical to declaring an 'array' when using numpy backend.\n",
      "WARNING:root:NumPy does not support autograd, declaring a 'variable' is identical to declaring an 'array' when using numpy backend.\n",
      "WARNING:root:NumPy does not support autograd, declaring a 'variable' is identical to declaring an 'array' when using numpy backend.\n",
      "WARNING:root:NumPy does not support autograd, declaring a 'variable' is identical to declaring an 'array' when using numpy backend.\n",
      "WARNING:root:NumPy does not support autograd, declaring a 'variable' is identical to declaring an 'array' when using numpy backend.\n",
      "WARNING:root:NumPy does not support autograd, declaring a 'variable' is identical to declaring an 'array' when using numpy backend.\n",
      "WARNING:root:NumPy does not support autograd, declaring a 'variable' is identical to declaring an 'array' when using numpy backend.\n",
      "WARNING:root:NumPy does not support autograd, declaring a 'variable' is identical to declaring an 'array' when using numpy backend.\n",
      "WARNING:root:NumPy does not support autograd, declaring a 'variable' is identical to declaring an 'array' when using numpy backend.\n",
      "WARNING:root:NumPy does not support autograd, declaring a 'variable' is identical to declaring an 'array' when using numpy backend.\n",
      "WARNING:root:NumPy does not support autograd, declaring a 'variable' is identical to declaring an 'array' when using numpy backend.\n",
      "WARNING:root:NumPy does not support autograd, declaring a 'variable' is identical to declaring an 'array' when using numpy backend.\n",
      "WARNING:root:NumPy does not support autograd, declaring a 'variable' is identical to declaring an 'array' when using numpy backend.\n",
      "WARNING:root:NumPy does not support autograd, declaring a 'variable' is identical to declaring an 'array' when using numpy backend.\n",
      "WARNING:root:NumPy does not support autograd, declaring a 'variable' is identical to declaring an 'array' when using numpy backend.\n",
      "WARNING:root:NumPy does not support autograd, declaring a 'variable' is identical to declaring an 'array' when using numpy backend.\n",
      "WARNING:root:NumPy does not support autograd, declaring a 'variable' is identical to declaring an 'array' when using numpy backend.\n",
      "WARNING:root:NumPy does not support autograd, declaring a 'variable' is identical to declaring an 'array' when using numpy backend.\n",
      "WARNING:root:NumPy does not support autograd, declaring a 'variable' is identical to declaring an 'array' when using numpy backend.\n",
      "WARNING:root:NumPy does not support autograd, declaring a 'variable' is identical to declaring an 'array' when using numpy backend.\n",
      "WARNING:root:NumPy does not support autograd, declaring a 'variable' is identical to declaring an 'array' when using numpy backend.\n",
      "WARNING:root:NumPy does not support autograd, declaring a 'variable' is identical to declaring an 'array' when using numpy backend.\n",
      "WARNING:root:NumPy does not support autograd, declaring a 'variable' is identical to declaring an 'array' when using numpy backend.\n",
      "WARNING:root:NumPy does not support autograd, declaring a 'variable' is identical to declaring an 'array' when using numpy backend.\n",
      "WARNING:root:NumPy does not support autograd, declaring a 'variable' is identical to declaring an 'array' when using numpy backend.\n",
      "WARNING:root:NumPy does not support autograd, declaring a 'variable' is identical to declaring an 'array' when using numpy backend.\n",
      "WARNING:root:NumPy does not support autograd, declaring a 'variable' is identical to declaring an 'array' when using numpy backend.\n",
      "WARNING:root:NumPy does not support autograd, declaring a 'variable' is identical to declaring an 'array' when using numpy backend.\n",
      "WARNING:root:NumPy does not support autograd, declaring a 'variable' is identical to declaring an 'array' when using numpy backend.\n",
      "WARNING:root:NumPy does not support autograd, declaring a 'variable' is identical to declaring an 'array' when using numpy backend.\n",
      "WARNING:root:NumPy does not support autograd, declaring a 'variable' is identical to declaring an 'array' when using numpy backend.\n",
      "WARNING:root:NumPy does not support autograd, declaring a 'variable' is identical to declaring an 'array' when using numpy backend.\n",
      "WARNING:root:NumPy does not support autograd, declaring a 'variable' is identical to declaring an 'array' when using numpy backend.\n",
      "WARNING:root:NumPy does not support autograd, declaring a 'variable' is identical to declaring an 'array' when using numpy backend.\n",
      "WARNING:root:NumPy does not support autograd, declaring a 'variable' is identical to declaring an 'array' when using numpy backend.\n",
      "WARNING:root:NumPy does not support autograd, declaring a 'variable' is identical to declaring an 'array' when using numpy backend.\n",
      "WARNING:root:NumPy does not support autograd, declaring a 'variable' is identical to declaring an 'array' when using numpy backend.\n",
      "WARNING:root:NumPy does not support autograd, declaring a 'variable' is identical to declaring an 'array' when using numpy backend.\n",
      "WARNING:root:NumPy does not support autograd, declaring a 'variable' is identical to declaring an 'array' when using numpy backend.\n",
      "WARNING:root:NumPy does not support autograd, declaring a 'variable' is identical to declaring an 'array' when using numpy backend.\n",
      "WARNING:root:NumPy does not support autograd, declaring a 'variable' is identical to declaring an 'array' when using numpy backend.\n",
      "WARNING:root:NumPy does not support autograd, declaring a 'variable' is identical to declaring an 'array' when using numpy backend.\n",
      "WARNING:root:NumPy does not support autograd, declaring a 'variable' is identical to declaring an 'array' when using numpy backend.\n",
      "WARNING:root:NumPy does not support autograd, declaring a 'variable' is identical to declaring an 'array' when using numpy backend.\n",
      "WARNING:root:NumPy does not support autograd, declaring a 'variable' is identical to declaring an 'array' when using numpy backend.\n",
      "WARNING:root:NumPy does not support autograd, declaring a 'variable' is identical to declaring an 'array' when using numpy backend.\n",
      "WARNING:root:NumPy does not support autograd, declaring a 'variable' is identical to declaring an 'array' when using numpy backend.\n",
      "WARNING:root:NumPy does not support autograd, declaring a 'variable' is identical to declaring an 'array' when using numpy backend.\n",
      "WARNING:root:NumPy does not support autograd, declaring a 'variable' is identical to declaring an 'array' when using numpy backend.\n",
      "WARNING:root:NumPy does not support autograd, declaring a 'variable' is identical to declaring an 'array' when using numpy backend.\n",
      "WARNING:root:NumPy does not support autograd, declaring a 'variable' is identical to declaring an 'array' when using numpy backend.\n",
      "WARNING:root:NumPy does not support autograd, declaring a 'variable' is identical to declaring an 'array' when using numpy backend.\n",
      "WARNING:root:NumPy does not support autograd, declaring a 'variable' is identical to declaring an 'array' when using numpy backend.\n",
      "WARNING:root:NumPy does not support autograd, declaring a 'variable' is identical to declaring an 'array' when using numpy backend.\n",
      "WARNING:root:NumPy does not support autograd, declaring a 'variable' is identical to declaring an 'array' when using numpy backend.\n",
      "WARNING:root:NumPy does not support autograd, declaring a 'variable' is identical to declaring an 'array' when using numpy backend.\n",
      "WARNING:root:NumPy does not support autograd, declaring a 'variable' is identical to declaring an 'array' when using numpy backend.\n",
      "WARNING:root:NumPy does not support autograd, declaring a 'variable' is identical to declaring an 'array' when using numpy backend.\n",
      "WARNING:root:NumPy does not support autograd, declaring a 'variable' is identical to declaring an 'array' when using numpy backend.\n",
      "WARNING:root:NumPy does not support autograd, declaring a 'variable' is identical to declaring an 'array' when using numpy backend.\n",
      "WARNING:root:NumPy does not support autograd, declaring a 'variable' is identical to declaring an 'array' when using numpy backend.\n",
      "WARNING:root:NumPy does not support autograd, declaring a 'variable' is identical to declaring an 'array' when using numpy backend.\n",
      "WARNING:root:NumPy does not support autograd, declaring a 'variable' is identical to declaring an 'array' when using numpy backend.\n",
      "WARNING:root:NumPy does not support autograd, declaring a 'variable' is identical to declaring an 'array' when using numpy backend.\n",
      "WARNING:root:NumPy does not support autograd, declaring a 'variable' is identical to declaring an 'array' when using numpy backend.\n",
      "WARNING:root:NumPy does not support autograd, declaring a 'variable' is identical to declaring an 'array' when using numpy backend.\n",
      "WARNING:root:NumPy does not support autograd, declaring a 'variable' is identical to declaring an 'array' when using numpy backend.\n",
      "WARNING:root:NumPy does not support autograd, declaring a 'variable' is identical to declaring an 'array' when using numpy backend.\n",
      "WARNING:root:NumPy does not support autograd, declaring a 'variable' is identical to declaring an 'array' when using numpy backend.\n",
      "WARNING:root:NumPy does not support autograd, declaring a 'variable' is identical to declaring an 'array' when using numpy backend.\n",
      "WARNING:root:NumPy does not support autograd, declaring a 'variable' is identical to declaring an 'array' when using numpy backend.\n",
      "WARNING:root:NumPy does not support autograd, declaring a 'variable' is identical to declaring an 'array' when using numpy backend.\n",
      "WARNING:root:NumPy does not support autograd, declaring a 'variable' is identical to declaring an 'array' when using numpy backend.\n",
      "WARNING:root:NumPy does not support autograd, declaring a 'variable' is identical to declaring an 'array' when using numpy backend.\n",
      "WARNING:root:NumPy does not support autograd, declaring a 'variable' is identical to declaring an 'array' when using numpy backend.\n",
      "WARNING:root:NumPy does not support autograd, declaring a 'variable' is identical to declaring an 'array' when using numpy backend.\n",
      "WARNING:root:NumPy does not support autograd, declaring a 'variable' is identical to declaring an 'array' when using numpy backend.\n",
      "WARNING:root:NumPy does not support autograd, declaring a 'variable' is identical to declaring an 'array' when using numpy backend.\n",
      "WARNING:root:NumPy does not support autograd, declaring a 'variable' is identical to declaring an 'array' when using numpy backend.\n",
      "WARNING:root:NumPy does not support autograd, declaring a 'variable' is identical to declaring an 'array' when using numpy backend.\n",
      "WARNING:root:NumPy does not support autograd, declaring a 'variable' is identical to declaring an 'array' when using numpy backend.\n",
      "WARNING:root:NumPy does not support autograd, declaring a 'variable' is identical to declaring an 'array' when using numpy backend.\n",
      "WARNING:root:NumPy does not support autograd, declaring a 'variable' is identical to declaring an 'array' when using numpy backend.\n",
      "WARNING:root:NumPy does not support autograd, declaring a 'variable' is identical to declaring an 'array' when using numpy backend.\n",
      "WARNING:root:NumPy does not support autograd, declaring a 'variable' is identical to declaring an 'array' when using numpy backend.\n",
      "WARNING:root:NumPy does not support autograd, declaring a 'variable' is identical to declaring an 'array' when using numpy backend.\n",
      "WARNING:root:NumPy does not support autograd, declaring a 'variable' is identical to declaring an 'array' when using numpy backend.\n",
      "WARNING:root:NumPy does not support autograd, declaring a 'variable' is identical to declaring an 'array' when using numpy backend.\n",
      "WARNING:root:NumPy does not support autograd, declaring a 'variable' is identical to declaring an 'array' when using numpy backend.\n",
      "WARNING:root:NumPy does not support autograd, declaring a 'variable' is identical to declaring an 'array' when using numpy backend.\n",
      "WARNING:root:NumPy does not support autograd, declaring a 'variable' is identical to declaring an 'array' when using numpy backend.\n",
      "WARNING:root:NumPy does not support autograd, declaring a 'variable' is identical to declaring an 'array' when using numpy backend.\n",
      "WARNING:root:NumPy does not support autograd, declaring a 'variable' is identical to declaring an 'array' when using numpy backend.\n"
     ]
    }
   ],
   "source": [
    "\n",
    "\n",
    "import warnings\n",
    "warnings.filterwarnings(\"ignore\")\n",
    "\n",
    "def test_resnet_18_img_classification():\n",
    "    \"\"\"Test ResNet-18 image classification.\"\"\"\n",
    "    num_classes = 1000\n",
    "\n",
    "    # Load image\n",
    "    img = ivy.asarray(\n",
    "        helpers.load_and_preprocess_img(\n",
    "            \"/models/images/cat.jpg\", 256, 224\n",
    "        ),\n",
    "    )\n",
    "\n",
    "    # Create model\n",
    "    model = resnet_18(pretrained=True)\n",
    "    \n",
    "    # Perform inference\n",
    "    output = model(img)\n",
    "\n",
    "    display(model.state_dict)\n",
    "    # Cardinality test\n",
    "    assert output.shape == tuple([ivy.to_scalar(True), num_classes])\n",
    "\n",
    "    # Value test\n",
    "    if True:\n",
    "        output = output[0]\n",
    "        true_indices = ivy.array([282, 281, 285])\n",
    "        calc_indices = ivy.argsort(output, descending=True)[:3]\n",
    "\n",
    "        assert np.array_equal(true_indices, calc_indices)\n",
    "\n",
    "        true_logits = np.array([0.7069, 0.2663, 0.0231])\n",
    "        calc_logits = np.take(\n",
    "            np_softmax(ivy.to_numpy(output)), ivy.to_numpy(calc_indices)\n",
    "        )\n",
    "\n",
    "        assert np.allclose(true_logits, calc_logits, rtol=0.005)\n",
    "\n",
    "\n",
    "test_resnet_18_img_classification()"
   ]
  }
 ],
 "metadata": {
  "kernelspec": {
   "display_name": "multienv",
   "language": "python",
   "name": "python3"
  },
  "language_info": {
   "codemirror_mode": {
    "name": "ipython",
    "version": 3
   },
   "file_extension": ".py",
   "mimetype": "text/x-python",
   "name": "python",
   "nbconvert_exporter": "python",
   "pygments_lexer": "ipython3",
   "version": "3.10.0"
  },
  "orig_nbformat": 4
 },
 "nbformat": 4,
 "nbformat_minor": 2
}
