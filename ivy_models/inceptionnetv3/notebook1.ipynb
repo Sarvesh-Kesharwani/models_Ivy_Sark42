{
 "cells": [
  {
   "cell_type": "code",
   "execution_count": 3,
   "metadata": {},
   "outputs": [
    {
     "name": "stdout",
     "output_type": "stream",
     "text": [
      "'done'\n"
     ]
    }
   ],
   "source": [
    "from pprint import pprint as pp\n",
    "pp(\"done\")"
   ]
  },
  {
   "cell_type": "code",
   "execution_count": 3,
   "metadata": {},
   "outputs": [
    {
     "ename": "ModuleNotFoundError",
     "evalue": "No module named 'ivy_models.inceptionnetv3'",
     "output_type": "error",
     "traceback": [
      "\u001b[0;31m---------------------------------------------------------------------------\u001b[0m",
      "\u001b[0;31mModuleNotFoundError\u001b[0m                       Traceback (most recent call last)",
      "Cell \u001b[0;32mIn[3], line 7\u001b[0m\n\u001b[1;32m      5\u001b[0m \u001b[39mimport\u001b[39;00m \u001b[39mivy\u001b[39;00m\n\u001b[1;32m      6\u001b[0m \u001b[39mimport\u001b[39;00m \u001b[39mivy_models\u001b[39;00m\n\u001b[0;32m----> 7\u001b[0m \u001b[39mfrom\u001b[39;00m \u001b[39mivy_models\u001b[39;00m\u001b[39m.\u001b[39;00m\u001b[39minceptionnetv3\u001b[39;00m\u001b[39m.\u001b[39;00m\u001b[39mlayers\u001b[39;00m \u001b[39mimport\u001b[39;00m Inception_BasicConv2d, Inception_InceptionAux, Inception_InceptionE, Inception_InceptionD, Inception_InceptionC, Inception_InceptionD, Inception_InceptionB, Inception_InceptionA\n\u001b[1;32m      8\u001b[0m \u001b[39mfrom\u001b[39;00m \u001b[39mivy_models\u001b[39;00m\u001b[39m.\u001b[39;00m\u001b[39mbase\u001b[39;00m \u001b[39mimport\u001b[39;00m BaseSpec, BaseModel\n",
      "\u001b[0;31mModuleNotFoundError\u001b[0m: No module named 'ivy_models.inceptionnetv3'"
     ]
    }
   ],
   "source": [
    "# global\n",
    "from typing import List, Optional, Type, Union\n",
    "import builtins\n",
    "\n",
    "import ivy\n",
    "import ivy_models\n",
    "from ivy_models.inceptionnetv3.layers import Inception_BasicConv2d, Inception_InceptionAux, Inception_InceptionE, Inception_InceptionD, Inception_InceptionC, Inception_InceptionD, Inception_InceptionB, Inception_InceptionA\n",
    "from ivy_models.base import BaseSpec, BaseModel"
   ]
  },
  {
   "cell_type": "code",
   "execution_count": null,
   "metadata": {},
   "outputs": [],
   "source": []
  },
  {
   "cell_type": "code",
   "execution_count": null,
   "metadata": {},
   "outputs": [],
   "source": []
  },
  {
   "cell_type": "code",
   "execution_count": null,
   "metadata": {},
   "outputs": [],
   "source": []
  },
  {
   "cell_type": "code",
   "execution_count": null,
   "metadata": {},
   "outputs": [],
   "source": []
  },
  {
   "cell_type": "markdown",
   "metadata": {},
   "source": [
    "# test_inceptionv3.py"
   ]
  },
  {
   "cell_type": "code",
   "execution_count": 4,
   "metadata": {},
   "outputs": [],
   "source": [
    "import os\n",
    "import random\n",
    "import ivy\n",
    "import pytest\n",
    "import numpy as np\n",
    "from ivy_models_tests import helpers\n",
    "# from ivy_models.inceptionv3 import inceptionNet_v3\n",
    "import jax\n",
    "jax.config.update(\"jax_enable_x64\", False)\n",
    "\n",
    "\n",
    "load_weights = random.choice([False, True])\n",
    "model = inceptionNet_v3(pretrained=load_weights)\n",
    "v = ivy.to_numpy(model.v)"
   ]
  },
  {
   "cell_type": "code",
   "execution_count": 11,
   "metadata": {},
   "outputs": [],
   "source": [
    "@pytest.mark.parametrize(\"data_format\", [\"NHWC\", \"NCHW\"])\n",
    "def test_inceptionV3_tiny_img_classification(device, fw, data_format):\n",
    "    \"\"\"Test AlexNet image classification.\"\"\"\n",
    "    num_classes = 1000\n",
    "    batch_shape = [1]\n",
    "    this_dir = os.path.dirname(os.path.realpath(__file__))\n",
    "    pp(f\"done 1/5 ------------------------------------------------\")\n",
    "    \n",
    "    # Load image\n",
    "    img = helpers.load_and_preprocess_img(\n",
    "        os.path.join(this_dir, \"..\", \"..\", \"images\", \"dog.jpg\"),\n",
    "        256,\n",
    "        224,\n",
    "        data_format=data_format,\n",
    "        to_ivy=True,\n",
    "    )\n",
    "    pp(f\"done 2/5 ------------------------------------------------\")\n",
    "    \n",
    "    model.v = ivy.asarray(v)\n",
    "    logits, _ = model(img, data_format=data_format)\n",
    "    pp(f\"done 3/4 ------------------------------------------------\")\n",
    "    \n",
    "    # Cardinality test\n",
    "    assert logits.shape == tuple([ivy.to_scalar(batch_shape), num_classes])\n",
    "    pp(f\"done 4/5 ------------------------------------------------\")\n",
    "    \n",
    "    \n",
    "    # Value test\n",
    "    if load_weights:\n",
    "        np_out = ivy.to_numpy(logits[0])\n",
    "        true_indices = np.array([258, 270, 279])\n",
    "        calc_indices = np.argsort(np_out)[-5:][::-1]\n",
    "        assert np.array_equal(true_indices, calc_indices)\n",
    "\n",
    "        true_logits = np.array([9.9990e-01, 8.3909e-05, 1.1693e-05])\n",
    "        calc_logits = np.take(np_out, calc_indices)\n",
    "        assert np.allclose(true_logits, calc_logits, rtol=1)\n",
    "    pp(f\"done 5/5 ------------------------------------------------\")"
   ]
  },
  {
   "cell_type": "code",
   "execution_count": 14,
   "metadata": {},
   "outputs": [
    {
     "name": "stdout",
     "output_type": "stream",
     "text": [
      "\u001b[1m============================= test session starts ==============================\u001b[0m\n",
      "platform linux -- Python 3.10.0, pytest-7.4.0, pluggy-1.2.0\n",
      "rootdir: /ivy_models\n",
      "plugins: anyio-3.7.1, metadata-3.0.0, json-report-1.5.0, hypothesis-6.82.3\n",
      "collected 0 items                                                              \u001b[0m\n",
      "\n",
      "\u001b[33m============================ \u001b[33mno tests ran\u001b[0m\u001b[33m in 0.01s\u001b[0m\u001b[33m =============================\u001b[0m\n",
      "\u001b[31mERROR: file or directory not found: test_inceptionV3_tiny_img_classification\n",
      "\u001b[0m\n"
     ]
    }
   ],
   "source": [
    "! pytest test_inceptionV3_tiny_img_classification --backend torch"
   ]
  },
  {
   "cell_type": "code",
   "execution_count": null,
   "metadata": {},
   "outputs": [],
   "source": []
  }
 ],
 "metadata": {
  "kernelspec": {
   "display_name": "Python 3",
   "language": "python",
   "name": "python3"
  },
  "language_info": {
   "codemirror_mode": {
    "name": "ipython",
    "version": 3
   },
   "file_extension": ".py",
   "mimetype": "text/x-python",
   "name": "python",
   "nbconvert_exporter": "python",
   "pygments_lexer": "ipython3",
   "version": "3.10.0"
  },
  "orig_nbformat": 4
 },
 "nbformat": 4,
 "nbformat_minor": 2
}
